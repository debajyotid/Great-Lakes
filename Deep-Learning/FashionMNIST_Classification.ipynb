{
 "cells": [
  {
   "cell_type": "markdown",
   "metadata": {
    "colab_type": "text",
    "id": "YYk8NG3yOIT9"
   },
   "source": [
    "### A MNIST-like fashion product database\n",
    "\n",
    "In this, we classify the images into respective classes given in the dataset. We use a Neural Net and a Deep Neural Net in Keras to solve this and check the accuracy scores."
   ]
  },
  {
   "cell_type": "markdown",
   "metadata": {
    "colab_type": "text",
    "id": "tFO6PuxzOIT_",
    "slideshow": {
     "slide_type": "slide"
    }
   },
   "source": [
    "### Load tensorflow"
   ]
  },
  {
   "cell_type": "code",
   "execution_count": 1,
   "metadata": {
    "colab": {},
    "colab_type": "code",
    "id": "efNjNImfOIUC",
    "tags": []
   },
   "outputs": [
    {
     "output_type": "stream",
     "name": "stdout",
     "text": "2.2.0\n"
    }
   ],
   "source": [
    "import tensorflow as tf\n",
    "print (tf.__version__)\n",
    "tf.random.set_seed(100)\n",
    "tf.keras.backend.clear_session()"
   ]
  },
  {
   "cell_type": "markdown",
   "metadata": {
    "colab_type": "text",
    "id": "HcoZBStrOIUQ",
    "slideshow": {
     "slide_type": "slide"
    }
   },
   "source": [
    "### Collect Data"
   ]
  },
  {
   "cell_type": "code",
   "execution_count": 2,
   "metadata": {
    "colab": {},
    "colab_type": "code",
    "id": "XA1WsFSeOIUS"
   },
   "outputs": [],
   "source": [
    "import numpy as np\n",
    "import pandas as pd\n",
    "from sklearn import metrics\n",
    "import matplotlib.pyplot as plt\n",
    "%matplotlib inline\n",
    "\n",
    "from sklearn.preprocessing import MinMaxScaler\n",
    "\n",
    "from tensorflow import keras\n",
    "from tensorflow.keras import Sequential\n",
    "from tensorflow.keras.layers import Dense #Creating a Dense DNN"
   ]
  },
  {
   "cell_type": "code",
   "execution_count": 3,
   "metadata": {
    "colab": {},
    "colab_type": "code",
    "id": "qnbx7TyQOIUY"
   },
   "outputs": [],
   "source": [
    "(xtrain,ytrain),(xtest,ytest) = keras.datasets.fashion_mnist.load_data()"
   ]
  },
  {
   "cell_type": "code",
   "execution_count": 4,
   "metadata": {
    "colab": {},
    "colab_type": "code",
    "id": "UbiHj5YPOIUc",
    "outputId": "87e1b9cd-07f0-45cb-e706-0d51ad742d72",
    "slideshow": {
     "slide_type": "fragment"
    },
    "tags": []
   },
   "outputs": [
    {
     "output_type": "stream",
     "name": "stdout",
     "text": "[9 2 1 1 6]\n"
    }
   ],
   "source": [
    "print(ytest[0:5])"
   ]
  },
  {
   "cell_type": "code",
   "execution_count": 5,
   "metadata": {},
   "outputs": [
    {
     "output_type": "execute_result",
     "data": {
      "text/plain": "(60000, 28, 28)"
     },
     "metadata": {},
     "execution_count": 5
    }
   ],
   "source": [
    "xtrain.shape"
   ]
  },
  {
   "cell_type": "code",
   "execution_count": 6,
   "metadata": {},
   "outputs": [
    {
     "output_type": "execute_result",
     "data": {
      "text/plain": "array([[  0,   0,   0,   0,   0,   1,   0,   0,   0,   0,  41, 188, 103,\n         54,  48,  43,  87, 168, 133,  16,   0,   0,   0,   0,   0,   0,\n          0,   0],\n       [  0,   0,   0,   1,   0,   0,   0,  49, 136, 219, 216, 228, 236,\n        255, 255, 255, 255, 217, 215, 254, 231, 160,  45,   0,   0,   0,\n          0,   0],\n       [  0,   0,   0,   0,   0,  14, 176, 222, 224, 212, 203, 198, 196,\n        200, 215, 204, 202, 201, 201, 201, 209, 218, 224, 164,   0,   0,\n          0,   0],\n       [  0,   0,   0,   0,   0, 188, 219, 200, 198, 202, 198, 199, 199,\n        201, 196, 198, 198, 200, 200, 200, 200, 201, 200, 225,  41,   0,\n          0,   0],\n       [  0,   0,   0,   0,  51, 219, 199, 203, 203, 212, 238, 248, 250,\n        245, 249, 246, 247, 252, 248, 235, 207, 203, 203, 222, 140,   0,\n          0,   0],\n       [  0,   0,   0,   0, 116, 226, 206, 204, 207, 204, 101,  75,  47,\n         73,  48,  50,  45,  51,  63, 113, 222, 202, 206, 220, 224,   0,\n          0,   0],\n       [  0,   0,   0,   0, 200, 222, 209, 203, 215, 200,   0,  70,  98,\n          0, 103,  59,  68,  71,  49,   0, 219, 206, 214, 210, 250,  38,\n          0,   0],\n       [  0,   0,   0,   0, 247, 218, 212, 210, 215, 214,   0, 254, 243,\n        139, 255, 174, 251, 255, 205,   0, 215, 217, 214, 208, 220,  95,\n          0,   0],\n       [  0,   0,   0,  45, 226, 214, 214, 215, 224, 205,   0,  42,  35,\n         60,  16,  17,  12,  13,  70,   0, 189, 216, 212, 206, 212, 156,\n          0,   0],\n       [  0,   0,   0, 164, 235, 214, 211, 220, 216, 201,  52,  71,  89,\n         94,  83,  78,  70,  76,  92,  87, 206, 207, 222, 213, 219, 208,\n          0,   0],\n       [  0,   0,   0, 106, 187, 223, 237, 248, 211, 198, 252, 250, 248,\n        245, 248, 252, 253, 250, 252, 239, 201, 212, 225, 215, 193, 113,\n          0,   0],\n       [  0,   0,   0,   0,   0,  17,  54, 159, 222, 193, 208, 192, 197,\n        200, 200, 200, 200, 201, 203, 195, 210, 165,   0,   0,   0,   0,\n          0,   0],\n       [  0,   0,   0,   0,   0,   0,   0,  47, 225, 192, 214, 203, 206,\n        204, 204, 205, 206, 204, 212, 197, 218, 107,   0,   0,   0,   0,\n          0,   0],\n       [  0,   0,   0,   0,   1,   6,   0,  46, 212, 195, 212, 202, 206,\n        205, 204, 205, 206, 204, 212, 200, 218,  91,   0,   3,   1,   0,\n          0,   0],\n       [  0,   0,   0,   0,   0,   1,   0,  11, 197, 199, 205, 202, 205,\n        206, 204, 205, 207, 204, 205, 205, 218,  77,   0,   5,   0,   0,\n          0,   0],\n       [  0,   0,   0,   0,   0,   3,   0,   2, 191, 198, 201, 205, 206,\n        205, 205, 206, 209, 206, 199, 209, 219,  74,   0,   5,   0,   0,\n          0,   0],\n       [  0,   0,   0,   0,   0,   2,   0,   0, 188, 197, 200, 207, 207,\n        204, 207, 207, 210, 208, 198, 207, 221,  72,   0,   4,   0,   0,\n          0,   0],\n       [  0,   0,   0,   0,   0,   2,   0,   0, 215, 198, 203, 206, 208,\n        205, 207, 207, 210, 208, 200, 202, 222,  75,   0,   4,   0,   0,\n          0,   0],\n       [  0,   0,   0,   0,   0,   1,   0,   0, 212, 198, 209, 206, 209,\n        206, 208, 207, 211, 206, 205, 198, 221,  80,   0,   3,   0,   0,\n          0,   0],\n       [  0,   0,   0,   0,   0,   1,   0,   0, 204, 201, 205, 208, 207,\n        205, 211, 205, 210, 210, 209, 195, 221,  96,   0,   3,   0,   0,\n          0,   0],\n       [  0,   0,   0,   0,   0,   1,   0,   0, 202, 201, 205, 209, 207,\n        205, 213, 206, 210, 209, 210, 194, 217, 105,   0,   2,   0,   0,\n          0,   0],\n       [  0,   0,   0,   0,   0,   1,   0,   0, 204, 204, 205, 208, 207,\n        205, 215, 207, 210, 208, 211, 193, 213, 115,   0,   2,   0,   0,\n          0,   0],\n       [  0,   0,   0,   0,   0,   0,   0,   0, 204, 207, 207, 208, 206,\n        206, 215, 210, 210, 207, 212, 195, 210, 118,   0,   2,   0,   0,\n          0,   0],\n       [  0,   0,   0,   0,   0,   1,   0,   0, 198, 208, 208, 208, 204,\n        207, 212, 212, 210, 207, 211, 196, 207, 121,   0,   1,   0,   0,\n          0,   0],\n       [  0,   0,   0,   0,   0,   1,   0,   0, 198, 210, 207, 208, 206,\n        209, 213, 212, 211, 207, 210, 197, 207, 124,   0,   1,   0,   0,\n          0,   0],\n       [  0,   0,   0,   0,   0,   0,   0,   0, 172, 210, 203, 201, 199,\n        204, 207, 205, 204, 201, 205, 197, 206, 127,   0,   0,   0,   0,\n          0,   0],\n       [  0,   0,   0,   0,   0,   0,   0,   0, 188, 221, 214, 234, 236,\n        238, 244, 244, 244, 240, 243, 214, 224, 162,   0,   2,   0,   0,\n          0,   0],\n       [  0,   0,   0,   0,   0,   1,   0,   0, 139, 146, 130, 135, 135,\n        137, 125, 124, 125, 121, 119, 114, 130,  76,   0,   0,   0,   0,\n          0,   0]], dtype=uint8)"
     },
     "metadata": {},
     "execution_count": 6
    }
   ],
   "source": [
    "xtrain[1]"
   ]
  },
  {
   "cell_type": "code",
   "execution_count": 6,
   "metadata": {},
   "outputs": [
    {
     "data": {
      "text/plain": [
       "9    6000\n",
       "8    6000\n",
       "7    6000\n",
       "6    6000\n",
       "5    6000\n",
       "4    6000\n",
       "3    6000\n",
       "2    6000\n",
       "1    6000\n",
       "0    6000\n",
       "Name: 0, dtype: int64"
      ]
     },
     "execution_count": 6,
     "metadata": {},
     "output_type": "execute_result"
    }
   ],
   "source": [
    "L=pd.DataFrame(ytrain)\n",
    "L[0].value_counts()"
   ]
  },
  {
   "cell_type": "markdown",
   "metadata": {},
   "source": [
    "#### *There are 60000 records in the dataset for training, and each consists of an image of size 28X28 pixels. The images are of 10 classes, and the class distribution seems to be uniform from the above value_counts().*"
   ]
  },
  {
   "cell_type": "markdown",
   "metadata": {
    "colab_type": "text",
    "id": "lDAYzkwyOIUj",
    "slideshow": {
     "slide_type": "slide"
    }
   },
   "source": [
    "### Convert both training and testing labels into one-hot vectors.\n",
    "\n",
    "**Hint:** check **tf.keras.utils.to_categorical()**"
   ]
  },
  {
   "cell_type": "code",
   "execution_count": 7,
   "metadata": {
    "colab": {},
    "colab_type": "code",
    "id": "vBlfYlANOIUk"
   },
   "outputs": [],
   "source": [
    "y_train = keras.utils.to_categorical(ytrain, 10)\n",
    "y_test = keras.utils.to_categorical(ytest, 10)"
   ]
  },
  {
   "cell_type": "code",
   "execution_count": 8,
   "metadata": {
    "colab": {},
    "colab_type": "code",
    "id": "RHV3b9mzOIUq",
    "outputId": "27bdfe58-91ee-4677-fe49-e742ad306c70",
    "scrolled": true,
    "slideshow": {
     "slide_type": "fragment"
    }
   },
   "outputs": [
    {
     "name": "stdout",
     "output_type": "stream",
     "text": [
      "(60000, 10)\n",
      "First 5 examples now are:  [[0. 0. 0. 0. 0. 0. 0. 0. 0. 1.]\n",
      " [1. 0. 0. 0. 0. 0. 0. 0. 0. 0.]\n",
      " [1. 0. 0. 0. 0. 0. 0. 0. 0. 0.]\n",
      " [0. 0. 0. 1. 0. 0. 0. 0. 0. 0.]\n",
      " [1. 0. 0. 0. 0. 0. 0. 0. 0. 0.]]\n"
     ]
    }
   ],
   "source": [
    "print(y_train.shape)\n",
    "print('First 5 examples now are: ', y_train[0:5])"
   ]
  },
  {
   "cell_type": "markdown",
   "metadata": {
    "colab_type": "text",
    "id": "FwhQ8e7VOIUw"
   },
   "source": [
    "### Visualize the data\n",
    "\n",
    "Plot first 10 images in the triaining set and their labels."
   ]
  },
  {
   "cell_type": "code",
   "execution_count": 9,
   "metadata": {},
   "outputs": [
    {
     "name": "stdout",
     "output_type": "stream",
     "text": [
      "Label associated with 0 image:  9\n",
      "Label associated with 1 image:  0\n",
      "Label associated with 2 image:  0\n",
      "Label associated with 3 image:  3\n",
      "Label associated with 4 image:  0\n",
      "Label associated with 5 image:  2\n",
      "Label associated with 6 image:  7\n",
      "Label associated with 7 image:  2\n",
      "Label associated with 8 image:  5\n",
      "Label associated with 9 image:  5\n"
     ]
    },
    {
     "data": {
      "image/png": "[encoded data removed]",
      "text/plain": [
       "<Figure size 3600x3600 with 10 Axes>"
      ]
     },
     "metadata": {
      "needs_background": "light"
     },
     "output_type": "display_data"
    }
   ],
   "source": [
    "plt.figure(figsize=(50,50))\n",
    "for i in range(10):\n",
    "    plt.subplot(1, 10, i+1)\n",
    "    plt.imshow(xtrain[i,:,:],cmap='gray')\n",
    "    print ('Label associated with %d image: '%i,ytrain[i])"
   ]
  },
  {
   "cell_type": "markdown",
   "metadata": {
    "colab_type": "text",
    "id": "l4TbJGeSOIU4",
    "slideshow": {
     "slide_type": "slide"
    }
   },
   "source": [
    "### Build a neural Network with a cross entropy loss function and sgd optimizer in Keras. The output layer with 10 neurons as we have 10 classes."
   ]
  },
  {
   "cell_type": "code",
   "execution_count": 10,
   "metadata": {
    "colab": {},
    "colab_type": "code",
    "id": "Ac06XZZTOIU6"
   },
   "outputs": [],
   "source": [
    "# Initialize the constructor\n",
    "model1 = Sequential()"
   ]
  },
  {
   "cell_type": "code",
   "execution_count": 13,
   "metadata": {},
   "outputs": [],
   "source": [
    "# Define model architecture\n",
    "model1.add(tf.keras.layers.Reshape((784,),input_shape=(28,28,)))\n",
    "model1.add(Dense(500,activation='relu'))\n",
    "model1.add(Dense(100, activation ='relu'))\n",
    "model1.add(Dense(10,activation='softmax'))\n",
    "#Creating a DNN with 2 hidden layers & 1 outer layer (with 10 class/neuron and hence activation function as SOFTMAX)"
   ]
  },
  {
   "cell_type": "code",
   "execution_count": 14,
   "metadata": {},
   "outputs": [],
   "source": [
    "model1.compile(loss='categorical_crossentropy',optimizer='sgd',metrics=['accuracy'])"
   ]
  },
  {
   "cell_type": "markdown",
   "metadata": {
    "colab_type": "text",
    "id": "3hQpLv3aOIU_",
    "slideshow": {
     "slide_type": "slide"
    }
   },
   "source": [
    "### Execute the model using model.fit()"
   ]
  },
  {
   "cell_type": "code",
   "execution_count": 16,
   "metadata": {
    "colab": {},
    "colab_type": "code",
    "id": "O59C_-IgOIVB"
   },
   "outputs": [
    {
     "name": "stdout",
     "output_type": "stream",
     "text": [
      "Train on 60000 samples\n",
      "Epoch 1/10\n",
      "60000/60000 [==============================] - 4s 74us/sample - loss: nan - accuracy: 0.0998\n",
      "Epoch 2/10\n",
      "60000/60000 [==============================] - 4s 59us/sample - loss: nan - accuracy: 0.1000\n",
      "Epoch 3/10\n",
      "60000/60000 [==============================] - 4s 59us/sample - loss: nan - accuracy: 0.1000\n",
      "Epoch 4/10\n",
      "60000/60000 [==============================] - 4s 60us/sample - loss: nan - accuracy: 0.1000\n",
      "Epoch 5/10\n",
      "60000/60000 [==============================] - 4s 60us/sample - loss: nan - accuracy: 0.1000\n",
      "Epoch 6/10\n",
      "60000/60000 [==============================] - 4s 61us/sample - loss: nan - accuracy: 0.1000\n",
      "Epoch 7/10\n",
      "60000/60000 [==============================] - 3s 50us/sample - loss: nan - accuracy: 0.1000\n",
      "Epoch 8/10\n",
      "60000/60000 [==============================] - 4s 65us/sample - loss: nan - accuracy: 0.1000ETA: 0s - loss: nan - accuracy: 0.10\n",
      "Epoch 9/10\n",
      "60000/60000 [==============================] - 4s 73us/sample - loss: nan - accuracy: 0.1000\n",
      "Epoch 10/10\n",
      "60000/60000 [==============================] - 3s 56us/sample - loss: nan - accuracy: 0.10002s - loss: nan - accuracy: 0.1 \n"
     ]
    },
    {
     "data": {
      "text/plain": [
       "<tensorflow.python.keras.callbacks.History at 0x1e3bf898948>"
      ]
     },
     "execution_count": 16,
     "metadata": {},
     "output_type": "execute_result"
    }
   ],
   "source": [
    "model1.fit(xtrain, y_train, epochs=10, batch_size=256, verbose=1)"
   ]
  },
  {
   "cell_type": "code",
   "execution_count": 17,
   "metadata": {},
   "outputs": [
    {
     "name": "stdout",
     "output_type": "stream",
     "text": [
      "Model: \"sequential\"\n",
      "_________________________________________________________________\n",
      "Layer (type)                 Output Shape              Param #   \n",
      "=================================================================\n",
      "reshape (Reshape)            (None, 784)               0         \n",
      "_________________________________________________________________\n",
      "dense (Dense)                (None, 500)               392500    \n",
      "_________________________________________________________________\n",
      "dense_1 (Dense)              (None, 100)               50100     \n",
      "_________________________________________________________________\n",
      "dense_2 (Dense)              (None, 10)                1010      \n",
      "=================================================================\n",
      "Total params: 443,610\n",
      "Trainable params: 443,610\n",
      "Non-trainable params: 0\n",
      "_________________________________________________________________\n"
     ]
    }
   ],
   "source": [
    "model1.summary()"
   ]
  },
  {
   "cell_type": "markdown",
   "metadata": {
    "colab_type": "text",
    "id": "JdzDtGwDOIVF",
    "slideshow": {
     "slide_type": "slide"
    }
   },
   "source": [
    "### In the above Neural Network model add Batch Normalization layer after the input layer and repeat the steps."
   ]
  },
  {
   "cell_type": "code",
   "execution_count": 43,
   "metadata": {
    "colab": {},
    "colab_type": "code",
    "id": "kndfpdidOIVI"
   },
   "outputs": [],
   "source": [
    "# Define model architecture\n",
    "#Initialize Sequential model\n",
    "model2 = tf.keras.models.Sequential()\n",
    "model2.add(tf.keras.layers.Reshape((784,),input_shape=(28,28,)))\n",
    "#Normalize the data\n",
    "model2.add(tf.keras.layers.BatchNormalization())\n",
    "model2.add(Dense(500, activation ='relu'))\n",
    "model2.add(Dense(100, activation ='relu'))\n",
    "model2.add(Dense(10,activation='softmax'))"
   ]
  },
  {
   "cell_type": "code",
   "execution_count": 44,
   "metadata": {},
   "outputs": [],
   "source": [
    "model2.compile(loss='categorical_crossentropy',optimizer='sgd',metrics=['accuracy'])"
   ]
  },
  {
   "cell_type": "markdown",
   "metadata": {
    "colab_type": "text",
    "id": "mwk3T5LJOIVN",
    "slideshow": {
     "slide_type": "slide"
    }
   },
   "source": [
    "### Execute the model"
   ]
  },
  {
   "cell_type": "code",
   "execution_count": 45,
   "metadata": {
    "colab": {},
    "colab_type": "code",
    "id": "JNLR8tcBOIVP"
   },
   "outputs": [
    {
     "name": "stdout",
     "output_type": "stream",
     "text": [
      "Train on 60000 samples\n",
      "Epoch 1/10\n",
      "60000/60000 [==============================] - 7s 125us/sample - loss: 0.8301 - accuracy: 0.7277\n",
      "Epoch 2/10\n",
      "60000/60000 [==============================] - 8s 132us/sample - loss: 0.5243 - accuracy: 0.8175\n",
      "Epoch 3/10\n",
      "60000/60000 [==============================] - 6s 99us/sample - loss: 0.4619 - accuracy: 0.8390\n",
      "Epoch 4/10\n",
      "60000/60000 [==============================] - 5s 80us/sample - loss: 0.4285 - accuracy: 0.8495\n",
      "Epoch 5/10\n",
      "60000/60000 [==============================] - 6s 93us/sample - loss: 0.4065 - accuracy: 0.8563\n",
      "Epoch 6/10\n",
      "60000/60000 [==============================] - 5s 86us/sample - loss: 0.3892 - accuracy: 0.8631\n",
      "Epoch 7/10\n",
      "60000/60000 [==============================] - 6s 98us/sample - loss: 0.3756 - accuracy: 0.8668\n",
      "Epoch 8/10\n",
      "60000/60000 [==============================] - 6s 102us/sample - loss: 0.3651 - accuracy: 0.8701\n",
      "Epoch 9/10\n",
      "60000/60000 [==============================] - 6s 98us/sample - loss: 0.3544 - accuracy: 0.8751\n",
      "Epoch 10/10\n",
      "60000/60000 [==============================] - 5s 86us/sample - loss: 0.3461 - accuracy: 0.8765\n"
     ]
    },
    {
     "data": {
      "text/plain": [
       "<tensorflow.python.keras.callbacks.History at 0x1f8694801c8>"
      ]
     },
     "execution_count": 45,
     "metadata": {},
     "output_type": "execute_result"
    }
   ],
   "source": [
    "model2.fit(xtrain, y_train, epochs=10, batch_size=256, verbose=1)"
   ]
  },
  {
   "cell_type": "code",
   "execution_count": 46,
   "metadata": {},
   "outputs": [
    {
     "name": "stdout",
     "output_type": "stream",
     "text": [
      "Model: \"sequential_1\"\n",
      "_________________________________________________________________\n",
      "Layer (type)                 Output Shape              Param #   \n",
      "=================================================================\n",
      "reshape_1 (Reshape)          (None, 784)               0         \n",
      "_________________________________________________________________\n",
      "batch_normalization (BatchNo (None, 784)               3136      \n",
      "_________________________________________________________________\n",
      "dense_3 (Dense)              (None, 500)               392500    \n",
      "_________________________________________________________________\n",
      "dense_4 (Dense)              (None, 100)               50100     \n",
      "_________________________________________________________________\n",
      "dense_5 (Dense)              (None, 10)                1010      \n",
      "=================================================================\n",
      "Total params: 446,746\n",
      "Trainable params: 445,178\n",
      "Non-trainable params: 1,568\n",
      "_________________________________________________________________\n"
     ]
    }
   ],
   "source": [
    "model2.summary()"
   ]
  },
  {
   "cell_type": "markdown",
   "metadata": {
    "colab_type": "text",
    "id": "Py-KwkmjOIVU"
   },
   "source": [
    "### Customize the learning rate to 0.001 in sgd optimizer and run the model"
   ]
  },
  {
   "cell_type": "code",
   "execution_count": 47,
   "metadata": {},
   "outputs": [],
   "source": [
    "# Define model architecture\n",
    "#Initialize Sequential model\n",
    "model3 = tf.keras.models.Sequential()\n",
    "model3.add(tf.keras.layers.Reshape((784,),input_shape=(28,28,)))\n",
    "#Normalize the data\n",
    "model3.add(tf.keras.layers.BatchNormalization())\n",
    "model3.add(Dense(500, activation ='relu'))\n",
    "model3.add(Dense(100, activation ='relu'))\n",
    "model3.add(Dense(10,activation='softmax'))"
   ]
  },
  {
   "cell_type": "code",
   "execution_count": 48,
   "metadata": {
    "colab": {},
    "colab_type": "code",
    "id": "yLXUE9jWOIVV"
   },
   "outputs": [],
   "source": [
    "#Create optimizer with non-default learning rate\n",
    "sgd_optimizer = tf.keras.optimizers.SGD(lr=0.001)\n",
    "#Compile the model\n",
    "model3.compile(loss='categorical_crossentropy',optimizer=sgd_optimizer,metrics=['accuracy'])"
   ]
  },
  {
   "cell_type": "code",
   "execution_count": 49,
   "metadata": {
    "colab": {},
    "colab_type": "code",
    "id": "pJUqA5T4OIVc"
   },
   "outputs": [
    {
     "name": "stdout",
     "output_type": "stream",
     "text": [
      "Train on 60000 samples\n",
      "Epoch 1/10\n",
      "60000/60000 [==============================] - 6s 101us/sample - loss: 1.5704 - accuracy: 0.5146\n",
      "Epoch 2/10\n",
      "60000/60000 [==============================] - 5s 88us/sample - loss: 0.9982 - accuracy: 0.6986\n",
      "Epoch 3/10\n",
      "60000/60000 [==============================] - 5s 78us/sample - loss: 0.8310 - accuracy: 0.7380\n",
      "Epoch 4/10\n",
      "60000/60000 [==============================] - 5s 86us/sample - loss: 0.7464 - accuracy: 0.7581\n",
      "Epoch 5/10\n",
      "60000/60000 [==============================] - 5s 91us/sample - loss: 0.6935 - accuracy: 0.7702\n",
      "Epoch 6/10\n",
      "60000/60000 [==============================] - 5s 90us/sample - loss: 0.6555 - accuracy: 0.7801\n",
      "Epoch 7/10\n",
      "60000/60000 [==============================] - 6s 107us/sample - loss: 0.6260 - accuracy: 0.7888\n",
      "Epoch 8/10\n",
      "60000/60000 [==============================] - 7s 109us/sample - loss: 0.6025 - accuracy: 0.7949\n",
      "Epoch 9/10\n",
      "60000/60000 [==============================] - 7s 114us/sample - loss: 0.5834 - accuracy: 0.7998\n",
      "Epoch 10/10\n",
      "60000/60000 [==============================] - 11s 176us/sample - loss: 0.5673 - accuracy: 0.8037\n"
     ]
    },
    {
     "data": {
      "text/plain": [
       "<tensorflow.python.keras.callbacks.History at 0x1f8693ddb08>"
      ]
     },
     "execution_count": 49,
     "metadata": {},
     "output_type": "execute_result"
    }
   ],
   "source": [
    "model3.fit(xtrain, y_train, epochs=10, batch_size=256, verbose=1)"
   ]
  },
  {
   "cell_type": "code",
   "execution_count": 50,
   "metadata": {},
   "outputs": [
    {
     "name": "stdout",
     "output_type": "stream",
     "text": [
      "Model: \"sequential_2\"\n",
      "_________________________________________________________________\n",
      "Layer (type)                 Output Shape              Param #   \n",
      "=================================================================\n",
      "reshape_2 (Reshape)          (None, 784)               0         \n",
      "_________________________________________________________________\n",
      "batch_normalization_1 (Batch (None, 784)               3136      \n",
      "_________________________________________________________________\n",
      "dense_6 (Dense)              (None, 500)               392500    \n",
      "_________________________________________________________________\n",
      "dense_7 (Dense)              (None, 100)               50100     \n",
      "_________________________________________________________________\n",
      "dense_8 (Dense)              (None, 10)                1010      \n",
      "=================================================================\n",
      "Total params: 446,746\n",
      "Trainable params: 445,178\n",
      "Non-trainable params: 1,568\n",
      "_________________________________________________________________\n"
     ]
    }
   ],
   "source": [
    "model3.summary()"
   ]
  },
  {
   "cell_type": "markdown",
   "metadata": {
    "colab_type": "text",
    "id": "j9CSqKvpOIVk",
    "slideshow": {
     "slide_type": "slide"
    }
   },
   "source": [
    "### Build the Neural Network model with 3 Dense layers with 100,100,10 neurons respectively in each layer. Use cross entropy loss function and sigmoid as activation in the hidden layers and softmax as activation function in the output layer. Use sgd optimizer with learning rate 0.03."
   ]
  },
  {
   "cell_type": "code",
   "execution_count": 18,
   "metadata": {
    "colab": {},
    "colab_type": "code",
    "id": "GGAad54JOIVm"
   },
   "outputs": [],
   "source": [
    "# Define model architecture\n",
    "#Initialize Sequential model\n",
    "model4 = tf.keras.models.Sequential()\n",
    "model4.add(tf.keras.layers.Reshape((784,),input_shape=(28,28,)))\n",
    "model4.add(tf.keras.layers.BatchNormalization())\n",
    "model4.add(Dense(100,activation='sigmoid'))\n",
    "model4.add(Dense(100, activation ='sigmoid'))\n",
    "model4.add(Dense(10,activation='softmax'))"
   ]
  },
  {
   "cell_type": "code",
   "execution_count": 19,
   "metadata": {
    "colab": {},
    "colab_type": "code",
    "id": "MQ7oIymROIVp"
   },
   "outputs": [],
   "source": [
    "#Create optimizer with non-default learning rate\n",
    "sgd_optimizer = tf.keras.optimizers.SGD(lr=0.03)\n",
    "#Compile the model\n",
    "model4.compile(optimizer=sgd_optimizer, loss='categorical_crossentropy', metrics=['accuracy'])"
   ]
  },
  {
   "cell_type": "markdown",
   "metadata": {
    "colab_type": "text",
    "id": "gfFGmbZLOIV5",
    "slideshow": {
     "slide_type": "slide"
    }
   },
   "source": [
    "### Run the model"
   ]
  },
  {
   "cell_type": "code",
   "execution_count": 20,
   "metadata": {
    "colab": {},
    "colab_type": "code",
    "id": "bIkbMEN5OIV7"
   },
   "outputs": [
    {
     "name": "stdout",
     "output_type": "stream",
     "text": [
      "Train on 60000 samples, validate on 10000 samples\n",
      "Epoch 1/10\n",
      "60000/60000 [==============================] - 2s 38us/sample - loss: 1.9271 - accuracy: 0.5051 - val_loss: 1.5783 - val_accuracy: 0.6618\n",
      "Epoch 2/10\n",
      "60000/60000 [==============================] - 2s 30us/sample - loss: 1.3537 - accuracy: 0.6868 - val_loss: 1.1636 - val_accuracy: 0.7143\n",
      "Epoch 3/10\n",
      "60000/60000 [==============================] - 2s 33us/sample - loss: 1.0381 - accuracy: 0.7297 - val_loss: 0.9388 - val_accuracy: 0.7365\n",
      "Epoch 4/10\n",
      "60000/60000 [==============================] - 2s 31us/sample - loss: 0.8629 - accuracy: 0.7458 - val_loss: 0.8112 - val_accuracy: 0.7479\n",
      "Epoch 5/10\n",
      "60000/60000 [==============================] - 2s 30us/sample - loss: 0.7614 - accuracy: 0.7564 - val_loss: 0.7346 - val_accuracy: 0.7544\n",
      "Epoch 6/10\n",
      "60000/60000 [==============================] - 2s 30us/sample - loss: 0.6967 - accuracy: 0.7659 - val_loss: 0.6839 - val_accuracy: 0.7635\n",
      "Epoch 7/10\n",
      "60000/60000 [==============================] - 2s 30us/sample - loss: 0.6513 - accuracy: 0.7766 - val_loss: 0.6468 - val_accuracy: 0.7739\n",
      "Epoch 8/10\n",
      "60000/60000 [==============================] - 2s 34us/sample - loss: 0.6175 - accuracy: 0.7851 - val_loss: 0.6173 - val_accuracy: 0.7821\n",
      "Epoch 9/10\n",
      "60000/60000 [==============================] - 2s 35us/sample - loss: 0.5895 - accuracy: 0.7935 - val_loss: 0.5937 - val_accuracy: 0.7894\n",
      "Epoch 10/10\n",
      "60000/60000 [==============================] - 2s 33us/sample - loss: 0.5665 - accuracy: 0.8014 - val_loss: 0.5740 - val_accuracy: 0.7957\n"
     ]
    },
    {
     "data": {
      "text/plain": [
       "<tensorflow.python.keras.callbacks.History at 0x1e3bfc17808>"
      ]
     },
     "execution_count": 20,
     "metadata": {},
     "output_type": "execute_result"
    }
   ],
   "source": [
    "model4.fit(xtrain, y_train, validation_data=(xtest,y_test), epochs=10, batch_size=256, verbose=1)"
   ]
  },
  {
   "cell_type": "markdown",
   "metadata": {},
   "source": [
    "## Review model"
   ]
  },
  {
   "cell_type": "code",
   "execution_count": 21,
   "metadata": {},
   "outputs": [
    {
     "name": "stdout",
     "output_type": "stream",
     "text": [
      "Model: \"sequential_1\"\n",
      "_________________________________________________________________\n",
      "Layer (type)                 Output Shape              Param #   \n",
      "=================================================================\n",
      "reshape_1 (Reshape)          (None, 784)               0         \n",
      "_________________________________________________________________\n",
      "batch_normalization (BatchNo (None, 784)               3136      \n",
      "_________________________________________________________________\n",
      "dense_3 (Dense)              (None, 100)               78500     \n",
      "_________________________________________________________________\n",
      "dense_4 (Dense)              (None, 100)               10100     \n",
      "_________________________________________________________________\n",
      "dense_5 (Dense)              (None, 10)                1010      \n",
      "=================================================================\n",
      "Total params: 92,746\n",
      "Trainable params: 91,178\n",
      "Non-trainable params: 1,568\n",
      "_________________________________________________________________\n"
     ]
    }
   ],
   "source": [
    "model4.summary()"
   ]
  },
  {
   "cell_type": "code",
   "execution_count": 27,
   "metadata": {},
   "outputs": [
    {
     "name": "stdout",
     "output_type": "stream",
     "text": [
      "[[807   5   5  71   7   5  84   0  16   0]\n",
      " [  5 940  12  36   5   0   0   0   2   0]\n",
      " [ 23   1 614  11 206   2 136   0   7   0]\n",
      " [ 36  16   3 832  37   2  69   0   4   1]\n",
      " [  0   3  97  32 777   0  85   0   6   0]\n",
      " [  0   0   0   1   0 864   0  79   5  51]\n",
      " [218   3 120  49 191   2 392   0  25   0]\n",
      " [  0   0   0   0   0  60   0 863   1  76]\n",
      " [  3   1   8  12   2   9  19   5 939   2]\n",
      " [  0   0   0   0   0  22   0  48   1 929]]\n"
     ]
    }
   ],
   "source": [
    "y_predict = model4.predict(xtest)\n",
    "y_pred = []\n",
    "for val in y_predict:\n",
    "    y_pred.append(np.argmax(val))\n",
    "cm = metrics.confusion_matrix(ytest,y_pred)\n",
    "print(cm)"
   ]
  },
  {
   "cell_type": "code",
   "execution_count": 28,
   "metadata": {},
   "outputs": [
    {
     "name": "stdout",
     "output_type": "stream",
     "text": [
      "              precision    recall  f1-score   support\n",
      "\n",
      "           0       0.74      0.81      0.77      1000\n",
      "           1       0.97      0.94      0.95      1000\n",
      "           2       0.71      0.61      0.66      1000\n",
      "           3       0.80      0.83      0.81      1000\n",
      "           4       0.63      0.78      0.70      1000\n",
      "           5       0.89      0.86      0.88      1000\n",
      "           6       0.50      0.39      0.44      1000\n",
      "           7       0.87      0.86      0.87      1000\n",
      "           8       0.93      0.94      0.94      1000\n",
      "           9       0.88      0.93      0.90      1000\n",
      "\n",
      "    accuracy                           0.80     10000\n",
      "   macro avg       0.79      0.80      0.79     10000\n",
      "weighted avg       0.79      0.80      0.79     10000\n",
      "\n"
     ]
    }
   ],
   "source": [
    "cr=metrics.classification_report(ytest,y_pred)\n",
    "print(cr)"
   ]
  },
  {
   "cell_type": "markdown",
   "metadata": {},
   "source": [
    "#### *When we ran the 1st model, without normalization, the calculation of accuracy & losses were not possible using SGD optimizer. Then post normalization, we were able to obtain an accuracy of 87.6%. We then tried creating a model with a learning rate of 0.001, i.e. with a 10x drop in learning rate from the default value (0.01), for the same optimizer (SGD), the accuracy in training fell to 80%.*\n",
    "\n",
    "#### *Thus change in default learning rate had an adverse effect on the performance of the SGD optimizer*\n",
    "\n",
    "#### *Lastly we developed a model with 3 hidden layers & SGD as optimizer, with learning rate of 0.03. We obtained a similar accuracy of 80%, both across TRAINING & TESTING.* \n",
    "\n",
    "### *Clearly, even 0.03 is not the optimal LEARNING RATE for SGD optimizer.*"
   ]
  },
  {
   "cell_type": "markdown",
   "metadata": {},
   "source": [
    "#### *Thus SGD optimizer can't work without normalization of input data & there is a significant drop in accuracy (by almost 8%) when we change the default learning rate. Even if we increase the learning rate by almost 10x, i.e. 0.001 to 0.03, there is not much improvement in the model performance, and it continues to be poorer than the performance obtained with default LEARNING RATE (0.01)*"
   ]
  },
  {
   "cell_type": "code",
   "execution_count": 23,
   "metadata": {},
   "outputs": [
    {
     "name": "stdout",
     "output_type": "stream",
     "text": [
      "Train on 60000 samples, validate on 10000 samples\n",
      "Epoch 1/10\n",
      "60000/60000 [==============================] - 3s 43us/sample - loss: 0.5059 - accuracy: 0.8199 - val_loss: 0.4023 - val_accuracy: 0.8537\n",
      "Epoch 2/10\n",
      "60000/60000 [==============================] - 2s 29us/sample - loss: 0.3489 - accuracy: 0.8729 - val_loss: 0.3764 - val_accuracy: 0.8640\n",
      "Epoch 3/10\n",
      "60000/60000 [==============================] - 2s 29us/sample - loss: 0.3099 - accuracy: 0.8868 - val_loss: 0.3563 - val_accuracy: 0.8692\n",
      "Epoch 4/10\n",
      "60000/60000 [==============================] - 2s 29us/sample - loss: 0.2843 - accuracy: 0.8951 - val_loss: 0.3475 - val_accuracy: 0.8758\n",
      "Epoch 5/10\n",
      "60000/60000 [==============================] - 2s 30us/sample - loss: 0.2636 - accuracy: 0.9024 - val_loss: 0.3490 - val_accuracy: 0.8760\n",
      "Epoch 6/10\n",
      "60000/60000 [==============================] - 2s 30us/sample - loss: 0.2433 - accuracy: 0.9090 - val_loss: 0.3368 - val_accuracy: 0.8824\n",
      "Epoch 7/10\n",
      "60000/60000 [==============================] - 2s 32us/sample - loss: 0.2262 - accuracy: 0.9166 - val_loss: 0.3318 - val_accuracy: 0.8835\n",
      "Epoch 8/10\n",
      "60000/60000 [==============================] - 2s 31us/sample - loss: 0.2173 - accuracy: 0.9202 - val_loss: 0.3395 - val_accuracy: 0.8835\n",
      "Epoch 9/10\n",
      "60000/60000 [==============================] - 2s 31us/sample - loss: 0.2036 - accuracy: 0.9242 - val_loss: 0.3455 - val_accuracy: 0.8807\n",
      "Epoch 10/10\n",
      "60000/60000 [==============================] - 2s 31us/sample - loss: 0.1928 - accuracy: 0.9295 - val_loss: 0.3346 - val_accuracy: 0.8834\n"
     ]
    },
    {
     "data": {
      "text/plain": [
       "<tensorflow.python.keras.callbacks.History at 0x1e3c0720888>"
      ]
     },
     "execution_count": 23,
     "metadata": {},
     "output_type": "execute_result"
    }
   ],
   "source": [
    "# Define model architecture\n",
    "#Initialize Sequential model\n",
    "model5 = tf.keras.models.Sequential()\n",
    "model5.add(tf.keras.layers.Reshape((784,),input_shape=(28,28,)))\n",
    "model5.add(tf.keras.layers.BatchNormalization())\n",
    "model5.add(Dense(100,activation='relu'))\n",
    "model5.add(Dense(100, activation ='relu'))\n",
    "model5.add(Dense(10,activation='softmax'))\n",
    "model5.compile(loss='categorical_crossentropy',optimizer='adam',metrics=['accuracy'])\n",
    "model5.fit(xtrain, y_train, validation_data=(xtest,y_test), epochs=10, batch_size=256, verbose=1)"
   ]
  },
  {
   "cell_type": "code",
   "execution_count": 56,
   "metadata": {},
   "outputs": [
    {
     "name": "stdout",
     "output_type": "stream",
     "text": [
      "Model: \"sequential_4\"\n",
      "_________________________________________________________________\n",
      "Layer (type)                 Output Shape              Param #   \n",
      "=================================================================\n",
      "reshape_4 (Reshape)          (None, 784)               0         \n",
      "_________________________________________________________________\n",
      "batch_normalization_3 (Batch (None, 784)               3136      \n",
      "_________________________________________________________________\n",
      "dense_12 (Dense)             (None, 100)               78500     \n",
      "_________________________________________________________________\n",
      "dense_13 (Dense)             (None, 100)               10100     \n",
      "_________________________________________________________________\n",
      "dense_14 (Dense)             (None, 10)                1010      \n",
      "=================================================================\n",
      "Total params: 92,746\n",
      "Trainable params: 91,178\n",
      "Non-trainable params: 1,568\n",
      "_________________________________________________________________\n"
     ]
    }
   ],
   "source": [
    "model5.summary()"
   ]
  },
  {
   "cell_type": "code",
   "execution_count": 29,
   "metadata": {},
   "outputs": [
    {
     "name": "stdout",
     "output_type": "stream",
     "text": [
      "[[798   1   8  17   3   0 166   0   7   0]\n",
      " [  3 972   0  16   3   0   4   0   2   0]\n",
      " [ 25   0 765   9 100   1  99   0   1   0]\n",
      " [ 21   6  10 887  30   1  41   0   4   0]\n",
      " [  4   0  54  37 838   0  65   0   2   0]\n",
      " [  1   0   0   1   0 959   1  24   2  12]\n",
      " [ 87   0  52  22  83   1 747   0   8   0]\n",
      " [  0   0   0   0   0  20   0 948   0  32]\n",
      " [  6   0   5   6   5   3  11   5 959   0]\n",
      " [  0   0   0   0   0   9   1  29   0 961]]\n"
     ]
    }
   ],
   "source": [
    "y_predict = model5.predict(xtest)\n",
    "y_pred = []\n",
    "for val in y_predict:\n",
    "    y_pred.append(np.argmax(val))\n",
    "cm = metrics.confusion_matrix(ytest,y_pred)\n",
    "print(cm)"
   ]
  },
  {
   "cell_type": "code",
   "execution_count": 30,
   "metadata": {},
   "outputs": [
    {
     "name": "stdout",
     "output_type": "stream",
     "text": [
      "              precision    recall  f1-score   support\n",
      "\n",
      "           0       0.84      0.80      0.82      1000\n",
      "           1       0.99      0.97      0.98      1000\n",
      "           2       0.86      0.77      0.81      1000\n",
      "           3       0.89      0.89      0.89      1000\n",
      "           4       0.79      0.84      0.81      1000\n",
      "           5       0.96      0.96      0.96      1000\n",
      "           6       0.66      0.75      0.70      1000\n",
      "           7       0.94      0.95      0.95      1000\n",
      "           8       0.97      0.96      0.97      1000\n",
      "           9       0.96      0.96      0.96      1000\n",
      "\n",
      "    accuracy                           0.88     10000\n",
      "   macro avg       0.89      0.88      0.88     10000\n",
      "weighted avg       0.89      0.88      0.88     10000\n",
      "\n"
     ]
    }
   ],
   "source": [
    "cr=metrics.classification_report(ytest,y_pred)\n",
    "print(cr)"
   ]
  },
  {
   "cell_type": "markdown",
   "metadata": {},
   "source": [
    "#### *Lastly, when we use ACTIVATION FUNCTION as ReLU & OPTIMIZER as ADAM, we obtain an accuracy of 93%, which is more than 13% improvement over SIGMOID & MODIFIED SGD. The TESTING accuracy has also improved by 8% to 88%.*\n",
    "\n",
    "### *Clearly, this combination is a much more preferred*"
   ]
  },
  {
   "cell_type": "markdown",
   "metadata": {},
   "source": [
    "#### *The TRAINABLE PARAMETERS in each model seems to be a direct function of the number of HIDDEN LAYERS & the number of NEURONS in each layer. The number of NON-TRAINABLE PARAMETERS is CONSTANT across all the models*"
   ]
  },
  {
   "cell_type": "code",
   "execution_count": null,
   "metadata": {},
   "outputs": [],
   "source": []
  }
 ],
 "metadata": {
  "colab": {
   "name": "R6_ExternalLab_AIML.ipynb",
   "provenance": [],
   "version": "0.3.2"
  },
  "kernelspec": {
   "display_name": "Python 3",
   "language": "python",
   "name": "python3"
  },
  "language_info": {
   "codemirror_mode": {
    "name": "ipython",
    "version": 3
   },
   "file_extension": ".py",
   "mimetype": "text/x-python",
   "name": "python",
   "nbconvert_exporter": "python",
   "pygments_lexer": "ipython3",
   "version": "3.7.7-final"
  }
 },
 "nbformat": 4,
 "nbformat_minor": 1
}