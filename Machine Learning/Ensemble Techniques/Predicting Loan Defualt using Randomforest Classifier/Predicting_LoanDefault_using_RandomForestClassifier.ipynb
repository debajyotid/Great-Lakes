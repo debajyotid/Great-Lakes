{
 "cells": [
  {
   "cell_type": "code",
   "execution_count": 1,
   "metadata": {
    "colab": {},
    "colab_type": "code",
    "id": "Y3vvEXP1_0og"
   },
   "outputs": [],
   "source": [
    "# Import important library\n",
    "import numpy as np\n",
    "import pandas as pd\n",
    "import matplotlib.pyplot as plt\n",
    "import seaborn as sns\n",
    "%matplotlib inline\n",
    "import warnings\n",
    "warnings.filterwarnings('ignore')\n",
    "\n",
    "from sklearn.model_selection import train_test_split, KFold, cross_val_score,cross_val_predict\n",
    "from sklearn.preprocessing import OneHotEncoder\n",
    "onehotencoder = OneHotEncoder()\n",
    "from sklearn.preprocessing import LabelEncoder\n",
    "labelencoder = LabelEncoder()\n",
    "\n",
    "from sklearn.ensemble import RandomForestClassifier\n",
    "from sklearn import metrics\n",
    "from sklearn.utils import resample\n",
    "\n",
    "from scipy.stats import zscore"
   ]
  },
  {
   "cell_type": "markdown",
   "metadata": {
    "colab_type": "text",
    "id": "7O83uMqA_0ol"
   },
   "source": [
    "### Read the input file and check the data dimension"
   ]
  },
  {
   "cell_type": "code",
   "execution_count": 2,
   "metadata": {
    "colab": {},
    "colab_type": "code",
    "id": "1brbOfG_Enzy"
   },
   "outputs": [],
   "source": [
    "data = pd.read_csv('german_credit.csv')"
   ]
  },
  {
   "cell_type": "code",
   "execution_count": 3,
   "metadata": {
    "colab": {},
    "colab_type": "code",
    "id": "EC9Oup3w_0on",
    "outputId": "08aa9a88-57df-4c19-ee40-7335b11c8b0d"
   },
   "outputs": [],
   "source": [
    "# You can access from https://www.kaggle.com/uciml/german-credit\n",
    "#Read input file and understand the data\n",
    "# \"default\" is my dependent variable"
   ]
  },
  {
   "cell_type": "code",
   "execution_count": 4,
   "metadata": {},
   "outputs": [],
   "source": [
    "data_copy=data.copy()\n",
    "y=data.pop('default')\n",
    "X=data"
   ]
  },
  {
   "cell_type": "markdown",
   "metadata": {
    "colab_type": "text",
    "id": "ASgoNlMB_0ov"
   },
   "source": [
    "### Q1 Randomly select 50% data for this use case( 1 Marks)\n",
    "###### Hint: Use train_test_split"
   ]
  },
  {
   "cell_type": "code",
   "execution_count": 5,
   "metadata": {
    "colab": {},
    "colab_type": "code",
    "id": "_LGo1xnK_0ow"
   },
   "outputs": [],
   "source": [
    "X1_train,X1_test,y1_train,y1_test = train_test_split(X,y,test_size=0.5,random_state=1)"
   ]
  },
  {
   "cell_type": "markdown",
   "metadata": {
    "colab": {},
    "colab_type": "code",
    "id": "gKaiZis__0o0"
   },
   "source": [
    "Lets build a Ensemble model but need to modify the dataset first"
   ]
  },
  {
   "cell_type": "markdown",
   "metadata": {
    "colab_type": "text",
    "id": "utYEGBER_0o4"
   },
   "source": [
    "### Q2.Prepare the model data by converting non-numeric to dummy ( 1 Marks)\n",
    "##### Hint: Use get_dummies"
   ]
  },
  {
   "cell_type": "code",
   "execution_count": 6,
   "metadata": {},
   "outputs": [
    {
     "name": "stdout",
     "output_type": "stream",
     "text": [
      "<class 'pandas.core.frame.DataFrame'>\n",
      "RangeIndex: 1000 entries, 0 to 999\n",
      "Data columns (total 20 columns):\n",
      "account_check_status          1000 non-null object\n",
      "duration_in_month             1000 non-null int64\n",
      "credit_history                1000 non-null object\n",
      "purpose                       1000 non-null object\n",
      "credit_amount                 1000 non-null int64\n",
      "savings                       1000 non-null object\n",
      "present_emp_since             1000 non-null object\n",
      "installment_as_income_perc    1000 non-null int64\n",
      "personal_status_sex           1000 non-null object\n",
      "other_debtors                 1000 non-null object\n",
      "present_res_since             1000 non-null int64\n",
      "property                      1000 non-null object\n",
      "age                           1000 non-null int64\n",
      "other_installment_plans       1000 non-null object\n",
      "housing                       1000 non-null object\n",
      "credits_this_bank             1000 non-null int64\n",
      "job                           1000 non-null object\n",
      "people_under_maintenance      1000 non-null int64\n",
      "telephone                     1000 non-null object\n",
      "foreign_worker                1000 non-null object\n",
      "dtypes: int64(7), object(13)\n",
      "memory usage: 156.4+ KB\n"
     ]
    }
   ],
   "source": [
    "data.info()"
   ]
  },
  {
   "cell_type": "code",
   "execution_count": 7,
   "metadata": {},
   "outputs": [
    {
     "data": {
      "text/html": [
       "<div>\n",
       "<style scoped>\n",
       "    .dataframe tbody tr th:only-of-type {\n",
       "        vertical-align: middle;\n",
       "    }\n",
       "\n",
       "    .dataframe tbody tr th {\n",
       "        vertical-align: top;\n",
       "    }\n",
       "\n",
       "    .dataframe thead th {\n",
       "        text-align: right;\n",
       "    }\n",
       "</style>\n",
       "<table border=\"1\" class=\"dataframe\">\n",
       "  <thead>\n",
       "    <tr style=\"text-align: right;\">\n",
       "      <th></th>\n",
       "      <th>count</th>\n",
       "      <th>mean</th>\n",
       "      <th>std</th>\n",
       "      <th>min</th>\n",
       "      <th>25%</th>\n",
       "      <th>50%</th>\n",
       "      <th>75%</th>\n",
       "      <th>max</th>\n",
       "    </tr>\n",
       "  </thead>\n",
       "  <tbody>\n",
       "    <tr>\n",
       "      <td>duration_in_month</td>\n",
       "      <td>1000.0</td>\n",
       "      <td>20.903</td>\n",
       "      <td>12.058814</td>\n",
       "      <td>4.0</td>\n",
       "      <td>12.0</td>\n",
       "      <td>18.0</td>\n",
       "      <td>24.00</td>\n",
       "      <td>72.0</td>\n",
       "    </tr>\n",
       "    <tr>\n",
       "      <td>credit_amount</td>\n",
       "      <td>1000.0</td>\n",
       "      <td>3271.258</td>\n",
       "      <td>2822.736876</td>\n",
       "      <td>250.0</td>\n",
       "      <td>1365.5</td>\n",
       "      <td>2319.5</td>\n",
       "      <td>3972.25</td>\n",
       "      <td>18424.0</td>\n",
       "    </tr>\n",
       "    <tr>\n",
       "      <td>installment_as_income_perc</td>\n",
       "      <td>1000.0</td>\n",
       "      <td>2.973</td>\n",
       "      <td>1.118715</td>\n",
       "      <td>1.0</td>\n",
       "      <td>2.0</td>\n",
       "      <td>3.0</td>\n",
       "      <td>4.00</td>\n",
       "      <td>4.0</td>\n",
       "    </tr>\n",
       "    <tr>\n",
       "      <td>present_res_since</td>\n",
       "      <td>1000.0</td>\n",
       "      <td>2.845</td>\n",
       "      <td>1.103718</td>\n",
       "      <td>1.0</td>\n",
       "      <td>2.0</td>\n",
       "      <td>3.0</td>\n",
       "      <td>4.00</td>\n",
       "      <td>4.0</td>\n",
       "    </tr>\n",
       "    <tr>\n",
       "      <td>age</td>\n",
       "      <td>1000.0</td>\n",
       "      <td>35.546</td>\n",
       "      <td>11.375469</td>\n",
       "      <td>19.0</td>\n",
       "      <td>27.0</td>\n",
       "      <td>33.0</td>\n",
       "      <td>42.00</td>\n",
       "      <td>75.0</td>\n",
       "    </tr>\n",
       "    <tr>\n",
       "      <td>credits_this_bank</td>\n",
       "      <td>1000.0</td>\n",
       "      <td>1.407</td>\n",
       "      <td>0.577654</td>\n",
       "      <td>1.0</td>\n",
       "      <td>1.0</td>\n",
       "      <td>1.0</td>\n",
       "      <td>2.00</td>\n",
       "      <td>4.0</td>\n",
       "    </tr>\n",
       "    <tr>\n",
       "      <td>people_under_maintenance</td>\n",
       "      <td>1000.0</td>\n",
       "      <td>1.155</td>\n",
       "      <td>0.362086</td>\n",
       "      <td>1.0</td>\n",
       "      <td>1.0</td>\n",
       "      <td>1.0</td>\n",
       "      <td>1.00</td>\n",
       "      <td>2.0</td>\n",
       "    </tr>\n",
       "  </tbody>\n",
       "</table>\n",
       "</div>"
      ],
      "text/plain": [
       "                             count      mean          std    min     25%  \\\n",
       "duration_in_month           1000.0    20.903    12.058814    4.0    12.0   \n",
       "credit_amount               1000.0  3271.258  2822.736876  250.0  1365.5   \n",
       "installment_as_income_perc  1000.0     2.973     1.118715    1.0     2.0   \n",
       "present_res_since           1000.0     2.845     1.103718    1.0     2.0   \n",
       "age                         1000.0    35.546    11.375469   19.0    27.0   \n",
       "credits_this_bank           1000.0     1.407     0.577654    1.0     1.0   \n",
       "people_under_maintenance    1000.0     1.155     0.362086    1.0     1.0   \n",
       "\n",
       "                               50%      75%      max  \n",
       "duration_in_month             18.0    24.00     72.0  \n",
       "credit_amount               2319.5  3972.25  18424.0  \n",
       "installment_as_income_perc     3.0     4.00      4.0  \n",
       "present_res_since              3.0     4.00      4.0  \n",
       "age                           33.0    42.00     75.0  \n",
       "credits_this_bank              1.0     2.00      4.0  \n",
       "people_under_maintenance       1.0     1.00      2.0  "
      ]
     },
     "execution_count": 7,
     "metadata": {},
     "output_type": "execute_result"
    }
   ],
   "source": [
    "data.describe().T"
   ]
  },
  {
   "cell_type": "code",
   "execution_count": 8,
   "metadata": {},
   "outputs": [
    {
     "data": {
      "text/plain": [
       "<matplotlib.axes._subplots.AxesSubplot at 0x1a1e2058d0>"
      ]
     },
     "execution_count": 8,
     "metadata": {},
     "output_type": "execute_result"
    },
    {
     "data": {
      "image/png": "[encoded data removed]",
      "text/plain": [
       "<Figure size 1440x360 with 1 Axes>"
      ]
     },
     "metadata": {
      "needs_background": "light"
     },
     "output_type": "display_data"
    }
   ],
   "source": [
    "plt.figure(figsize=(20,5))\n",
    "sns.distplot(data['duration_in_month'],kde=False)"
   ]
  },
  {
   "cell_type": "code",
   "execution_count": 9,
   "metadata": {},
   "outputs": [
    {
     "data": {
      "text/plain": [
       "<matplotlib.axes._subplots.AxesSubplot at 0x1a1e9b7fd0>"
      ]
     },
     "execution_count": 9,
     "metadata": {},
     "output_type": "execute_result"
    },
    {
     "data": {
      "image/png": "[encoded data removed]",
      "text/plain": [
       "<Figure size 1440x360 with 1 Axes>"
      ]
     },
     "metadata": {
      "needs_background": "light"
     },
     "output_type": "display_data"
    }
   ],
   "source": [
    "plt.figure(figsize=(20,5))\n",
    "sns.distplot(data['credit_amount'],kde=False)"
   ]
  },
  {
   "cell_type": "markdown",
   "metadata": {},
   "source": [
    "The distribution is highly right-skewed, with a large number of people having a credit_amount less than 2500. However, there are people having a high credit-amount, as high as more than 17500"
   ]
  },
  {
   "cell_type": "code",
   "execution_count": 10,
   "metadata": {},
   "outputs": [
    {
     "data": {
      "text/plain": [
       "<matplotlib.axes._subplots.AxesSubplot at 0x1a1e929ad0>"
      ]
     },
     "execution_count": 10,
     "metadata": {},
     "output_type": "execute_result"
    },
    {
     "data": {
      "image/png": "[encoded data removed]",
      "text/plain": [
       "<Figure size 1440x360 with 1 Axes>"
      ]
     },
     "metadata": {
      "needs_background": "light"
     },
     "output_type": "display_data"
    }
   ],
   "source": [
    "plt.figure(figsize=(20,5))\n",
    "sns.countplot(data['installment_as_income_perc'])"
   ]
  },
  {
   "cell_type": "markdown",
   "metadata": {},
   "source": [
    "This feature, although captured as a continuous numerical data, is actually categorical in nature. The distribution is highly skewed, with a major portion of the data (almost half of the data) has 4% installment amount as their income"
   ]
  },
  {
   "cell_type": "code",
   "execution_count": 11,
   "metadata": {},
   "outputs": [
    {
     "data": {
      "text/plain": [
       "<matplotlib.axes._subplots.AxesSubplot at 0x1a1ee3f7d0>"
      ]
     },
     "execution_count": 11,
     "metadata": {},
     "output_type": "execute_result"
    },
    {
     "data": {
      "image/png": "[encoded data removed]",
      "text/plain": [
       "<Figure size 1440x360 with 1 Axes>"
      ]
     },
     "metadata": {
      "needs_background": "light"
     },
     "output_type": "display_data"
    }
   ],
   "source": [
    "plt.figure(figsize=(20,5))\n",
    "sns.countplot(data['present_res_since'])"
   ]
  },
  {
   "cell_type": "markdown",
   "metadata": {},
   "source": [
    "In this case too the data is highly skewed, with a majority of the population having a residency of 4 years. This is followed by people residing for last 2 years. The distribution of people residing for last 3 years & 1 year is similar"
   ]
  },
  {
   "cell_type": "code",
   "execution_count": 12,
   "metadata": {},
   "outputs": [
    {
     "data": {
      "text/plain": [
       "<matplotlib.axes._subplots.AxesSubplot at 0x1a1f033490>"
      ]
     },
     "execution_count": 12,
     "metadata": {},
     "output_type": "execute_result"
    },
    {
     "data": {
      "image/png": "[encoded data removed]",
      "text/plain": [
       "<Figure size 1440x360 with 1 Axes>"
      ]
     },
     "metadata": {
      "needs_background": "light"
     },
     "output_type": "display_data"
    }
   ],
   "source": [
    "plt.figure(figsize=(20,5))\n",
    "sns.distplot(data['age'],kde=False)"
   ]
  },
  {
   "cell_type": "markdown",
   "metadata": {},
   "source": [
    "The AGE data is again highly right-skewed, with a majority of the dataset capturing people of ages 20-35 years. However there are quiet a number of people beyond that age group too, with even a sudden rise beyond 70 years"
   ]
  },
  {
   "cell_type": "code",
   "execution_count": 13,
   "metadata": {},
   "outputs": [
    {
     "data": {
      "text/plain": [
       "<matplotlib.axes._subplots.AxesSubplot at 0x1a1f222390>"
      ]
     },
     "execution_count": 13,
     "metadata": {},
     "output_type": "execute_result"
    },
    {
     "data": {
      "image/png": "[encoded data removed]",
      "text/plain": [
       "<Figure size 1440x360 with 1 Axes>"
      ]
     },
     "metadata": {
      "needs_background": "light"
     },
     "output_type": "display_data"
    }
   ],
   "source": [
    "plt.figure(figsize=(20,5))\n",
    "sns.countplot(data['credits_this_bank'])"
   ]
  },
  {
   "cell_type": "markdown",
   "metadata": {},
   "source": [
    "This feature too is skewed, with a more than half of the dataset having people having 1 credit with the subject Bank. However, what's interesting is the huge drop from 2 to 3 credits. It seems, the dataset represents people being reasonable enough to restrict their number of credits to 2, with only a small population taking 3 credits & an even smaller number taking 4 credits. \n",
    "\n",
    "However, we need to see whether there is any correlation between this decision/trend with other features like SAVINGS, people_under_maintenance, CREDIT_AMOUNT etc. Also, low number of credits with this Bank doesn't necessarily mean that there is no other credits elsewhere"
   ]
  },
  {
   "cell_type": "code",
   "execution_count": 14,
   "metadata": {},
   "outputs": [
    {
     "data": {
      "text/plain": [
       "<matplotlib.axes._subplots.AxesSubplot at 0x1a1f421790>"
      ]
     },
     "execution_count": 14,
     "metadata": {},
     "output_type": "execute_result"
    },
    {
     "data": {
      "image/png": "[encoded data removed]",
      "text/plain": [
       "<Figure size 1440x360 with 1 Axes>"
      ]
     },
     "metadata": {
      "needs_background": "light"
     },
     "output_type": "display_data"
    }
   ],
   "source": [
    "plt.figure(figsize=(20,5))\n",
    "sns.countplot(data['people_under_maintenance'])"
   ]
  },
  {
   "cell_type": "markdown",
   "metadata": {},
   "source": [
    "**It seems all data in this dataset is skewed. :-)**\n",
    "\n",
    "The number of people having only 1 people under maintenance absolutely over-shadows the number of people having 2 people. This ratio seems to be almost 8:1, which shows the level of skewness"
   ]
  },
  {
   "cell_type": "code",
   "execution_count": 15,
   "metadata": {},
   "outputs": [
    {
     "data": {
      "text/plain": [
       "<matplotlib.axes._subplots.AxesSubplot at 0x1a1f6082d0>"
      ]
     },
     "execution_count": 15,
     "metadata": {},
     "output_type": "execute_result"
    },
    {
     "data": {
      "image/png": "[encoded data removed]",
      "text/plain": [
       "<Figure size 1440x360 with 1 Axes>"
      ]
     },
     "metadata": {
      "needs_background": "light"
     },
     "output_type": "display_data"
    }
   ],
   "source": [
    "plt.figure(figsize=(20,5))\n",
    "sns.countplot(data['account_check_status'])"
   ]
  },
  {
   "cell_type": "markdown",
   "metadata": {},
   "source": [
    "The number of people having negative balance in their checking account is almost proportional to the number of people having less than 200 DM. However, it's worrying as to why so many people would be having negative balance in their a/c. We may have to investigate whether all of these people are having credits with this Bank & their CREDIT-HISTORY. Are all these people defaulters too?\n",
    "\n",
    "However, it's even more worrying that majority of people don't even have a checking account with the Bank, and yet they feature in this dataset. We may have to investigate whether all of these people are having credits with this Bank & their CREDIT-HISTORY, like people who have negative balance in their accounts. Are all these people defaulters too?"
   ]
  },
  {
   "cell_type": "code",
   "execution_count": 16,
   "metadata": {},
   "outputs": [
    {
     "data": {
      "text/plain": [
       "<matplotlib.axes._subplots.AxesSubplot at 0x1a1f608250>"
      ]
     },
     "execution_count": 16,
     "metadata": {},
     "output_type": "execute_result"
    },
    {
     "data": {
      "image/png": "[encoded data removed]",
      "text/plain": [
       "<Figure size 1800x720 with 1 Axes>"
      ]
     },
     "metadata": {
      "needs_background": "light"
     },
     "output_type": "display_data"
    }
   ],
   "source": [
    "plt.figure(figsize=(25,10))\n",
    "sns.countplot(data['credit_history'])"
   ]
  },
  {
   "cell_type": "markdown",
   "metadata": {},
   "source": [
    "Finally we have some sign of relief as the proportion of people who have either paid back all existing credits, both ath this Bank as well as elsewher, on time or have not taken any credits at all is quiet significant to the proportion of people who have credits in critical condition. \n",
    "\n",
    "However, this number is also not insignificant, as we can see from above that this number is quiet high as 40%(critical account+delay in payment of past credits) of the population"
   ]
  },
  {
   "cell_type": "code",
   "execution_count": 17,
   "metadata": {},
   "outputs": [
    {
     "data": {
      "text/plain": [
       "<matplotlib.axes._subplots.AxesSubplot at 0x1a1fee4090>"
      ]
     },
     "execution_count": 17,
     "metadata": {},
     "output_type": "execute_result"
    },
    {
     "data": {
      "image/png": "[encoded data removed]",
      "text/plain": [
       "<Figure size 1800x720 with 1 Axes>"
      ]
     },
     "metadata": {
      "needs_background": "light"
     },
     "output_type": "display_data"
    }
   ],
   "source": [
    "plt.figure(figsize=(25,10))\n",
    "sns.countplot(data['purpose'])"
   ]
  },
  {
   "cell_type": "markdown",
   "metadata": {},
   "source": [
    "The above plot gives a picture of what people have actually utilised their credits for.\n",
    "\n",
    "Most people have used it for either purchasing domestic appliances, followed by car, radio/television & then used cars. So the volume of high-value credits (cars,business,education) is quiet small compared to that of low-value credits like domestic appliances,radio/television,furniture/equipment etc.\n",
    "\n",
    "Thus we may need to introspect whether these credits were sanctioned through credit cards or through loans. While the big-ticket items may have required loans, the latter should have been fulfilled by credit cards"
   ]
  },
  {
   "cell_type": "code",
   "execution_count": 18,
   "metadata": {},
   "outputs": [
    {
     "data": {
      "text/plain": [
       "<matplotlib.axes._subplots.AxesSubplot at 0x1a202c2f50>"
      ]
     },
     "execution_count": 18,
     "metadata": {},
     "output_type": "execute_result"
    },
    {
     "data": {
      "image/png": "[encoded data removed]",
      "text/plain": [
       "<Figure size 1800x720 with 1 Axes>"
      ]
     },
     "metadata": {
      "needs_background": "light"
     },
     "output_type": "display_data"
    }
   ],
   "source": [
    "plt.figure(figsize=(25,10))\n",
    "sns.countplot(data['savings'])"
   ]
  },
  {
   "cell_type": "markdown",
   "metadata": {},
   "source": [
    "Another positive insight from this data is that majority of the population have some sort of savings account and have balance in them. \n",
    "\n",
    "The proportion of people with a savings and balance is quiet large as compared to people who don't have any savings account. However what is disconcerting is that a large portion of the former set have quiet low balance in their accounts (< 100 DM). \n",
    "\n",
    "We need to delve deeper to find how this impacts their credits, whether they rely more on credits & whether they are able to pay back their credits on time. Also we need to check if these same people are also taking big-ticket loans"
   ]
  },
  {
   "cell_type": "code",
   "execution_count": 19,
   "metadata": {},
   "outputs": [
    {
     "data": {
      "text/plain": [
       "<matplotlib.axes._subplots.AxesSubplot at 0x1a2067a050>"
      ]
     },
     "execution_count": 19,
     "metadata": {},
     "output_type": "execute_result"
    },
    {
     "data": {
      "image/png": "[encoded data removed]",
      "text/plain": [
       "<Figure size 1440x360 with 1 Axes>"
      ]
     },
     "metadata": {
      "needs_background": "light"
     },
     "output_type": "display_data"
    }
   ],
   "source": [
    "plt.figure(figsize=(20,5))\n",
    "sns.countplot(data['present_emp_since'])"
   ]
  },
  {
   "cell_type": "markdown",
   "metadata": {},
   "source": [
    "A majority of the population seems to have a stable job with most people having been employed for > 1 year. However, there are also a statistically significant (20%) portion of the population who are either unemployed or have been employed for less than 1 year. \n",
    "\n",
    "We need to delve deeper to find how this impacts their credits, whether they rely more on credits & whether they are able to pay back their credits on time. Also we need to check if these same people are also taking big-ticket loans"
   ]
  },
  {
   "cell_type": "code",
   "execution_count": 20,
   "metadata": {},
   "outputs": [
    {
     "data": {
      "text/plain": [
       "<matplotlib.axes._subplots.AxesSubplot at 0x1a1f612810>"
      ]
     },
     "execution_count": 20,
     "metadata": {},
     "output_type": "execute_result"
    },
    {
     "data": {
      "image/png": "[encoded data removed]",
      "text/plain": [
       "<Figure size 1440x360 with 1 Axes>"
      ]
     },
     "metadata": {
      "needs_background": "light"
     },
     "output_type": "display_data"
    }
   ],
   "source": [
    "plt.figure(figsize=(20,5))\n",
    "sns.countplot(data['personal_status_sex'])"
   ]
  },
  {
   "cell_type": "markdown",
   "metadata": {},
   "source": [
    "The data is disproportionately skewed for men, with almost 70% of the data representing men.\n",
    "\n",
    "Of these, around 55% of the covered men are SINGLE, with jus about 5% of the population being DIVORCED/SEPERATED men, and around 10% of the men being MARRIED/WIDOWED. \n",
    "\n",
    "We will need to understand whether there is any observable pattern in the credit ratings of men vs women, and in between men for married vs single/widowed/seperated "
   ]
  },
  {
   "cell_type": "code",
   "execution_count": 21,
   "metadata": {},
   "outputs": [
    {
     "data": {
      "text/plain": [
       "<matplotlib.axes._subplots.AxesSubplot at 0x1a20c1fd10>"
      ]
     },
     "execution_count": 21,
     "metadata": {},
     "output_type": "execute_result"
    },
    {
     "data": {
      "image/png": "[encoded data removed]",
      "text/plain": [
       "<Figure size 1440x360 with 1 Axes>"
      ]
     },
     "metadata": {
      "needs_background": "light"
     },
     "output_type": "display_data"
    }
   ],
   "source": [
    "plt.figure(figsize=(20,5))\n",
    "sns.countplot(data['other_debtors'])"
   ]
  },
  {
   "cell_type": "markdown",
   "metadata": {},
   "source": [
    "Common sense states that people who are co-applicants in loans are at a higher credit default risk than guarantors, who are in turn at an higher risk as against people without any credits.\n",
    "\n",
    "This data shows that a majority of the people don't have credits with other lendors and this should be a good sign. But we need to check, how is the relationship between people who have other debts & have taken big-ticket loans from this bank. These might me potentially risky customers"
   ]
  },
  {
   "cell_type": "code",
   "execution_count": 22,
   "metadata": {},
   "outputs": [
    {
     "data": {
      "text/plain": [
       "<matplotlib.axes._subplots.AxesSubplot at 0x1a20def110>"
      ]
     },
     "execution_count": 22,
     "metadata": {},
     "output_type": "execute_result"
    },
    {
     "data": {
      "image/png": "[encoded data removed]",
      "text/plain": [
       "<Figure size 1440x360 with 1 Axes>"
      ]
     },
     "metadata": {
      "needs_background": "light"
     },
     "output_type": "display_data"
    }
   ],
   "source": [
    "plt.figure(figsize=(20,5))\n",
    "sns.countplot(data['property'])"
   ]
  },
  {
   "cell_type": "markdown",
   "metadata": {},
   "source": [
    "The above distribution seems to indicate the distribution of available collaterals with the dataset.\n",
    "\n",
    "A major portion of the dataset seems to have some form of property as collateral, with a significant number having a tangible & high-value collateral as real-estate. The proportion of people who have no such property/collateral is 15%, but this number is not statistically insignificant.\n",
    "\n",
    "What we need to find is how many of the high-value collateral owners (judging from above as A121/A122) have taken high-value loans & how many high-value loan takers have low-value collaterals, which may make the process of recovery, in case of a default, more difficult"
   ]
  },
  {
   "cell_type": "code",
   "execution_count": 23,
   "metadata": {},
   "outputs": [
    {
     "data": {
      "text/plain": [
       "<matplotlib.axes._subplots.AxesSubplot at 0x1a1ee22c90>"
      ]
     },
     "execution_count": 23,
     "metadata": {},
     "output_type": "execute_result"
    },
    {
     "data": {
      "image/png": "[encoded data removed]",
      "text/plain": [
       "<Figure size 1440x360 with 1 Axes>"
      ]
     },
     "metadata": {
      "needs_background": "light"
     },
     "output_type": "display_data"
    }
   ],
   "source": [
    "plt.figure(figsize=(20,5))\n",
    "sns.countplot(data['other_installment_plans'])"
   ]
  },
  {
   "cell_type": "code",
   "execution_count": 24,
   "metadata": {},
   "outputs": [
    {
     "data": {
      "text/plain": [
       "<matplotlib.axes._subplots.AxesSubplot at 0x1a202a1550>"
      ]
     },
     "execution_count": 24,
     "metadata": {},
     "output_type": "execute_result"
    },
    {
     "data": {
      "image/png": "[encoded data removed]",
      "text/plain": [
       "<Figure size 1440x360 with 1 Axes>"
      ]
     },
     "metadata": {
      "needs_background": "light"
     },
     "output_type": "display_data"
    }
   ],
   "source": [
    "plt.figure(figsize=(20,5))\n",
    "sns.countplot(data['housing'])"
   ]
  },
  {
   "cell_type": "markdown",
   "metadata": {},
   "source": [
    "A significant portion of the dataset has their own residency. This is followed by people staying on rent, followed by people staying in free-housing\n",
    "\n",
    "While the former is a quiet safe venture for provding loans, we need to check if big-ticket loans have been provided to people who don't have a tangible, high-value collateral like a own house. These cases might be potentially high-risk defaulters, based on other parameters like unstable job, many dependents, multiple installments, multiple credits, etc."
   ]
  },
  {
   "cell_type": "code",
   "execution_count": 25,
   "metadata": {},
   "outputs": [
    {
     "data": {
      "text/plain": [
       "<matplotlib.axes._subplots.AxesSubplot at 0x1a213a2710>"
      ]
     },
     "execution_count": 25,
     "metadata": {},
     "output_type": "execute_result"
    },
    {
     "data": {
      "image/png": "[encoded data removed]",
      "text/plain": [
       "<Figure size 1440x360 with 1 Axes>"
      ]
     },
     "metadata": {
      "needs_background": "light"
     },
     "output_type": "display_data"
    }
   ],
   "source": [
    "plt.figure(figsize=(20,5))\n",
    "sns.countplot(data['job'])"
   ]
  },
  {
   "cell_type": "code",
   "execution_count": 26,
   "metadata": {},
   "outputs": [
    {
     "data": {
      "text/plain": [
       "<matplotlib.axes._subplots.AxesSubplot at 0x1a2157c7d0>"
      ]
     },
     "execution_count": 26,
     "metadata": {},
     "output_type": "execute_result"
    },
    {
     "data": {
      "image/png": "[encoded data removed]",
      "text/plain": [
       "<Figure size 1440x360 with 1 Axes>"
      ]
     },
     "metadata": {
      "needs_background": "light"
     },
     "output_type": "display_data"
    }
   ],
   "source": [
    "plt.figure(figsize=(20,5))\n",
    "sns.countplot(data['telephone'])"
   ]
  },
  {
   "cell_type": "markdown",
   "metadata": {},
   "source": [
    "A significant number of people have a registered telephone in their name. However we can't determine whether this is a landline or a mobile phone. In any case, a person with a registered contact number is more reachable than a person without so. The latter will require additional scrutiny before handing out a loan as in case of a default, recovery will be extremely difficult.\n",
    "\n",
    "In case we are referring to telephone as a fixed-phone, then these customers are much more reliable than those without a telephone, as having a telephone in this case ensures the person has both a proper contact detail, as well as a fixed address. Thus in cases of defaults, recovery from these customers would be more easy"
   ]
  },
  {
   "cell_type": "code",
   "execution_count": 27,
   "metadata": {},
   "outputs": [
    {
     "data": {
      "text/plain": [
       "<matplotlib.axes._subplots.AxesSubplot at 0x1a2174d150>"
      ]
     },
     "execution_count": 27,
     "metadata": {},
     "output_type": "execute_result"
    },
    {
     "data": {
      "image/png": "[encoded data removed]",
      "text/plain": [
       "<Figure size 1440x360 with 1 Axes>"
      ]
     },
     "metadata": {
      "needs_background": "light"
     },
     "output_type": "display_data"
    }
   ],
   "source": [
    "plt.figure(figsize=(20,5))\n",
    "sns.countplot(data['foreign_worker'])"
   ]
  },
  {
   "cell_type": "markdown",
   "metadata": {},
   "source": [
    "This is the last feature on which we will be performing our univariate analysis. As evident from the plot above, almost 90%+ of the data is a foreign_worker, while the rest are resident Germans.\n",
    "\n",
    "A beautiful insight that can be drawn from the above is that inspite of them being outsiders, a lot of foreign workers have been able to successfully find stable jobs, marry, have their own homes, save & overall have a quiet normal life judging from their credit_history & purpose of taking those credits. Kudos to them. **:-)**"
   ]
  },
  {
   "cell_type": "markdown",
   "metadata": {},
   "source": [
    "Of the 20 features present in the dataset, there are only 3 continuous numerical variables. The rest, although some of them have been stored as numerical data, are categorical in nature. Thankfully, the opposite is not true.\n",
    "\n",
    "We need to encode all of these variables, so that we can use them for prediction.\n",
    "\n",
    "**The below variables need dummy-encoding:**\n",
    "1. credit_history\n",
    "2. purpose\n",
    "3. personal_status_sex\n",
    "4. other_installment_plans\n",
    "5. housing\n",
    "6. job\n",
    "7. telephone\n",
    "8. foreign_worker\n",
    "\n",
    "**The below items, although categorical in nature, need label encoding as the items have ordered data:**\n",
    "1. account_check_status\n",
    "2. present_emp_since\n",
    "3. savings\n",
    "4. other_debtors\n",
    "5. property\n"
   ]
  },
  {
   "cell_type": "markdown",
   "metadata": {},
   "source": [
    "**Dummy Encoding for the above column**"
   ]
  },
  {
   "cell_type": "code",
   "execution_count": 28,
   "metadata": {},
   "outputs": [],
   "source": [
    "data = pd.get_dummies(data, columns=['credit_history'])\n",
    "data = pd.get_dummies(data, columns=['purpose'])\n",
    "data = pd.get_dummies(data, columns=['personal_status_sex'])\n",
    "data = pd.get_dummies(data, columns=['other_installment_plans'])\n",
    "data = pd.get_dummies(data, columns=['housing'])\n",
    "data = pd.get_dummies(data, columns=['job'])\n",
    "data = pd.get_dummies(data, columns=['telephone'])\n",
    "data = pd.get_dummies(data, columns=['foreign_worker'])\n",
    "\n",
    "data = pd.get_dummies(data, columns=['account_check_status'])\n",
    "data = pd.get_dummies(data, columns=['present_emp_since'])\n",
    "data = pd.get_dummies(data, columns=['savings'])\n",
    "data = pd.get_dummies(data, columns=['other_debtors'])\n",
    "data = pd.get_dummies(data, columns=['property'])"
   ]
  },
  {
   "cell_type": "markdown",
   "metadata": {},
   "source": [
    "**Label Encoding for required columns**"
   ]
  },
  {
   "cell_type": "raw",
   "metadata": {},
   "source": [
    "#Label Encoding for \"account_check_status\"\n",
    "labelencoder.fit([\"no checking account\",\"< 0 DM\",\"0 <= ... < 200 DM\",\">= 200 DM / salary assignments for at least 1 year\"])\n",
    "data['account_check_status'] = labelencoder.transform(data['account_check_status'])"
   ]
  },
  {
   "cell_type": "raw",
   "metadata": {},
   "source": [
    "#Label Encoding for \"present_emp_since\"\n",
    "labelencoder.fit([\"unemployed\",\"... < 1 year \",\"1 <= ... < 4 years\",\"4 <= ... < 7 years\",\".. >= 7 years\"])\n",
    "data['present_emp_since'] = labelencoder.transform(data['present_emp_since'])"
   ]
  },
  {
   "cell_type": "raw",
   "metadata": {},
   "source": [
    "#Label Encoding for \"savings\"\n",
    "labelencoder.fit([\"unknown/ no savings account\",\"... < 100 DM\",\"100 <= ... < 500 DM\",\"500 <= ... < 1000 DM \",\".. >= 1000 DM \"])\n",
    "data['savings'] = labelencoder.transform(data['savings'])"
   ]
  },
  {
   "cell_type": "raw",
   "metadata": {},
   "source": [
    "#Label Encoding for \"other_debtors\"\n",
    "labelencoder.fit(data['other_debtors'].unique())\n",
    "data['other_debtors'] = labelencoder.transform(data['other_debtors'])"
   ]
  },
  {
   "cell_type": "raw",
   "metadata": {},
   "source": [
    "#Label Encoding for \"property\"\n",
    "labelencoder.fit([\"unknown / no property\",\"if not A121/A122 : car or other, not in attribute 6\",\"if not A121 : building society savings agreement/ life insurance\",\"real estate\"])\n",
    "data['property'] = labelencoder.transform(data['property'])"
   ]
  },
  {
   "cell_type": "code",
   "execution_count": 29,
   "metadata": {
    "colab": {},
    "colab_type": "code",
    "id": "wjyTJcA6_0o6",
    "outputId": "e6bf7e9d-5732-4836-c0bb-fe03ba34683e"
   },
   "outputs": [
    {
     "data": {
      "text/plain": [
       "(1000, 61)"
      ]
     },
     "execution_count": 29,
     "metadata": {},
     "output_type": "execute_result"
    }
   ],
   "source": [
    "# Print Shape of model data\n",
    "data.shape"
   ]
  },
  {
   "cell_type": "markdown",
   "metadata": {},
   "source": [
    "So after encoding, both Label & Dummy(OneHotEncoding), we have derived 45 features from the initial 20"
   ]
  },
  {
   "cell_type": "markdown",
   "metadata": {
    "colab_type": "text",
    "id": "ytl4nlUW_0pA"
   },
   "source": [
    "### Check for highly correlated variables but don't required any treatment for this use case"
   ]
  },
  {
   "cell_type": "code",
   "execution_count": 30,
   "metadata": {},
   "outputs": [
    {
     "data": {
      "text/html": [
       "<div>\n",
       "<style scoped>\n",
       "    .dataframe tbody tr th:only-of-type {\n",
       "        vertical-align: middle;\n",
       "    }\n",
       "\n",
       "    .dataframe tbody tr th {\n",
       "        vertical-align: top;\n",
       "    }\n",
       "\n",
       "    .dataframe thead th {\n",
       "        text-align: right;\n",
       "    }\n",
       "</style>\n",
       "<table border=\"1\" class=\"dataframe\">\n",
       "  <thead>\n",
       "    <tr style=\"text-align: right;\">\n",
       "      <th></th>\n",
       "      <th>duration_in_month</th>\n",
       "      <th>credit_amount</th>\n",
       "      <th>installment_as_income_perc</th>\n",
       "      <th>present_res_since</th>\n",
       "      <th>age</th>\n",
       "      <th>credits_this_bank</th>\n",
       "      <th>people_under_maintenance</th>\n",
       "      <th>credit_history_all credits at this bank paid back duly</th>\n",
       "      <th>credit_history_critical account/ other credits existing (not at this bank)</th>\n",
       "      <th>credit_history_delay in paying off in the past</th>\n",
       "      <th>...</th>\n",
       "      <th>savings_100 &lt;= ... &lt; 500 DM</th>\n",
       "      <th>savings_500 &lt;= ... &lt; 1000 DM</th>\n",
       "      <th>savings_unknown/ no savings account</th>\n",
       "      <th>other_debtors_co-applicant</th>\n",
       "      <th>other_debtors_guarantor</th>\n",
       "      <th>other_debtors_none</th>\n",
       "      <th>property_if not A121 : building society savings agreement/ life insurance</th>\n",
       "      <th>property_if not A121/A122 : car or other, not in attribute 6</th>\n",
       "      <th>property_real estate</th>\n",
       "      <th>property_unknown / no property</th>\n",
       "    </tr>\n",
       "  </thead>\n",
       "  <tbody>\n",
       "    <tr>\n",
       "      <td>duration_in_month</td>\n",
       "      <td>1.000000</td>\n",
       "      <td>0.624984</td>\n",
       "      <td>0.074749</td>\n",
       "      <td>0.034067</td>\n",
       "      <td>-0.036136</td>\n",
       "      <td>-0.011284</td>\n",
       "      <td>-0.023834</td>\n",
       "      <td>0.033728</td>\n",
       "      <td>-0.075575</td>\n",
       "      <td>0.136927</td>\n",
       "      <td>...</td>\n",
       "      <td>0.051587</td>\n",
       "      <td>-0.040257</td>\n",
       "      <td>0.071185</td>\n",
       "      <td>0.029698</td>\n",
       "      <td>-0.039594</td>\n",
       "      <td>0.009993</td>\n",
       "      <td>-0.056706</td>\n",
       "      <td>0.119486</td>\n",
       "      <td>-0.242586</td>\n",
       "      <td>0.212838</td>\n",
       "    </tr>\n",
       "    <tr>\n",
       "      <td>credit_amount</td>\n",
       "      <td>0.624984</td>\n",
       "      <td>1.000000</td>\n",
       "      <td>-0.271316</td>\n",
       "      <td>0.028926</td>\n",
       "      <td>0.032716</td>\n",
       "      <td>0.020795</td>\n",
       "      <td>0.017142</td>\n",
       "      <td>0.005923</td>\n",
       "      <td>-0.041807</td>\n",
       "      <td>0.113552</td>\n",
       "      <td>...</td>\n",
       "      <td>0.013546</td>\n",
       "      <td>-0.064256</td>\n",
       "      <td>0.106546</td>\n",
       "      <td>0.079076</td>\n",
       "      <td>-0.065237</td>\n",
       "      <td>-0.004116</td>\n",
       "      <td>-0.032556</td>\n",
       "      <td>0.075679</td>\n",
       "      <td>-0.248338</td>\n",
       "      <td>0.248922</td>\n",
       "    </tr>\n",
       "    <tr>\n",
       "      <td>installment_as_income_perc</td>\n",
       "      <td>0.074749</td>\n",
       "      <td>-0.271316</td>\n",
       "      <td>1.000000</td>\n",
       "      <td>0.049302</td>\n",
       "      <td>0.058266</td>\n",
       "      <td>0.021669</td>\n",
       "      <td>-0.071207</td>\n",
       "      <td>0.030339</td>\n",
       "      <td>0.041089</td>\n",
       "      <td>-0.014597</td>\n",
       "      <td>...</td>\n",
       "      <td>-0.015356</td>\n",
       "      <td>-0.023186</td>\n",
       "      <td>0.018367</td>\n",
       "      <td>-0.013048</td>\n",
       "      <td>-0.006429</td>\n",
       "      <td>0.013823</td>\n",
       "      <td>-0.020628</td>\n",
       "      <td>0.017023</td>\n",
       "      <td>-0.034555</td>\n",
       "      <td>0.044990</td>\n",
       "    </tr>\n",
       "    <tr>\n",
       "      <td>present_res_since</td>\n",
       "      <td>0.034067</td>\n",
       "      <td>0.028926</td>\n",
       "      <td>0.049302</td>\n",
       "      <td>1.000000</td>\n",
       "      <td>0.266419</td>\n",
       "      <td>0.089625</td>\n",
       "      <td>0.042643</td>\n",
       "      <td>0.027694</td>\n",
       "      <td>0.088460</td>\n",
       "      <td>-0.020351</td>\n",
       "      <td>...</td>\n",
       "      <td>0.017789</td>\n",
       "      <td>0.032702</td>\n",
       "      <td>0.080564</td>\n",
       "      <td>0.001623</td>\n",
       "      <td>-0.028334</td>\n",
       "      <td>0.020553</td>\n",
       "      <td>-0.023708</td>\n",
       "      <td>-0.041462</td>\n",
       "      <td>-0.085194</td>\n",
       "      <td>0.188028</td>\n",
       "    </tr>\n",
       "    <tr>\n",
       "      <td>age</td>\n",
       "      <td>-0.036136</td>\n",
       "      <td>0.032716</td>\n",
       "      <td>0.058266</td>\n",
       "      <td>0.266419</td>\n",
       "      <td>1.000000</td>\n",
       "      <td>0.149254</td>\n",
       "      <td>0.118201</td>\n",
       "      <td>0.014360</td>\n",
       "      <td>0.163681</td>\n",
       "      <td>0.016129</td>\n",
       "      <td>...</td>\n",
       "      <td>-0.075302</td>\n",
       "      <td>0.030988</td>\n",
       "      <td>0.077811</td>\n",
       "      <td>-0.018357</td>\n",
       "      <td>-0.023923</td>\n",
       "      <td>0.030822</td>\n",
       "      <td>-0.028686</td>\n",
       "      <td>-0.143485</td>\n",
       "      <td>0.011538</td>\n",
       "      <td>0.206368</td>\n",
       "    </tr>\n",
       "    <tr>\n",
       "      <td>...</td>\n",
       "      <td>...</td>\n",
       "      <td>...</td>\n",
       "      <td>...</td>\n",
       "      <td>...</td>\n",
       "      <td>...</td>\n",
       "      <td>...</td>\n",
       "      <td>...</td>\n",
       "      <td>...</td>\n",
       "      <td>...</td>\n",
       "      <td>...</td>\n",
       "      <td>...</td>\n",
       "      <td>...</td>\n",
       "      <td>...</td>\n",
       "      <td>...</td>\n",
       "      <td>...</td>\n",
       "      <td>...</td>\n",
       "      <td>...</td>\n",
       "      <td>...</td>\n",
       "      <td>...</td>\n",
       "      <td>...</td>\n",
       "      <td>...</td>\n",
       "    </tr>\n",
       "    <tr>\n",
       "      <td>other_debtors_none</td>\n",
       "      <td>0.009993</td>\n",
       "      <td>-0.004116</td>\n",
       "      <td>0.013823</td>\n",
       "      <td>0.020553</td>\n",
       "      <td>0.030822</td>\n",
       "      <td>0.022966</td>\n",
       "      <td>-0.005566</td>\n",
       "      <td>-0.054917</td>\n",
       "      <td>0.017014</td>\n",
       "      <td>0.087314</td>\n",
       "      <td>...</td>\n",
       "      <td>-0.004769</td>\n",
       "      <td>0.083031</td>\n",
       "      <td>0.053597</td>\n",
       "      <td>-0.645721</td>\n",
       "      <td>-0.731408</td>\n",
       "      <td>1.000000</td>\n",
       "      <td>-0.011616</td>\n",
       "      <td>0.123386</td>\n",
       "      <td>-0.128353</td>\n",
       "      <td>0.012611</td>\n",
       "    </tr>\n",
       "    <tr>\n",
       "      <td>property_if not A121 : building society savings agreement/ life insurance</td>\n",
       "      <td>-0.056706</td>\n",
       "      <td>-0.032556</td>\n",
       "      <td>-0.020628</td>\n",
       "      <td>-0.023708</td>\n",
       "      <td>-0.028686</td>\n",
       "      <td>-0.009946</td>\n",
       "      <td>-0.006284</td>\n",
       "      <td>-0.036962</td>\n",
       "      <td>0.005330</td>\n",
       "      <td>0.021609</td>\n",
       "      <td>...</td>\n",
       "      <td>0.008605</td>\n",
       "      <td>-0.025508</td>\n",
       "      <td>0.058475</td>\n",
       "      <td>-0.018065</td>\n",
       "      <td>0.031327</td>\n",
       "      <td>-0.011616</td>\n",
       "      <td>1.000000</td>\n",
       "      <td>-0.387475</td>\n",
       "      <td>-0.344450</td>\n",
       "      <td>-0.234498</td>\n",
       "    </tr>\n",
       "    <tr>\n",
       "      <td>property_if not A121/A122 : car or other, not in attribute 6</td>\n",
       "      <td>0.119486</td>\n",
       "      <td>0.075679</td>\n",
       "      <td>0.017023</td>\n",
       "      <td>-0.041462</td>\n",
       "      <td>-0.143485</td>\n",
       "      <td>0.010577</td>\n",
       "      <td>-0.073108</td>\n",
       "      <td>-0.012473</td>\n",
       "      <td>-0.033946</td>\n",
       "      <td>0.013372</td>\n",
       "      <td>...</td>\n",
       "      <td>0.040547</td>\n",
       "      <td>0.053173</td>\n",
       "      <td>-0.026118</td>\n",
       "      <td>-0.038680</td>\n",
       "      <td>-0.126856</td>\n",
       "      <td>0.123386</td>\n",
       "      <td>-0.387475</td>\n",
       "      <td>1.000000</td>\n",
       "      <td>-0.441818</td>\n",
       "      <td>-0.300785</td>\n",
       "    </tr>\n",
       "    <tr>\n",
       "      <td>property_real estate</td>\n",
       "      <td>-0.242586</td>\n",
       "      <td>-0.248338</td>\n",
       "      <td>-0.034555</td>\n",
       "      <td>-0.085194</td>\n",
       "      <td>0.011538</td>\n",
       "      <td>0.008568</td>\n",
       "      <td>0.020203</td>\n",
       "      <td>-0.029011</td>\n",
       "      <td>0.031123</td>\n",
       "      <td>-0.045625</td>\n",
       "      <td>...</td>\n",
       "      <td>-0.066139</td>\n",
       "      <td>-0.025300</td>\n",
       "      <td>-0.049463</td>\n",
       "      <td>0.004909</td>\n",
       "      <td>0.163513</td>\n",
       "      <td>-0.128353</td>\n",
       "      <td>-0.344450</td>\n",
       "      <td>-0.441818</td>\n",
       "      <td>1.000000</td>\n",
       "      <td>-0.267385</td>\n",
       "    </tr>\n",
       "    <tr>\n",
       "      <td>property_unknown / no property</td>\n",
       "      <td>0.212838</td>\n",
       "      <td>0.248922</td>\n",
       "      <td>0.044990</td>\n",
       "      <td>0.188028</td>\n",
       "      <td>0.206368</td>\n",
       "      <td>-0.012850</td>\n",
       "      <td>0.077548</td>\n",
       "      <td>0.095666</td>\n",
       "      <td>-0.000743</td>\n",
       "      <td>0.014161</td>\n",
       "      <td>...</td>\n",
       "      <td>0.019487</td>\n",
       "      <td>-0.008005</td>\n",
       "      <td>0.027356</td>\n",
       "      <td>0.065472</td>\n",
       "      <td>-0.074968</td>\n",
       "      <td>0.012611</td>\n",
       "      <td>-0.234498</td>\n",
       "      <td>-0.300785</td>\n",
       "      <td>-0.267385</td>\n",
       "      <td>1.000000</td>\n",
       "    </tr>\n",
       "  </tbody>\n",
       "</table>\n",
       "<p>61 rows × 61 columns</p>\n",
       "</div>"
      ],
      "text/plain": [
       "                                                    duration_in_month  \\\n",
       "duration_in_month                                            1.000000   \n",
       "credit_amount                                                0.624984   \n",
       "installment_as_income_perc                                   0.074749   \n",
       "present_res_since                                            0.034067   \n",
       "age                                                         -0.036136   \n",
       "...                                                               ...   \n",
       "other_debtors_none                                           0.009993   \n",
       "property_if not A121 : building society savings...          -0.056706   \n",
       "property_if not A121/A122 : car or other, not i...           0.119486   \n",
       "property_real estate                                        -0.242586   \n",
       "property_unknown / no property                               0.212838   \n",
       "\n",
       "                                                    credit_amount  \\\n",
       "duration_in_month                                        0.624984   \n",
       "credit_amount                                            1.000000   \n",
       "installment_as_income_perc                              -0.271316   \n",
       "present_res_since                                        0.028926   \n",
       "age                                                      0.032716   \n",
       "...                                                           ...   \n",
       "other_debtors_none                                      -0.004116   \n",
       "property_if not A121 : building society savings...      -0.032556   \n",
       "property_if not A121/A122 : car or other, not i...       0.075679   \n",
       "property_real estate                                    -0.248338   \n",
       "property_unknown / no property                           0.248922   \n",
       "\n",
       "                                                    installment_as_income_perc  \\\n",
       "duration_in_month                                                     0.074749   \n",
       "credit_amount                                                        -0.271316   \n",
       "installment_as_income_perc                                            1.000000   \n",
       "present_res_since                                                     0.049302   \n",
       "age                                                                   0.058266   \n",
       "...                                                                        ...   \n",
       "other_debtors_none                                                    0.013823   \n",
       "property_if not A121 : building society savings...                   -0.020628   \n",
       "property_if not A121/A122 : car or other, not i...                    0.017023   \n",
       "property_real estate                                                 -0.034555   \n",
       "property_unknown / no property                                        0.044990   \n",
       "\n",
       "                                                    present_res_since  \\\n",
       "duration_in_month                                            0.034067   \n",
       "credit_amount                                                0.028926   \n",
       "installment_as_income_perc                                   0.049302   \n",
       "present_res_since                                            1.000000   \n",
       "age                                                          0.266419   \n",
       "...                                                               ...   \n",
       "other_debtors_none                                           0.020553   \n",
       "property_if not A121 : building society savings...          -0.023708   \n",
       "property_if not A121/A122 : car or other, not i...          -0.041462   \n",
       "property_real estate                                        -0.085194   \n",
       "property_unknown / no property                               0.188028   \n",
       "\n",
       "                                                         age  \\\n",
       "duration_in_month                                  -0.036136   \n",
       "credit_amount                                       0.032716   \n",
       "installment_as_income_perc                          0.058266   \n",
       "present_res_since                                   0.266419   \n",
       "age                                                 1.000000   \n",
       "...                                                      ...   \n",
       "other_debtors_none                                  0.030822   \n",
       "property_if not A121 : building society savings... -0.028686   \n",
       "property_if not A121/A122 : car or other, not i... -0.143485   \n",
       "property_real estate                                0.011538   \n",
       "property_unknown / no property                      0.206368   \n",
       "\n",
       "                                                    credits_this_bank  \\\n",
       "duration_in_month                                           -0.011284   \n",
       "credit_amount                                                0.020795   \n",
       "installment_as_income_perc                                   0.021669   \n",
       "present_res_since                                            0.089625   \n",
       "age                                                          0.149254   \n",
       "...                                                               ...   \n",
       "other_debtors_none                                           0.022966   \n",
       "property_if not A121 : building society savings...          -0.009946   \n",
       "property_if not A121/A122 : car or other, not i...           0.010577   \n",
       "property_real estate                                         0.008568   \n",
       "property_unknown / no property                              -0.012850   \n",
       "\n",
       "                                                    people_under_maintenance  \\\n",
       "duration_in_month                                                  -0.023834   \n",
       "credit_amount                                                       0.017142   \n",
       "installment_as_income_perc                                         -0.071207   \n",
       "present_res_since                                                   0.042643   \n",
       "age                                                                 0.118201   \n",
       "...                                                                      ...   \n",
       "other_debtors_none                                                 -0.005566   \n",
       "property_if not A121 : building society savings...                 -0.006284   \n",
       "property_if not A121/A122 : car or other, not i...                 -0.073108   \n",
       "property_real estate                                                0.020203   \n",
       "property_unknown / no property                                      0.077548   \n",
       "\n",
       "                                                    credit_history_all credits at this bank paid back duly  \\\n",
       "duration_in_month                                                                            0.033728        \n",
       "credit_amount                                                                                0.005923        \n",
       "installment_as_income_perc                                                                   0.030339        \n",
       "present_res_since                                                                            0.027694        \n",
       "age                                                                                          0.014360        \n",
       "...                                                                                               ...        \n",
       "other_debtors_none                                                                          -0.054917        \n",
       "property_if not A121 : building society savings...                                          -0.036962        \n",
       "property_if not A121/A122 : car or other, not i...                                          -0.012473        \n",
       "property_real estate                                                                        -0.029011        \n",
       "property_unknown / no property                                                               0.095666        \n",
       "\n",
       "                                                    credit_history_critical account/ other credits existing (not at this bank)  \\\n",
       "duration_in_month                                                                           -0.075575                            \n",
       "credit_amount                                                                               -0.041807                            \n",
       "installment_as_income_perc                                                                   0.041089                            \n",
       "present_res_since                                                                            0.088460                            \n",
       "age                                                                                          0.163681                            \n",
       "...                                                                                               ...                            \n",
       "other_debtors_none                                                                           0.017014                            \n",
       "property_if not A121 : building society savings...                                           0.005330                            \n",
       "property_if not A121/A122 : car or other, not i...                                          -0.033946                            \n",
       "property_real estate                                                                         0.031123                            \n",
       "property_unknown / no property                                                              -0.000743                            \n",
       "\n",
       "                                                    credit_history_delay in paying off in the past  \\\n",
       "duration_in_month                                                                         0.136927   \n",
       "credit_amount                                                                             0.113552   \n",
       "installment_as_income_perc                                                               -0.014597   \n",
       "present_res_since                                                                        -0.020351   \n",
       "age                                                                                       0.016129   \n",
       "...                                                                                            ...   \n",
       "other_debtors_none                                                                        0.087314   \n",
       "property_if not A121 : building society savings...                                        0.021609   \n",
       "property_if not A121/A122 : car or other, not i...                                        0.013372   \n",
       "property_real estate                                                                     -0.045625   \n",
       "property_unknown / no property                                                            0.014161   \n",
       "\n",
       "                                                    ...  \\\n",
       "duration_in_month                                   ...   \n",
       "credit_amount                                       ...   \n",
       "installment_as_income_perc                          ...   \n",
       "present_res_since                                   ...   \n",
       "age                                                 ...   \n",
       "...                                                 ...   \n",
       "other_debtors_none                                  ...   \n",
       "property_if not A121 : building society savings...  ...   \n",
       "property_if not A121/A122 : car or other, not i...  ...   \n",
       "property_real estate                                ...   \n",
       "property_unknown / no property                      ...   \n",
       "\n",
       "                                                    savings_100 <= ... < 500 DM  \\\n",
       "duration_in_month                                                      0.051587   \n",
       "credit_amount                                                          0.013546   \n",
       "installment_as_income_perc                                            -0.015356   \n",
       "present_res_since                                                      0.017789   \n",
       "age                                                                   -0.075302   \n",
       "...                                                                         ...   \n",
       "other_debtors_none                                                    -0.004769   \n",
       "property_if not A121 : building society savings...                     0.008605   \n",
       "property_if not A121/A122 : car or other, not i...                     0.040547   \n",
       "property_real estate                                                  -0.066139   \n",
       "property_unknown / no property                                         0.019487   \n",
       "\n",
       "                                                    savings_500 <= ... < 1000 DM   \\\n",
       "duration_in_month                                                       -0.040257   \n",
       "credit_amount                                                           -0.064256   \n",
       "installment_as_income_perc                                              -0.023186   \n",
       "present_res_since                                                        0.032702   \n",
       "age                                                                      0.030988   \n",
       "...                                                                           ...   \n",
       "other_debtors_none                                                       0.083031   \n",
       "property_if not A121 : building society savings...                      -0.025508   \n",
       "property_if not A121/A122 : car or other, not i...                       0.053173   \n",
       "property_real estate                                                    -0.025300   \n",
       "property_unknown / no property                                          -0.008005   \n",
       "\n",
       "                                                    savings_unknown/ no savings account  \\\n",
       "duration_in_month                                                              0.071185   \n",
       "credit_amount                                                                  0.106546   \n",
       "installment_as_income_perc                                                     0.018367   \n",
       "present_res_since                                                              0.080564   \n",
       "age                                                                            0.077811   \n",
       "...                                                                                 ...   \n",
       "other_debtors_none                                                             0.053597   \n",
       "property_if not A121 : building society savings...                             0.058475   \n",
       "property_if not A121/A122 : car or other, not i...                            -0.026118   \n",
       "property_real estate                                                          -0.049463   \n",
       "property_unknown / no property                                                 0.027356   \n",
       "\n",
       "                                                    other_debtors_co-applicant  \\\n",
       "duration_in_month                                                     0.029698   \n",
       "credit_amount                                                         0.079076   \n",
       "installment_as_income_perc                                           -0.013048   \n",
       "present_res_since                                                     0.001623   \n",
       "age                                                                  -0.018357   \n",
       "...                                                                        ...   \n",
       "other_debtors_none                                                   -0.645721   \n",
       "property_if not A121 : building society savings...                   -0.018065   \n",
       "property_if not A121/A122 : car or other, not i...                   -0.038680   \n",
       "property_real estate                                                  0.004909   \n",
       "property_unknown / no property                                        0.065472   \n",
       "\n",
       "                                                    other_debtors_guarantor  \\\n",
       "duration_in_month                                                 -0.039594   \n",
       "credit_amount                                                     -0.065237   \n",
       "installment_as_income_perc                                        -0.006429   \n",
       "present_res_since                                                 -0.028334   \n",
       "age                                                               -0.023923   \n",
       "...                                                                     ...   \n",
       "other_debtors_none                                                -0.731408   \n",
       "property_if not A121 : building society savings...                 0.031327   \n",
       "property_if not A121/A122 : car or other, not i...                -0.126856   \n",
       "property_real estate                                               0.163513   \n",
       "property_unknown / no property                                    -0.074968   \n",
       "\n",
       "                                                    other_debtors_none  \\\n",
       "duration_in_month                                             0.009993   \n",
       "credit_amount                                                -0.004116   \n",
       "installment_as_income_perc                                    0.013823   \n",
       "present_res_since                                             0.020553   \n",
       "age                                                           0.030822   \n",
       "...                                                                ...   \n",
       "other_debtors_none                                            1.000000   \n",
       "property_if not A121 : building society savings...           -0.011616   \n",
       "property_if not A121/A122 : car or other, not i...            0.123386   \n",
       "property_real estate                                         -0.128353   \n",
       "property_unknown / no property                                0.012611   \n",
       "\n",
       "                                                    property_if not A121 : building society savings agreement/ life insurance  \\\n",
       "duration_in_month                                                                           -0.056706                           \n",
       "credit_amount                                                                               -0.032556                           \n",
       "installment_as_income_perc                                                                  -0.020628                           \n",
       "present_res_since                                                                           -0.023708                           \n",
       "age                                                                                         -0.028686                           \n",
       "...                                                                                               ...                           \n",
       "other_debtors_none                                                                          -0.011616                           \n",
       "property_if not A121 : building society savings...                                           1.000000                           \n",
       "property_if not A121/A122 : car or other, not i...                                          -0.387475                           \n",
       "property_real estate                                                                        -0.344450                           \n",
       "property_unknown / no property                                                              -0.234498                           \n",
       "\n",
       "                                                    property_if not A121/A122 : car or other, not in attribute 6  \\\n",
       "duration_in_month                                                                            0.119486              \n",
       "credit_amount                                                                                0.075679              \n",
       "installment_as_income_perc                                                                   0.017023              \n",
       "present_res_since                                                                           -0.041462              \n",
       "age                                                                                         -0.143485              \n",
       "...                                                                                               ...              \n",
       "other_debtors_none                                                                           0.123386              \n",
       "property_if not A121 : building society savings...                                          -0.387475              \n",
       "property_if not A121/A122 : car or other, not i...                                           1.000000              \n",
       "property_real estate                                                                        -0.441818              \n",
       "property_unknown / no property                                                              -0.300785              \n",
       "\n",
       "                                                    property_real estate  \\\n",
       "duration_in_month                                              -0.242586   \n",
       "credit_amount                                                  -0.248338   \n",
       "installment_as_income_perc                                     -0.034555   \n",
       "present_res_since                                              -0.085194   \n",
       "age                                                             0.011538   \n",
       "...                                                                  ...   \n",
       "other_debtors_none                                             -0.128353   \n",
       "property_if not A121 : building society savings...             -0.344450   \n",
       "property_if not A121/A122 : car or other, not i...             -0.441818   \n",
       "property_real estate                                            1.000000   \n",
       "property_unknown / no property                                 -0.267385   \n",
       "\n",
       "                                                    property_unknown / no property  \n",
       "duration_in_month                                                         0.212838  \n",
       "credit_amount                                                             0.248922  \n",
       "installment_as_income_perc                                                0.044990  \n",
       "present_res_since                                                         0.188028  \n",
       "age                                                                       0.206368  \n",
       "...                                                                            ...  \n",
       "other_debtors_none                                                        0.012611  \n",
       "property_if not A121 : building society savings...                       -0.234498  \n",
       "property_if not A121/A122 : car or other, not i...                       -0.300785  \n",
       "property_real estate                                                     -0.267385  \n",
       "property_unknown / no property                                            1.000000  \n",
       "\n",
       "[61 rows x 61 columns]"
      ]
     },
     "execution_count": 30,
     "metadata": {},
     "output_type": "execute_result"
    }
   ],
   "source": [
    "data.corr()"
   ]
  },
  {
   "cell_type": "markdown",
   "metadata": {
    "colab_type": "text",
    "id": "jeI1_7is_0pG"
   },
   "source": [
    "### Drop the original variables which are converted to dummy"
   ]
  },
  {
   "cell_type": "markdown",
   "metadata": {
    "colab": {},
    "colab_type": "code",
    "id": "LYeShbCO_0pI"
   },
   "source": [
    "*This is already been taken care of during dummy encoding. This can be verified from above, wherein we can't see the below columns*\n",
    "\n",
    "1. credit_history\n",
    "2. purpose\n",
    "3. personal_status_sex\n",
    "4. other_installment_plans\n",
    "5. housing\n",
    "6. job\n",
    "7. telephone\n",
    "8. foreign_worker"
   ]
  },
  {
   "cell_type": "markdown",
   "metadata": {
    "colab_type": "text",
    "id": "XLtFcI1m_0pQ"
   },
   "source": [
    "### Q3 Split Train/Test data 70:30 ratio( 1 Marks)\n",
    "##### Hint:from sklearn.model_selection import train_test_split"
   ]
  },
  {
   "cell_type": "code",
   "execution_count": 31,
   "metadata": {},
   "outputs": [],
   "source": [
    "X_train,X_test,y_train,y_test = train_test_split(data,y,test_size=0.3,random_state=1)"
   ]
  },
  {
   "cell_type": "code",
   "execution_count": 32,
   "metadata": {},
   "outputs": [
    {
     "data": {
      "text/html": [
       "<div>\n",
       "<style scoped>\n",
       "    .dataframe tbody tr th:only-of-type {\n",
       "        vertical-align: middle;\n",
       "    }\n",
       "\n",
       "    .dataframe tbody tr th {\n",
       "        vertical-align: top;\n",
       "    }\n",
       "\n",
       "    .dataframe thead th {\n",
       "        text-align: right;\n",
       "    }\n",
       "</style>\n",
       "<table border=\"1\" class=\"dataframe\">\n",
       "  <thead>\n",
       "    <tr style=\"text-align: right;\">\n",
       "      <th></th>\n",
       "      <th>duration_in_month</th>\n",
       "      <th>credit_amount</th>\n",
       "      <th>installment_as_income_perc</th>\n",
       "      <th>present_res_since</th>\n",
       "      <th>age</th>\n",
       "      <th>credits_this_bank</th>\n",
       "      <th>people_under_maintenance</th>\n",
       "      <th>credit_history_all credits at this bank paid back duly</th>\n",
       "      <th>credit_history_critical account/ other credits existing (not at this bank)</th>\n",
       "      <th>credit_history_delay in paying off in the past</th>\n",
       "      <th>...</th>\n",
       "      <th>savings_100 &lt;= ... &lt; 500 DM</th>\n",
       "      <th>savings_500 &lt;= ... &lt; 1000 DM</th>\n",
       "      <th>savings_unknown/ no savings account</th>\n",
       "      <th>other_debtors_co-applicant</th>\n",
       "      <th>other_debtors_guarantor</th>\n",
       "      <th>other_debtors_none</th>\n",
       "      <th>property_if not A121 : building society savings agreement/ life insurance</th>\n",
       "      <th>property_if not A121/A122 : car or other, not in attribute 6</th>\n",
       "      <th>property_real estate</th>\n",
       "      <th>property_unknown / no property</th>\n",
       "    </tr>\n",
       "  </thead>\n",
       "  <tbody>\n",
       "    <tr>\n",
       "      <td>507</td>\n",
       "      <td>-0.477494</td>\n",
       "      <td>1.258735</td>\n",
       "      <td>-1.825742</td>\n",
       "      <td>-0.691218</td>\n",
       "      <td>-0.117271</td>\n",
       "      <td>-0.714759</td>\n",
       "      <td>2.134375</td>\n",
       "      <td>4.698609</td>\n",
       "      <td>-0.712417</td>\n",
       "      <td>-0.267261</td>\n",
       "      <td>...</td>\n",
       "      <td>2.893959</td>\n",
       "      <td>-0.288154</td>\n",
       "      <td>-0.447214</td>\n",
       "      <td>-0.185695</td>\n",
       "      <td>-0.237356</td>\n",
       "      <td>0.308043</td>\n",
       "      <td>1.747585</td>\n",
       "      <td>-0.728431</td>\n",
       "      <td>-0.613308</td>\n",
       "      <td>-0.392232</td>\n",
       "    </tr>\n",
       "    <tr>\n",
       "      <td>818</td>\n",
       "      <td>1.224947</td>\n",
       "      <td>4.484249</td>\n",
       "      <td>-0.912871</td>\n",
       "      <td>0.180065</td>\n",
       "      <td>0.724835</td>\n",
       "      <td>-0.714759</td>\n",
       "      <td>-0.468521</td>\n",
       "      <td>-0.212829</td>\n",
       "      <td>-0.712417</td>\n",
       "      <td>-0.267261</td>\n",
       "      <td>...</td>\n",
       "      <td>-0.345547</td>\n",
       "      <td>-0.288154</td>\n",
       "      <td>-0.447214</td>\n",
       "      <td>5.385165</td>\n",
       "      <td>-0.237356</td>\n",
       "      <td>-3.246300</td>\n",
       "      <td>-0.572218</td>\n",
       "      <td>1.372813</td>\n",
       "      <td>-0.613308</td>\n",
       "      <td>-0.392232</td>\n",
       "    </tr>\n",
       "    <tr>\n",
       "      <td>452</td>\n",
       "      <td>-0.720700</td>\n",
       "      <td>-0.206301</td>\n",
       "      <td>-0.912871</td>\n",
       "      <td>1.051349</td>\n",
       "      <td>-0.117271</td>\n",
       "      <td>0.973648</td>\n",
       "      <td>-0.468521</td>\n",
       "      <td>-0.212829</td>\n",
       "      <td>-0.712417</td>\n",
       "      <td>-0.267261</td>\n",
       "      <td>...</td>\n",
       "      <td>-0.345547</td>\n",
       "      <td>-0.288154</td>\n",
       "      <td>-0.447214</td>\n",
       "      <td>-0.185695</td>\n",
       "      <td>-0.237356</td>\n",
       "      <td>0.308043</td>\n",
       "      <td>1.747585</td>\n",
       "      <td>-0.728431</td>\n",
       "      <td>-0.613308</td>\n",
       "      <td>-0.392232</td>\n",
       "    </tr>\n",
       "    <tr>\n",
       "      <td>368</td>\n",
       "      <td>1.224947</td>\n",
       "      <td>0.039722</td>\n",
       "      <td>0.912871</td>\n",
       "      <td>-0.691218</td>\n",
       "      <td>0.631268</td>\n",
       "      <td>-0.714759</td>\n",
       "      <td>2.134375</td>\n",
       "      <td>-0.212829</td>\n",
       "      <td>-0.712417</td>\n",
       "      <td>-0.267261</td>\n",
       "      <td>...</td>\n",
       "      <td>-0.345547</td>\n",
       "      <td>-0.288154</td>\n",
       "      <td>-0.447214</td>\n",
       "      <td>-0.185695</td>\n",
       "      <td>-0.237356</td>\n",
       "      <td>0.308043</td>\n",
       "      <td>-0.572218</td>\n",
       "      <td>1.372813</td>\n",
       "      <td>-0.613308</td>\n",
       "      <td>-0.392232</td>\n",
       "    </tr>\n",
       "    <tr>\n",
       "      <td>242</td>\n",
       "      <td>2.197770</td>\n",
       "      <td>0.454774</td>\n",
       "      <td>0.000000</td>\n",
       "      <td>1.051349</td>\n",
       "      <td>-1.052944</td>\n",
       "      <td>0.973648</td>\n",
       "      <td>2.134375</td>\n",
       "      <td>-0.212829</td>\n",
       "      <td>-0.712417</td>\n",
       "      <td>-0.267261</td>\n",
       "      <td>...</td>\n",
       "      <td>-0.345547</td>\n",
       "      <td>-0.288154</td>\n",
       "      <td>-0.447214</td>\n",
       "      <td>-0.185695</td>\n",
       "      <td>-0.237356</td>\n",
       "      <td>0.308043</td>\n",
       "      <td>-0.572218</td>\n",
       "      <td>-0.728431</td>\n",
       "      <td>-0.613308</td>\n",
       "      <td>2.549510</td>\n",
       "    </tr>\n",
       "    <tr>\n",
       "      <td>...</td>\n",
       "      <td>...</td>\n",
       "      <td>...</td>\n",
       "      <td>...</td>\n",
       "      <td>...</td>\n",
       "      <td>...</td>\n",
       "      <td>...</td>\n",
       "      <td>...</td>\n",
       "      <td>...</td>\n",
       "      <td>...</td>\n",
       "      <td>...</td>\n",
       "      <td>...</td>\n",
       "      <td>...</td>\n",
       "      <td>...</td>\n",
       "      <td>...</td>\n",
       "      <td>...</td>\n",
       "      <td>...</td>\n",
       "      <td>...</td>\n",
       "      <td>...</td>\n",
       "      <td>...</td>\n",
       "      <td>...</td>\n",
       "      <td>...</td>\n",
       "    </tr>\n",
       "    <tr>\n",
       "      <td>459</td>\n",
       "      <td>-0.234288</td>\n",
       "      <td>0.450834</td>\n",
       "      <td>0.000000</td>\n",
       "      <td>-0.691218</td>\n",
       "      <td>-0.304406</td>\n",
       "      <td>-0.714759</td>\n",
       "      <td>-0.468521</td>\n",
       "      <td>-0.212829</td>\n",
       "      <td>-0.712417</td>\n",
       "      <td>-0.267261</td>\n",
       "      <td>...</td>\n",
       "      <td>-0.345547</td>\n",
       "      <td>-0.288154</td>\n",
       "      <td>-0.447214</td>\n",
       "      <td>-0.185695</td>\n",
       "      <td>-0.237356</td>\n",
       "      <td>0.308043</td>\n",
       "      <td>-0.572218</td>\n",
       "      <td>1.372813</td>\n",
       "      <td>-0.613308</td>\n",
       "      <td>-0.392232</td>\n",
       "    </tr>\n",
       "    <tr>\n",
       "      <td>415</td>\n",
       "      <td>1.224947</td>\n",
       "      <td>0.897758</td>\n",
       "      <td>-0.912871</td>\n",
       "      <td>-0.691218</td>\n",
       "      <td>-0.023704</td>\n",
       "      <td>0.973648</td>\n",
       "      <td>2.134375</td>\n",
       "      <td>-0.212829</td>\n",
       "      <td>1.403673</td>\n",
       "      <td>-0.267261</td>\n",
       "      <td>...</td>\n",
       "      <td>-0.345547</td>\n",
       "      <td>-0.288154</td>\n",
       "      <td>-0.447214</td>\n",
       "      <td>-0.185695</td>\n",
       "      <td>-0.237356</td>\n",
       "      <td>0.308043</td>\n",
       "      <td>1.747585</td>\n",
       "      <td>-0.728431</td>\n",
       "      <td>-0.613308</td>\n",
       "      <td>-0.392232</td>\n",
       "    </tr>\n",
       "    <tr>\n",
       "      <td>61</td>\n",
       "      <td>-0.477494</td>\n",
       "      <td>-0.643914</td>\n",
       "      <td>0.912871</td>\n",
       "      <td>1.051349</td>\n",
       "      <td>1.379806</td>\n",
       "      <td>0.973648</td>\n",
       "      <td>-0.468521</td>\n",
       "      <td>-0.212829</td>\n",
       "      <td>1.403673</td>\n",
       "      <td>-0.267261</td>\n",
       "      <td>...</td>\n",
       "      <td>-0.345547</td>\n",
       "      <td>-0.288154</td>\n",
       "      <td>2.236068</td>\n",
       "      <td>-0.185695</td>\n",
       "      <td>4.213075</td>\n",
       "      <td>-3.246300</td>\n",
       "      <td>-0.572218</td>\n",
       "      <td>-0.728431</td>\n",
       "      <td>1.630502</td>\n",
       "      <td>-0.392232</td>\n",
       "    </tr>\n",
       "    <tr>\n",
       "      <td>347</td>\n",
       "      <td>0.252123</td>\n",
       "      <td>0.151453</td>\n",
       "      <td>-1.825742</td>\n",
       "      <td>1.051349</td>\n",
       "      <td>-1.146512</td>\n",
       "      <td>-0.714759</td>\n",
       "      <td>-0.468521</td>\n",
       "      <td>-0.212829</td>\n",
       "      <td>-0.712417</td>\n",
       "      <td>-0.267261</td>\n",
       "      <td>...</td>\n",
       "      <td>-0.345547</td>\n",
       "      <td>3.470371</td>\n",
       "      <td>-0.447214</td>\n",
       "      <td>-0.185695</td>\n",
       "      <td>-0.237356</td>\n",
       "      <td>0.308043</td>\n",
       "      <td>-0.572218</td>\n",
       "      <td>-0.728431</td>\n",
       "      <td>-0.613308</td>\n",
       "      <td>2.549510</td>\n",
       "    </tr>\n",
       "    <tr>\n",
       "      <td>349</td>\n",
       "      <td>-0.963906</td>\n",
       "      <td>-0.787517</td>\n",
       "      <td>0.912871</td>\n",
       "      <td>0.180065</td>\n",
       "      <td>-0.304406</td>\n",
       "      <td>0.973648</td>\n",
       "      <td>2.134375</td>\n",
       "      <td>-0.212829</td>\n",
       "      <td>1.403673</td>\n",
       "      <td>-0.267261</td>\n",
       "      <td>...</td>\n",
       "      <td>-0.345547</td>\n",
       "      <td>-0.288154</td>\n",
       "      <td>-0.447214</td>\n",
       "      <td>-0.185695</td>\n",
       "      <td>-0.237356</td>\n",
       "      <td>0.308043</td>\n",
       "      <td>-0.572218</td>\n",
       "      <td>-0.728431</td>\n",
       "      <td>-0.613308</td>\n",
       "      <td>2.549510</td>\n",
       "    </tr>\n",
       "  </tbody>\n",
       "</table>\n",
       "<p>300 rows × 61 columns</p>\n",
       "</div>"
      ],
      "text/plain": [
       "     duration_in_month  credit_amount  installment_as_income_perc  \\\n",
       "507          -0.477494       1.258735                   -1.825742   \n",
       "818           1.224947       4.484249                   -0.912871   \n",
       "452          -0.720700      -0.206301                   -0.912871   \n",
       "368           1.224947       0.039722                    0.912871   \n",
       "242           2.197770       0.454774                    0.000000   \n",
       "..                 ...            ...                         ...   \n",
       "459          -0.234288       0.450834                    0.000000   \n",
       "415           1.224947       0.897758                   -0.912871   \n",
       "61           -0.477494      -0.643914                    0.912871   \n",
       "347           0.252123       0.151453                   -1.825742   \n",
       "349          -0.963906      -0.787517                    0.912871   \n",
       "\n",
       "     present_res_since       age  credits_this_bank  people_under_maintenance  \\\n",
       "507          -0.691218 -0.117271          -0.714759                  2.134375   \n",
       "818           0.180065  0.724835          -0.714759                 -0.468521   \n",
       "452           1.051349 -0.117271           0.973648                 -0.468521   \n",
       "368          -0.691218  0.631268          -0.714759                  2.134375   \n",
       "242           1.051349 -1.052944           0.973648                  2.134375   \n",
       "..                 ...       ...                ...                       ...   \n",
       "459          -0.691218 -0.304406          -0.714759                 -0.468521   \n",
       "415          -0.691218 -0.023704           0.973648                  2.134375   \n",
       "61            1.051349  1.379806           0.973648                 -0.468521   \n",
       "347           1.051349 -1.146512          -0.714759                 -0.468521   \n",
       "349           0.180065 -0.304406           0.973648                  2.134375   \n",
       "\n",
       "     credit_history_all credits at this bank paid back duly  \\\n",
       "507                                           4.698609        \n",
       "818                                          -0.212829        \n",
       "452                                          -0.212829        \n",
       "368                                          -0.212829        \n",
       "242                                          -0.212829        \n",
       "..                                                 ...        \n",
       "459                                          -0.212829        \n",
       "415                                          -0.212829        \n",
       "61                                           -0.212829        \n",
       "347                                          -0.212829        \n",
       "349                                          -0.212829        \n",
       "\n",
       "     credit_history_critical account/ other credits existing (not at this bank)  \\\n",
       "507                                          -0.712417                            \n",
       "818                                          -0.712417                            \n",
       "452                                          -0.712417                            \n",
       "368                                          -0.712417                            \n",
       "242                                          -0.712417                            \n",
       "..                                                 ...                            \n",
       "459                                          -0.712417                            \n",
       "415                                           1.403673                            \n",
       "61                                            1.403673                            \n",
       "347                                          -0.712417                            \n",
       "349                                           1.403673                            \n",
       "\n",
       "     credit_history_delay in paying off in the past  ...  \\\n",
       "507                                       -0.267261  ...   \n",
       "818                                       -0.267261  ...   \n",
       "452                                       -0.267261  ...   \n",
       "368                                       -0.267261  ...   \n",
       "242                                       -0.267261  ...   \n",
       "..                                              ...  ...   \n",
       "459                                       -0.267261  ...   \n",
       "415                                       -0.267261  ...   \n",
       "61                                        -0.267261  ...   \n",
       "347                                       -0.267261  ...   \n",
       "349                                       -0.267261  ...   \n",
       "\n",
       "     savings_100 <= ... < 500 DM  savings_500 <= ... < 1000 DM   \\\n",
       "507                     2.893959                      -0.288154   \n",
       "818                    -0.345547                      -0.288154   \n",
       "452                    -0.345547                      -0.288154   \n",
       "368                    -0.345547                      -0.288154   \n",
       "242                    -0.345547                      -0.288154   \n",
       "..                           ...                            ...   \n",
       "459                    -0.345547                      -0.288154   \n",
       "415                    -0.345547                      -0.288154   \n",
       "61                     -0.345547                      -0.288154   \n",
       "347                    -0.345547                       3.470371   \n",
       "349                    -0.345547                      -0.288154   \n",
       "\n",
       "     savings_unknown/ no savings account  other_debtors_co-applicant  \\\n",
       "507                            -0.447214                   -0.185695   \n",
       "818                            -0.447214                    5.385165   \n",
       "452                            -0.447214                   -0.185695   \n",
       "368                            -0.447214                   -0.185695   \n",
       "242                            -0.447214                   -0.185695   \n",
       "..                                   ...                         ...   \n",
       "459                            -0.447214                   -0.185695   \n",
       "415                            -0.447214                   -0.185695   \n",
       "61                              2.236068                   -0.185695   \n",
       "347                            -0.447214                   -0.185695   \n",
       "349                            -0.447214                   -0.185695   \n",
       "\n",
       "     other_debtors_guarantor  other_debtors_none  \\\n",
       "507                -0.237356            0.308043   \n",
       "818                -0.237356           -3.246300   \n",
       "452                -0.237356            0.308043   \n",
       "368                -0.237356            0.308043   \n",
       "242                -0.237356            0.308043   \n",
       "..                       ...                 ...   \n",
       "459                -0.237356            0.308043   \n",
       "415                -0.237356            0.308043   \n",
       "61                  4.213075           -3.246300   \n",
       "347                -0.237356            0.308043   \n",
       "349                -0.237356            0.308043   \n",
       "\n",
       "     property_if not A121 : building society savings agreement/ life insurance  \\\n",
       "507                                           1.747585                           \n",
       "818                                          -0.572218                           \n",
       "452                                           1.747585                           \n",
       "368                                          -0.572218                           \n",
       "242                                          -0.572218                           \n",
       "..                                                 ...                           \n",
       "459                                          -0.572218                           \n",
       "415                                           1.747585                           \n",
       "61                                           -0.572218                           \n",
       "347                                          -0.572218                           \n",
       "349                                          -0.572218                           \n",
       "\n",
       "     property_if not A121/A122 : car or other, not in attribute 6  \\\n",
       "507                                          -0.728431              \n",
       "818                                           1.372813              \n",
       "452                                          -0.728431              \n",
       "368                                           1.372813              \n",
       "242                                          -0.728431              \n",
       "..                                                 ...              \n",
       "459                                           1.372813              \n",
       "415                                          -0.728431              \n",
       "61                                           -0.728431              \n",
       "347                                          -0.728431              \n",
       "349                                          -0.728431              \n",
       "\n",
       "     property_real estate  property_unknown / no property  \n",
       "507             -0.613308                       -0.392232  \n",
       "818             -0.613308                       -0.392232  \n",
       "452             -0.613308                       -0.392232  \n",
       "368             -0.613308                       -0.392232  \n",
       "242             -0.613308                        2.549510  \n",
       "..                    ...                             ...  \n",
       "459             -0.613308                       -0.392232  \n",
       "415             -0.613308                       -0.392232  \n",
       "61               1.630502                       -0.392232  \n",
       "347             -0.613308                        2.549510  \n",
       "349             -0.613308                        2.549510  \n",
       "\n",
       "[300 rows x 61 columns]"
      ]
     },
     "execution_count": 32,
     "metadata": {},
     "output_type": "execute_result"
    }
   ],
   "source": [
    "#Applying scaling to the X dataset\n",
    "X_train.apply(zscore)\n",
    "X_test.apply(zscore)"
   ]
  },
  {
   "cell_type": "markdown",
   "metadata": {
    "colab": {},
    "colab_type": "code",
    "id": "pHxXKL92_0pS"
   },
   "source": []
  },
  {
   "cell_type": "markdown",
   "metadata": {
    "colab_type": "text",
    "id": "wWTpd4Ng_0pW"
   },
   "source": [
    "### Q4 Build Random Forest Model( 1 Marks)\n",
    "#### Hint:from sklearn.ensemble import RandomForestClassifier using n_jobs=2,n_estimators=500,criterion=\"entropy\",random_state=9999"
   ]
  },
  {
   "cell_type": "code",
   "execution_count": 33,
   "metadata": {
    "colab": {},
    "colab_type": "code",
    "id": "AHX5tgQm_0pY"
   },
   "outputs": [],
   "source": [
    "rfcl = RandomForestClassifier(n_jobs=2,n_estimators=500,criterion=\"entropy\",random_state=9999)\n",
    "rfcl = rfcl.fit(X_train,y_train)\n",
    "\n",
    "y_pred_test_rfcl = rfcl.predict(X_test)"
   ]
  },
  {
   "cell_type": "markdown",
   "metadata": {
    "colab_type": "text",
    "id": "LuQwgG7T_0pa"
   },
   "source": [
    "### Q5 Calculate Confusion Matrix and Accuracy score (1 Marks)\n",
    "##### Hint: Use confusion_matrix and accuracy_score"
   ]
  },
  {
   "cell_type": "code",
   "execution_count": 34,
   "metadata": {
    "colab": {},
    "colab_type": "code",
    "id": "YgczdMEB_0pc"
   },
   "outputs": [
    {
     "data": {
      "text/plain": [
       "array([[200,  14],\n",
       "       [ 58,  28]])"
      ]
     },
     "execution_count": 34,
     "metadata": {},
     "output_type": "execute_result"
    }
   ],
   "source": [
    "metrics.confusion_matrix(y_test,y_pred_test_rfcl)"
   ]
  },
  {
   "cell_type": "code",
   "execution_count": 35,
   "metadata": {},
   "outputs": [
    {
     "data": {
      "text/plain": [
       "0.76"
      ]
     },
     "execution_count": 35,
     "metadata": {},
     "output_type": "execute_result"
    }
   ],
   "source": [
    "metrics.accuracy_score(y_test,y_pred_test_rfcl)"
   ]
  },
  {
   "cell_type": "markdown",
   "metadata": {
    "colab_type": "text",
    "id": "x2wDGYcC_0pf"
   },
   "source": [
    "### Q6 Show the list of the features importance( 1 Marks)"
   ]
  },
  {
   "cell_type": "code",
   "execution_count": 36,
   "metadata": {
    "colab": {},
    "colab_type": "code",
    "id": "bEWKBXX8_0ph"
   },
   "outputs": [
    {
     "name": "stdout",
     "output_type": "stream",
     "text": [
      "The list of important features, ordered in a descending order of importance\n",
      "\n",
      "credit_amount                               0.101710\n",
      "age                                         0.078145\n",
      "duration_in_month                           0.072253\n",
      "account_check_status_no checking account    0.046639\n",
      "installment_as_income_perc                  0.038432\n",
      "                                              ...   \n",
      "foreign_worker_yes                          0.002755\n",
      "purpose_repairs                             0.002421\n",
      "job_unemployed/ unskilled - non-resident    0.002028\n",
      "purpose_furniture/equipment                 0.001267\n",
      "purpose_retraining                          0.001094\n",
      "Length: 61, dtype: float64\n"
     ]
    }
   ],
   "source": [
    "important_features = pd.Series(data=rfcl.feature_importances_,index=data.columns)\n",
    "important_features.sort_values(ascending=False,inplace=True)\n",
    "print(\"The list of important features, ordered in a descending order of importance\",end='\\n\\n')\n",
    "print (important_features)"
   ]
  },
  {
   "cell_type": "markdown",
   "metadata": {
    "colab_type": "text",
    "id": "U7VnUE71_0pk"
   },
   "source": [
    "### Q7 K-fold cross-validation( 2 Marks)\n",
    "##### k-fold cross validation( without stratification)\n",
    "##### Usually k is set as 10-20 in practical settings, depends on data set size"
   ]
  },
  {
   "cell_type": "code",
   "execution_count": 37,
   "metadata": {
    "colab": {},
    "colab_type": "code",
    "id": "SLIiX3BP_0pp"
   },
   "outputs": [],
   "source": [
    "# Use below values\n",
    "num_folds = 10\n",
    "seed = 77"
   ]
  },
  {
   "cell_type": "code",
   "execution_count": 38,
   "metadata": {},
   "outputs": [
    {
     "data": {
      "text/html": [
       "<div>\n",
       "<style scoped>\n",
       "    .dataframe tbody tr th:only-of-type {\n",
       "        vertical-align: middle;\n",
       "    }\n",
       "\n",
       "    .dataframe tbody tr th {\n",
       "        vertical-align: top;\n",
       "    }\n",
       "\n",
       "    .dataframe thead th {\n",
       "        text-align: right;\n",
       "    }\n",
       "</style>\n",
       "<table border=\"1\" class=\"dataframe\">\n",
       "  <thead>\n",
       "    <tr style=\"text-align: right;\">\n",
       "      <th></th>\n",
       "      <th>duration_in_month</th>\n",
       "      <th>credit_amount</th>\n",
       "      <th>installment_as_income_perc</th>\n",
       "      <th>present_res_since</th>\n",
       "      <th>age</th>\n",
       "      <th>credits_this_bank</th>\n",
       "      <th>people_under_maintenance</th>\n",
       "      <th>credit_history_all credits at this bank paid back duly</th>\n",
       "      <th>credit_history_critical account/ other credits existing (not at this bank)</th>\n",
       "      <th>credit_history_delay in paying off in the past</th>\n",
       "      <th>...</th>\n",
       "      <th>savings_100 &lt;= ... &lt; 500 DM</th>\n",
       "      <th>savings_500 &lt;= ... &lt; 1000 DM</th>\n",
       "      <th>savings_unknown/ no savings account</th>\n",
       "      <th>other_debtors_co-applicant</th>\n",
       "      <th>other_debtors_guarantor</th>\n",
       "      <th>other_debtors_none</th>\n",
       "      <th>property_if not A121 : building society savings agreement/ life insurance</th>\n",
       "      <th>property_if not A121/A122 : car or other, not in attribute 6</th>\n",
       "      <th>property_real estate</th>\n",
       "      <th>property_unknown / no property</th>\n",
       "    </tr>\n",
       "  </thead>\n",
       "  <tbody>\n",
       "    <tr>\n",
       "      <td>0</td>\n",
       "      <td>-1.236478</td>\n",
       "      <td>-0.745131</td>\n",
       "      <td>0.918477</td>\n",
       "      <td>1.046987</td>\n",
       "      <td>2.766456</td>\n",
       "      <td>1.027079</td>\n",
       "      <td>-0.428290</td>\n",
       "      <td>-0.226991</td>\n",
       "      <td>1.553374</td>\n",
       "      <td>-0.31063</td>\n",
       "      <td>...</td>\n",
       "      <td>-0.338862</td>\n",
       "      <td>-0.259299</td>\n",
       "      <td>2.112932</td>\n",
       "      <td>-0.206768</td>\n",
       "      <td>-0.234206</td>\n",
       "      <td>0.320212</td>\n",
       "      <td>-0.549621</td>\n",
       "      <td>-0.704987</td>\n",
       "      <td>1.595650</td>\n",
       "      <td>-0.426653</td>\n",
       "    </tr>\n",
       "    <tr>\n",
       "      <td>1</td>\n",
       "      <td>2.248194</td>\n",
       "      <td>0.949817</td>\n",
       "      <td>-0.870183</td>\n",
       "      <td>-0.765977</td>\n",
       "      <td>-1.191404</td>\n",
       "      <td>-0.704926</td>\n",
       "      <td>-0.428290</td>\n",
       "      <td>-0.226991</td>\n",
       "      <td>-0.643760</td>\n",
       "      <td>-0.31063</td>\n",
       "      <td>...</td>\n",
       "      <td>-0.338862</td>\n",
       "      <td>-0.259299</td>\n",
       "      <td>-0.473276</td>\n",
       "      <td>-0.206768</td>\n",
       "      <td>-0.234206</td>\n",
       "      <td>0.320212</td>\n",
       "      <td>-0.549621</td>\n",
       "      <td>-0.704987</td>\n",
       "      <td>1.595650</td>\n",
       "      <td>-0.426653</td>\n",
       "    </tr>\n",
       "    <tr>\n",
       "      <td>2</td>\n",
       "      <td>-0.738668</td>\n",
       "      <td>-0.416562</td>\n",
       "      <td>-0.870183</td>\n",
       "      <td>0.140505</td>\n",
       "      <td>1.183312</td>\n",
       "      <td>-0.704926</td>\n",
       "      <td>2.334869</td>\n",
       "      <td>-0.226991</td>\n",
       "      <td>1.553374</td>\n",
       "      <td>-0.31063</td>\n",
       "      <td>...</td>\n",
       "      <td>-0.338862</td>\n",
       "      <td>-0.259299</td>\n",
       "      <td>-0.473276</td>\n",
       "      <td>-0.206768</td>\n",
       "      <td>-0.234206</td>\n",
       "      <td>0.320212</td>\n",
       "      <td>-0.549621</td>\n",
       "      <td>-0.704987</td>\n",
       "      <td>1.595650</td>\n",
       "      <td>-0.426653</td>\n",
       "    </tr>\n",
       "    <tr>\n",
       "      <td>3</td>\n",
       "      <td>1.750384</td>\n",
       "      <td>1.634247</td>\n",
       "      <td>-0.870183</td>\n",
       "      <td>1.046987</td>\n",
       "      <td>0.831502</td>\n",
       "      <td>-0.704926</td>\n",
       "      <td>2.334869</td>\n",
       "      <td>-0.226991</td>\n",
       "      <td>-0.643760</td>\n",
       "      <td>-0.31063</td>\n",
       "      <td>...</td>\n",
       "      <td>-0.338862</td>\n",
       "      <td>-0.259299</td>\n",
       "      <td>-0.473276</td>\n",
       "      <td>-0.206768</td>\n",
       "      <td>4.269750</td>\n",
       "      <td>-3.122929</td>\n",
       "      <td>1.819435</td>\n",
       "      <td>-0.704987</td>\n",
       "      <td>-0.626704</td>\n",
       "      <td>-0.426653</td>\n",
       "    </tr>\n",
       "    <tr>\n",
       "      <td>4</td>\n",
       "      <td>0.256953</td>\n",
       "      <td>0.566664</td>\n",
       "      <td>0.024147</td>\n",
       "      <td>1.046987</td>\n",
       "      <td>1.535122</td>\n",
       "      <td>1.027079</td>\n",
       "      <td>2.334869</td>\n",
       "      <td>-0.226991</td>\n",
       "      <td>-0.643760</td>\n",
       "      <td>3.21926</td>\n",
       "      <td>...</td>\n",
       "      <td>-0.338862</td>\n",
       "      <td>-0.259299</td>\n",
       "      <td>-0.473276</td>\n",
       "      <td>-0.206768</td>\n",
       "      <td>-0.234206</td>\n",
       "      <td>0.320212</td>\n",
       "      <td>-0.549621</td>\n",
       "      <td>-0.704987</td>\n",
       "      <td>-0.626704</td>\n",
       "      <td>2.343823</td>\n",
       "    </tr>\n",
       "    <tr>\n",
       "      <td>...</td>\n",
       "      <td>...</td>\n",
       "      <td>...</td>\n",
       "      <td>...</td>\n",
       "      <td>...</td>\n",
       "      <td>...</td>\n",
       "      <td>...</td>\n",
       "      <td>...</td>\n",
       "      <td>...</td>\n",
       "      <td>...</td>\n",
       "      <td>...</td>\n",
       "      <td>...</td>\n",
       "      <td>...</td>\n",
       "      <td>...</td>\n",
       "      <td>...</td>\n",
       "      <td>...</td>\n",
       "      <td>...</td>\n",
       "      <td>...</td>\n",
       "      <td>...</td>\n",
       "      <td>...</td>\n",
       "      <td>...</td>\n",
       "      <td>...</td>\n",
       "    </tr>\n",
       "    <tr>\n",
       "      <td>995</td>\n",
       "      <td>-0.738668</td>\n",
       "      <td>-0.544162</td>\n",
       "      <td>0.024147</td>\n",
       "      <td>1.046987</td>\n",
       "      <td>-0.399832</td>\n",
       "      <td>-0.704926</td>\n",
       "      <td>-0.428290</td>\n",
       "      <td>-0.226991</td>\n",
       "      <td>-0.643760</td>\n",
       "      <td>-0.31063</td>\n",
       "      <td>...</td>\n",
       "      <td>-0.338862</td>\n",
       "      <td>-0.259299</td>\n",
       "      <td>-0.473276</td>\n",
       "      <td>-0.206768</td>\n",
       "      <td>-0.234206</td>\n",
       "      <td>0.320212</td>\n",
       "      <td>-0.549621</td>\n",
       "      <td>-0.704987</td>\n",
       "      <td>1.595650</td>\n",
       "      <td>-0.426653</td>\n",
       "    </tr>\n",
       "    <tr>\n",
       "      <td>996</td>\n",
       "      <td>0.754763</td>\n",
       "      <td>0.207612</td>\n",
       "      <td>0.918477</td>\n",
       "      <td>1.046987</td>\n",
       "      <td>0.391740</td>\n",
       "      <td>-0.704926</td>\n",
       "      <td>-0.428290</td>\n",
       "      <td>-0.226991</td>\n",
       "      <td>-0.643760</td>\n",
       "      <td>-0.31063</td>\n",
       "      <td>...</td>\n",
       "      <td>-0.338862</td>\n",
       "      <td>-0.259299</td>\n",
       "      <td>-0.473276</td>\n",
       "      <td>-0.206768</td>\n",
       "      <td>-0.234206</td>\n",
       "      <td>0.320212</td>\n",
       "      <td>1.819435</td>\n",
       "      <td>-0.704987</td>\n",
       "      <td>-0.626704</td>\n",
       "      <td>-0.426653</td>\n",
       "    </tr>\n",
       "    <tr>\n",
       "      <td>997</td>\n",
       "      <td>-0.738668</td>\n",
       "      <td>-0.874503</td>\n",
       "      <td>0.918477</td>\n",
       "      <td>1.046987</td>\n",
       "      <td>0.215835</td>\n",
       "      <td>-0.704926</td>\n",
       "      <td>-0.428290</td>\n",
       "      <td>-0.226991</td>\n",
       "      <td>-0.643760</td>\n",
       "      <td>-0.31063</td>\n",
       "      <td>...</td>\n",
       "      <td>-0.338862</td>\n",
       "      <td>-0.259299</td>\n",
       "      <td>-0.473276</td>\n",
       "      <td>-0.206768</td>\n",
       "      <td>-0.234206</td>\n",
       "      <td>0.320212</td>\n",
       "      <td>-0.549621</td>\n",
       "      <td>1.418467</td>\n",
       "      <td>-0.626704</td>\n",
       "      <td>-0.426653</td>\n",
       "    </tr>\n",
       "    <tr>\n",
       "      <td>998</td>\n",
       "      <td>1.999289</td>\n",
       "      <td>-0.505528</td>\n",
       "      <td>0.918477</td>\n",
       "      <td>1.046987</td>\n",
       "      <td>-1.103451</td>\n",
       "      <td>-0.704926</td>\n",
       "      <td>-0.428290</td>\n",
       "      <td>-0.226991</td>\n",
       "      <td>-0.643760</td>\n",
       "      <td>-0.31063</td>\n",
       "      <td>...</td>\n",
       "      <td>-0.338862</td>\n",
       "      <td>-0.259299</td>\n",
       "      <td>-0.473276</td>\n",
       "      <td>-0.206768</td>\n",
       "      <td>-0.234206</td>\n",
       "      <td>0.320212</td>\n",
       "      <td>-0.549621</td>\n",
       "      <td>-0.704987</td>\n",
       "      <td>-0.626704</td>\n",
       "      <td>2.343823</td>\n",
       "    </tr>\n",
       "    <tr>\n",
       "      <td>999</td>\n",
       "      <td>1.999289</td>\n",
       "      <td>0.462457</td>\n",
       "      <td>0.024147</td>\n",
       "      <td>1.046987</td>\n",
       "      <td>-0.751642</td>\n",
       "      <td>-0.704926</td>\n",
       "      <td>-0.428290</td>\n",
       "      <td>-0.226991</td>\n",
       "      <td>1.553374</td>\n",
       "      <td>-0.31063</td>\n",
       "      <td>...</td>\n",
       "      <td>2.951057</td>\n",
       "      <td>-0.259299</td>\n",
       "      <td>-0.473276</td>\n",
       "      <td>-0.206768</td>\n",
       "      <td>-0.234206</td>\n",
       "      <td>0.320212</td>\n",
       "      <td>-0.549621</td>\n",
       "      <td>1.418467</td>\n",
       "      <td>-0.626704</td>\n",
       "      <td>-0.426653</td>\n",
       "    </tr>\n",
       "  </tbody>\n",
       "</table>\n",
       "<p>1000 rows × 61 columns</p>\n",
       "</div>"
      ],
      "text/plain": [
       "     duration_in_month  credit_amount  installment_as_income_perc  \\\n",
       "0            -1.236478      -0.745131                    0.918477   \n",
       "1             2.248194       0.949817                   -0.870183   \n",
       "2            -0.738668      -0.416562                   -0.870183   \n",
       "3             1.750384       1.634247                   -0.870183   \n",
       "4             0.256953       0.566664                    0.024147   \n",
       "..                 ...            ...                         ...   \n",
       "995          -0.738668      -0.544162                    0.024147   \n",
       "996           0.754763       0.207612                    0.918477   \n",
       "997          -0.738668      -0.874503                    0.918477   \n",
       "998           1.999289      -0.505528                    0.918477   \n",
       "999           1.999289       0.462457                    0.024147   \n",
       "\n",
       "     present_res_since       age  credits_this_bank  people_under_maintenance  \\\n",
       "0             1.046987  2.766456           1.027079                 -0.428290   \n",
       "1            -0.765977 -1.191404          -0.704926                 -0.428290   \n",
       "2             0.140505  1.183312          -0.704926                  2.334869   \n",
       "3             1.046987  0.831502          -0.704926                  2.334869   \n",
       "4             1.046987  1.535122           1.027079                  2.334869   \n",
       "..                 ...       ...                ...                       ...   \n",
       "995           1.046987 -0.399832          -0.704926                 -0.428290   \n",
       "996           1.046987  0.391740          -0.704926                 -0.428290   \n",
       "997           1.046987  0.215835          -0.704926                 -0.428290   \n",
       "998           1.046987 -1.103451          -0.704926                 -0.428290   \n",
       "999           1.046987 -0.751642          -0.704926                 -0.428290   \n",
       "\n",
       "     credit_history_all credits at this bank paid back duly  \\\n",
       "0                                            -0.226991        \n",
       "1                                            -0.226991        \n",
       "2                                            -0.226991        \n",
       "3                                            -0.226991        \n",
       "4                                            -0.226991        \n",
       "..                                                 ...        \n",
       "995                                          -0.226991        \n",
       "996                                          -0.226991        \n",
       "997                                          -0.226991        \n",
       "998                                          -0.226991        \n",
       "999                                          -0.226991        \n",
       "\n",
       "     credit_history_critical account/ other credits existing (not at this bank)  \\\n",
       "0                                             1.553374                            \n",
       "1                                            -0.643760                            \n",
       "2                                             1.553374                            \n",
       "3                                            -0.643760                            \n",
       "4                                            -0.643760                            \n",
       "..                                                 ...                            \n",
       "995                                          -0.643760                            \n",
       "996                                          -0.643760                            \n",
       "997                                          -0.643760                            \n",
       "998                                          -0.643760                            \n",
       "999                                           1.553374                            \n",
       "\n",
       "     credit_history_delay in paying off in the past  ...  \\\n",
       "0                                          -0.31063  ...   \n",
       "1                                          -0.31063  ...   \n",
       "2                                          -0.31063  ...   \n",
       "3                                          -0.31063  ...   \n",
       "4                                           3.21926  ...   \n",
       "..                                              ...  ...   \n",
       "995                                        -0.31063  ...   \n",
       "996                                        -0.31063  ...   \n",
       "997                                        -0.31063  ...   \n",
       "998                                        -0.31063  ...   \n",
       "999                                        -0.31063  ...   \n",
       "\n",
       "     savings_100 <= ... < 500 DM  savings_500 <= ... < 1000 DM   \\\n",
       "0                      -0.338862                      -0.259299   \n",
       "1                      -0.338862                      -0.259299   \n",
       "2                      -0.338862                      -0.259299   \n",
       "3                      -0.338862                      -0.259299   \n",
       "4                      -0.338862                      -0.259299   \n",
       "..                           ...                            ...   \n",
       "995                    -0.338862                      -0.259299   \n",
       "996                    -0.338862                      -0.259299   \n",
       "997                    -0.338862                      -0.259299   \n",
       "998                    -0.338862                      -0.259299   \n",
       "999                     2.951057                      -0.259299   \n",
       "\n",
       "     savings_unknown/ no savings account  other_debtors_co-applicant  \\\n",
       "0                               2.112932                   -0.206768   \n",
       "1                              -0.473276                   -0.206768   \n",
       "2                              -0.473276                   -0.206768   \n",
       "3                              -0.473276                   -0.206768   \n",
       "4                              -0.473276                   -0.206768   \n",
       "..                                   ...                         ...   \n",
       "995                            -0.473276                   -0.206768   \n",
       "996                            -0.473276                   -0.206768   \n",
       "997                            -0.473276                   -0.206768   \n",
       "998                            -0.473276                   -0.206768   \n",
       "999                            -0.473276                   -0.206768   \n",
       "\n",
       "     other_debtors_guarantor  other_debtors_none  \\\n",
       "0                  -0.234206            0.320212   \n",
       "1                  -0.234206            0.320212   \n",
       "2                  -0.234206            0.320212   \n",
       "3                   4.269750           -3.122929   \n",
       "4                  -0.234206            0.320212   \n",
       "..                       ...                 ...   \n",
       "995                -0.234206            0.320212   \n",
       "996                -0.234206            0.320212   \n",
       "997                -0.234206            0.320212   \n",
       "998                -0.234206            0.320212   \n",
       "999                -0.234206            0.320212   \n",
       "\n",
       "     property_if not A121 : building society savings agreement/ life insurance  \\\n",
       "0                                            -0.549621                           \n",
       "1                                            -0.549621                           \n",
       "2                                            -0.549621                           \n",
       "3                                             1.819435                           \n",
       "4                                            -0.549621                           \n",
       "..                                                 ...                           \n",
       "995                                          -0.549621                           \n",
       "996                                           1.819435                           \n",
       "997                                          -0.549621                           \n",
       "998                                          -0.549621                           \n",
       "999                                          -0.549621                           \n",
       "\n",
       "     property_if not A121/A122 : car or other, not in attribute 6  \\\n",
       "0                                            -0.704987              \n",
       "1                                            -0.704987              \n",
       "2                                            -0.704987              \n",
       "3                                            -0.704987              \n",
       "4                                            -0.704987              \n",
       "..                                                 ...              \n",
       "995                                          -0.704987              \n",
       "996                                          -0.704987              \n",
       "997                                           1.418467              \n",
       "998                                          -0.704987              \n",
       "999                                           1.418467              \n",
       "\n",
       "     property_real estate  property_unknown / no property  \n",
       "0                1.595650                       -0.426653  \n",
       "1                1.595650                       -0.426653  \n",
       "2                1.595650                       -0.426653  \n",
       "3               -0.626704                       -0.426653  \n",
       "4               -0.626704                        2.343823  \n",
       "..                    ...                             ...  \n",
       "995              1.595650                       -0.426653  \n",
       "996             -0.626704                       -0.426653  \n",
       "997             -0.626704                       -0.426653  \n",
       "998             -0.626704                        2.343823  \n",
       "999             -0.626704                       -0.426653  \n",
       "\n",
       "[1000 rows x 61 columns]"
      ]
     },
     "execution_count": 38,
     "metadata": {},
     "output_type": "execute_result"
    }
   ],
   "source": [
    "#Applying scaling to the dataset\n",
    "data.apply(zscore)"
   ]
  },
  {
   "cell_type": "code",
   "execution_count": 39,
   "metadata": {
    "colab": {},
    "colab_type": "code",
    "id": "lDyCh_OG_0pt"
   },
   "outputs": [
    {
     "name": "stdout",
     "output_type": "stream",
     "text": [
      "Cross-Validation Score for each of the K folds:  [0.88 0.81 0.69 0.79 0.75 0.72 0.77 0.73 0.72 0.8 ]\n"
     ]
    }
   ],
   "source": [
    "#Validate the Random Forest model build above using k fold\n",
    "k_fold = KFold(n_splits=num_folds, shuffle=True, random_state=seed)\n",
    "print (\"Cross-Validation Score for each of the K folds: \",cross_val_score(rfcl, data, y, cv=k_fold, n_jobs=1))"
   ]
  },
  {
   "cell_type": "code",
   "execution_count": 40,
   "metadata": {
    "colab": {},
    "colab_type": "code",
    "id": "fvxAgXik_0p0"
   },
   "outputs": [],
   "source": [
    "kfold_cv_score = cross_val_score(rfcl, data, y, cv=k_fold, n_jobs=1)"
   ]
  },
  {
   "cell_type": "code",
   "execution_count": 41,
   "metadata": {
    "colab": {},
    "colab_type": "code",
    "id": "6r8p73dT_0p6"
   },
   "outputs": [],
   "source": [
    "#Calculate Mean score"
   ]
  },
  {
   "cell_type": "code",
   "execution_count": 42,
   "metadata": {
    "colab": {},
    "colab_type": "code",
    "id": "qtGEiGuu_0qA"
   },
   "outputs": [
    {
     "data": {
      "text/plain": [
       "0.7659999999999999"
      ]
     },
     "execution_count": 42,
     "metadata": {},
     "output_type": "execute_result"
    }
   ],
   "source": [
    "kfold_cv_score.mean()"
   ]
  },
  {
   "cell_type": "code",
   "execution_count": 43,
   "metadata": {
    "colab": {},
    "colab_type": "code",
    "id": "Rr132f7H_0qD"
   },
   "outputs": [],
   "source": [
    "# Calculate score standard deviation using std()"
   ]
  },
  {
   "cell_type": "code",
   "execution_count": 44,
   "metadata": {
    "colab": {},
    "colab_type": "code",
    "id": "44JxPbHG_0qH"
   },
   "outputs": [
    {
     "data": {
      "text/plain": [
       "0.053141321022345714"
      ]
     },
     "execution_count": 44,
     "metadata": {},
     "output_type": "execute_result"
    }
   ],
   "source": [
    "kfold_cv_score.std()"
   ]
  },
  {
   "cell_type": "markdown",
   "metadata": {
    "colab_type": "text",
    "id": "kB0x5yLs_0qM"
   },
   "source": [
    "# Q8 Print the confusion matrix( 1 Marks)"
   ]
  },
  {
   "cell_type": "code",
   "execution_count": 45,
   "metadata": {
    "colab": {},
    "colab_type": "code",
    "id": "WiS5l8Cn_0qO"
   },
   "outputs": [
    {
     "data": {
      "text/plain": [
       "array([[648,  52],\n",
       "       [182, 118]])"
      ]
     },
     "execution_count": 45,
     "metadata": {},
     "output_type": "execute_result"
    }
   ],
   "source": [
    "y_pred_cv_rfcl = cross_val_predict(rfcl,data,y,cv=k_fold, n_jobs=1)\n",
    "metrics.confusion_matrix(y,y_pred_cv_rfcl)"
   ]
  },
  {
   "cell_type": "markdown",
   "metadata": {
    "colab_type": "text",
    "id": "uMLxrkNg_0qR"
   },
   "source": [
    "# Q9.Classification accuracy: \n",
    "percentage of correct predictions and Calculate sensitivity (or True Positive Rate or Recall) and Precision.\n",
    "( 1 Marks)"
   ]
  },
  {
   "cell_type": "code",
   "execution_count": 52,
   "metadata": {
    "colab": {},
    "colab_type": "code",
    "id": "QUG5Y_li_0qT"
   },
   "outputs": [
    {
     "name": "stdout",
     "output_type": "stream",
     "text": [
      "Accuracy Score of 10 fold Cross-Validated RandomForestClassifier: 0.766\n",
      "Recall Score of 10 fold Cross-Validated RandomForestClassifier: 0.3933333333333333\n",
      "Precision Score of 10 fold Cross-Validated RandomForestClassifier: 0.6941176470588235\n",
      "F1 Score of 10 fold Cross-Validated RandomForestClassifier: 0.502127659574468\n"
     ]
    }
   ],
   "source": [
    "#Accuracy Score\n",
    "print (\"Accuracy Score of 10 fold Cross-Validated RandomForestClassifier:\",metrics.accuracy_score(y,y_pred_cv_rfcl))\n",
    "\n",
    "#Recall Score\n",
    "print (\"Recall Score of 10 fold Cross-Validated RandomForestClassifier:\",metrics.recall_score(y,y_pred_cv_rfcl))\n",
    "\n",
    "#Precision Score\n",
    "print (\"Precision Score of 10 fold Cross-Validated RandomForestClassifier:\",metrics.precision_score(y,y_pred_cv_rfcl))\n",
    "\n",
    "#F1 Score\n",
    "print (\"F1 Score of 10 fold Cross-Validated RandomForestClassifier:\",metrics.f1_score(y,y_pred_cv_rfcl))"
   ]
  },
  {
   "cell_type": "markdown",
   "metadata": {
    "colab_type": "text",
    "id": "IlPEO3pO_0qa"
   },
   "source": [
    "# Q10.Plot Receiver Operating Characteristic (ROC) Curves( 1 Marks)"
   ]
  },
  {
   "cell_type": "code",
   "execution_count": 47,
   "metadata": {
    "colab": {},
    "colab_type": "code",
    "id": "YGyM8Uh4_0qb"
   },
   "outputs": [
    {
     "data": {
      "text/plain": [
       "<matplotlib.legend.Legend at 0x1a21d71310>"
      ]
     },
     "execution_count": 47,
     "metadata": {},
     "output_type": "execute_result"
    },
    {
     "data": {
      "image/png": "[encoded data removed]",
      "text/plain": [
       "<Figure size 1440x720 with 1 Axes>"
      ]
     },
     "metadata": {
      "needs_background": "light"
     },
     "output_type": "display_data"
    }
   ],
   "source": [
    "#Hint: Use roc_curve\n",
    "# predict probabilities\n",
    "lr_probs = rfcl.predict_proba(X_test)\n",
    "# keep probabilities for the positive outcome only\n",
    "lr_probs = lr_probs[:, 1]\n",
    "\n",
    "plt.figure(figsize=(20,10))\n",
    "lr_fpr, lr_tpr, _ = metrics.roc_curve(y_test, lr_probs)\n",
    "plt.plot(lr_fpr, lr_tpr, marker='.', label='RandomForestClassifier')\n",
    "# axis labels\n",
    "plt.xlabel('False Positive Rate')\n",
    "plt.ylabel('True Positive Rate')\n",
    "# show the legend\n",
    "plt.legend()"
   ]
  },
  {
   "cell_type": "markdown",
   "metadata": {
    "colab_type": "text",
    "id": "annGF0Bh_0qr"
   },
   "source": [
    "ROC curve can help you to choose a threshold that balances sensitivity and specificity in a way that makes sense for your particular context"
   ]
  },
  {
   "cell_type": "markdown",
   "metadata": {
    "colab_type": "text",
    "id": "rE4Qbbh5_0qt"
   },
   "source": [
    "# Q11. Calculate AUC(the percentage of the ROC plot that is underneath the curve) - optional"
   ]
  },
  {
   "cell_type": "code",
   "execution_count": 48,
   "metadata": {
    "colab": {},
    "colab_type": "code",
    "id": "8nwRSPz4_0qu"
   },
   "outputs": [
    {
     "name": "stdout",
     "output_type": "stream",
     "text": [
      "RandomForestClassifier: ROC AUC=0.791\n"
     ]
    }
   ],
   "source": [
    "# calculate scores\n",
    "lr_auc = metrics.roc_auc_score(y_test, lr_probs)\n",
    "\n",
    "print('RandomForestClassifier: ROC AUC=%.3f' % (lr_auc))"
   ]
  },
  {
   "cell_type": "markdown",
   "metadata": {
    "colab_type": "text",
    "id": "BZ43LYtQ_0q9"
   },
   "source": [
    "### Bootstrapping ( Bonus)\n",
    "##### Given a dataset of size n, a bootstrap sample is created by sampling n instances uniformly from the data (with/without replacement)\n",
    "##### Create a model with each bootstrap sample and validate it with the test set\n",
    "##### Final result is calculated by averaging the accuracy of models"
   ]
  },
  {
   "cell_type": "code",
   "execution_count": 49,
   "metadata": {
    "colab": {},
    "colab_type": "code",
    "id": "8KwXPTNE_0q9"
   },
   "outputs": [],
   "source": [
    "# Number of iterations for bootstrapping\n",
    "bootstrap_iteration = 10\n",
    "accuracy = []"
   ]
  },
  {
   "cell_type": "code",
   "execution_count": 50,
   "metadata": {
    "colab": {},
    "colab_type": "code",
    "id": "rVQTCij9_0rA"
   },
   "outputs": [],
   "source": [
    "for i in range(bootstrap_iteration):\n",
    "    X_, y_ = resample(X_train, y_train)\n",
    "    rfcl.fit(X_, y_)\n",
    "    y_pred = rfcl.predict(X_test)\n",
    "    \n",
    "    acc = metrics.accuracy_score(y_pred, y_test)\n",
    "    accuracy.append(acc)"
   ]
  },
  {
   "cell_type": "code",
   "execution_count": 51,
   "metadata": {
    "colab": {},
    "colab_type": "code",
    "id": "lRtfc6p7_0rD",
    "outputId": "6b6e9b14-0652-4550-83e0-7bb2ca3f0481"
   },
   "outputs": [
    {
     "name": "stdout",
     "output_type": "stream",
     "text": [
      "Accuracy Score\n",
      "Avearge:  0.7443333333333333\n",
      "Standard deviation:  0.015638272140986533\n"
     ]
    }
   ],
   "source": [
    "accuracy = np.array(accuracy)\n",
    "print('Accuracy Score')\n",
    "print('Avearge: ', accuracy.mean())\n",
    "print('Standard deviation: ', accuracy.std())"
   ]
  },
  {
   "cell_type": "code",
   "execution_count": null,
   "metadata": {},
   "outputs": [],
   "source": []
  }
 ],
 "metadata": {
  "colab": {
   "name": "R4_External_Lab_Validation_Accuracy.ipynb",
   "provenance": [],
   "version": "0.3.2"
  },
  "kernelspec": {
   "display_name": "Python 3",
   "language": "python",
   "name": "python3"
  },
  "language_info": {
   "codemirror_mode": {
    "name": "ipython",
    "version": 3
   },
   "file_extension": ".py",
   "mimetype": "text/x-python",
   "name": "python",
   "nbconvert_exporter": "python",
   "pygments_lexer": "ipython3",
   "version": "3.7.6"
  }
 },
 "nbformat": 4,
 "nbformat_minor": 1
}
