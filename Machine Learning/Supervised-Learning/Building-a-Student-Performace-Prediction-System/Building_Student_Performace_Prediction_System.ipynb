{
 "cells": [
  {
   "cell_type": "markdown",
   "metadata": {
    "colab_type": "text",
    "id": "Z66fRKOeuHPg"
   },
   "source": [
    "## Supervised Learning - Building a Student Performace Prediction System  "
   ]
  },
  {
   "cell_type": "markdown",
   "metadata": {
    "colab_type": "text",
    "id": "YXt7PB5VuHPj"
   },
   "source": [
    "## Question 1 - Classification vs. Regression\n",
    "\n",
    "*The aim of this project is to predict how likely a student is to pass. Which type of supervised learning problem is this, classification or regression? Why?*\n",
    "\n",
    "#### Answer:\n",
    "This project is a classification supervised learning problem because the variable to predict, i.e. if a student graduates or fails to graduate, is categorical. On this case this a dichotomous categorical variable where the only two possible values are \"pass\" or \"fail\"."
   ]
  },
  {
   "cell_type": "markdown",
   "metadata": {
    "colab_type": "text",
    "id": "YW5BYFevuHPk"
   },
   "source": [
    "### Overview:\n",
    "\n",
    "1.Read the problem statement.\n",
    "\n",
    "2.Get the dataset.\n",
    "\n",
    "3.Explore the dataset.\n",
    "\n",
    "4.Pre-processing of dataset.\n",
    "\n",
    "5.Transform the dataset for building machine learning model.\n",
    "\n",
    "6.Split data into train, test set.\n",
    "\n",
    "7.Build Model.\n",
    "\n",
    "8.Apply the model.\n",
    "\n",
    "9.Evaluate the model.\n",
    "\n",
    "10.Provide insights."
   ]
  },
  {
   "cell_type": "markdown",
   "metadata": {
    "colab_type": "text",
    "id": "0gl2MdwkuHPl"
   },
   "source": [
    "## Problem Statement \n",
    "\n",
    "Using Logistic Regression **predict the performance of student**. The classification goal is to predict whether the student will pass or fail.\n",
    "\n",
    "## Dataset \n",
    "\n",
    "This data approach student achievement in secondary education of two Portuguese schools. The data attributes include student grades, demographic, social and school related features) and it was collected by using school reports and questionnaires. Two datasets are provided regarding the performance in Mathematics.\n",
    "\n",
    "**Source:** https://archive.ics.uci.edu/ml/datasets/Student+Performance\n"
   ]
  },
  {
   "cell_type": "markdown",
   "metadata": {
    "colab_type": "text",
    "id": "cHpGO_AGuHPm"
   },
   "source": [
    "## Question 2\n",
    "## Exploring the Data\n",
    "*Read the dataset file using pandas. Take care about the delimiter.*\n",
    "\n",
    "#### Answer:"
   ]
  },
  {
   "cell_type": "code",
   "execution_count": 2,
   "metadata": {
    "colab": {},
    "colab_type": "code",
    "id": "q3YEgKevuHPn"
   },
   "outputs": [],
   "source": [
    "import pandas as pd\n",
    "import numpy as np\n",
    "import matplotlib.pyplot as plt\n",
    "%matplotlib inline\n",
    "\n",
    "import seaborn as sns\n",
    "\n",
    "from sklearn.model_selection import train_test_split\n",
    "from sklearn import metrics\n",
    "from sklearn import preprocessing\n",
    "from sklearn import model_selection\n",
    "\n",
    "from sklearn.linear_model import LogisticRegression\n",
    "from sklearn.naive_bayes import GaussianNB"
   ]
  },
  {
   "cell_type": "code",
   "execution_count": 3,
   "metadata": {
    "colab": {},
    "colab_type": "code",
    "id": "KHyQrv_muHPr",
    "scrolled": true
   },
   "outputs": [],
   "source": [
    "students = pd.read_csv('students.csv',sep=';')"
   ]
  },
  {
   "cell_type": "code",
   "execution_count": 4,
   "metadata": {},
   "outputs": [
    {
     "data": {
      "text/html": [
       "<div>\n",
       "<style scoped>\n",
       "    .dataframe tbody tr th:only-of-type {\n",
       "        vertical-align: middle;\n",
       "    }\n",
       "\n",
       "    .dataframe tbody tr th {\n",
       "        vertical-align: top;\n",
       "    }\n",
       "\n",
       "    .dataframe thead th {\n",
       "        text-align: right;\n",
       "    }\n",
       "</style>\n",
       "<table border=\"1\" class=\"dataframe\">\n",
       "  <thead>\n",
       "    <tr style=\"text-align: right;\">\n",
       "      <th></th>\n",
       "      <th>school</th>\n",
       "      <th>sex</th>\n",
       "      <th>age</th>\n",
       "      <th>address</th>\n",
       "      <th>famsize</th>\n",
       "      <th>Pstatus</th>\n",
       "      <th>Medu</th>\n",
       "      <th>Fedu</th>\n",
       "      <th>Mjob</th>\n",
       "      <th>Fjob</th>\n",
       "      <th>...</th>\n",
       "      <th>famrel</th>\n",
       "      <th>freetime</th>\n",
       "      <th>goout</th>\n",
       "      <th>Dalc</th>\n",
       "      <th>Walc</th>\n",
       "      <th>health</th>\n",
       "      <th>absences</th>\n",
       "      <th>G1</th>\n",
       "      <th>G2</th>\n",
       "      <th>G3</th>\n",
       "    </tr>\n",
       "  </thead>\n",
       "  <tbody>\n",
       "    <tr>\n",
       "      <td>0</td>\n",
       "      <td>GP</td>\n",
       "      <td>F</td>\n",
       "      <td>18</td>\n",
       "      <td>U</td>\n",
       "      <td>GT3</td>\n",
       "      <td>A</td>\n",
       "      <td>4</td>\n",
       "      <td>4</td>\n",
       "      <td>at_home</td>\n",
       "      <td>teacher</td>\n",
       "      <td>...</td>\n",
       "      <td>4</td>\n",
       "      <td>3</td>\n",
       "      <td>4</td>\n",
       "      <td>1</td>\n",
       "      <td>1</td>\n",
       "      <td>3</td>\n",
       "      <td>6</td>\n",
       "      <td>5</td>\n",
       "      <td>6</td>\n",
       "      <td>6</td>\n",
       "    </tr>\n",
       "    <tr>\n",
       "      <td>1</td>\n",
       "      <td>GP</td>\n",
       "      <td>F</td>\n",
       "      <td>17</td>\n",
       "      <td>U</td>\n",
       "      <td>GT3</td>\n",
       "      <td>T</td>\n",
       "      <td>1</td>\n",
       "      <td>1</td>\n",
       "      <td>at_home</td>\n",
       "      <td>other</td>\n",
       "      <td>...</td>\n",
       "      <td>5</td>\n",
       "      <td>3</td>\n",
       "      <td>3</td>\n",
       "      <td>1</td>\n",
       "      <td>1</td>\n",
       "      <td>3</td>\n",
       "      <td>4</td>\n",
       "      <td>5</td>\n",
       "      <td>5</td>\n",
       "      <td>6</td>\n",
       "    </tr>\n",
       "    <tr>\n",
       "      <td>2</td>\n",
       "      <td>GP</td>\n",
       "      <td>F</td>\n",
       "      <td>15</td>\n",
       "      <td>U</td>\n",
       "      <td>LE3</td>\n",
       "      <td>T</td>\n",
       "      <td>1</td>\n",
       "      <td>1</td>\n",
       "      <td>at_home</td>\n",
       "      <td>other</td>\n",
       "      <td>...</td>\n",
       "      <td>4</td>\n",
       "      <td>3</td>\n",
       "      <td>2</td>\n",
       "      <td>2</td>\n",
       "      <td>3</td>\n",
       "      <td>3</td>\n",
       "      <td>10</td>\n",
       "      <td>7</td>\n",
       "      <td>8</td>\n",
       "      <td>10</td>\n",
       "    </tr>\n",
       "    <tr>\n",
       "      <td>3</td>\n",
       "      <td>GP</td>\n",
       "      <td>F</td>\n",
       "      <td>15</td>\n",
       "      <td>U</td>\n",
       "      <td>GT3</td>\n",
       "      <td>T</td>\n",
       "      <td>4</td>\n",
       "      <td>2</td>\n",
       "      <td>health</td>\n",
       "      <td>services</td>\n",
       "      <td>...</td>\n",
       "      <td>3</td>\n",
       "      <td>2</td>\n",
       "      <td>2</td>\n",
       "      <td>1</td>\n",
       "      <td>1</td>\n",
       "      <td>5</td>\n",
       "      <td>2</td>\n",
       "      <td>15</td>\n",
       "      <td>14</td>\n",
       "      <td>15</td>\n",
       "    </tr>\n",
       "    <tr>\n",
       "      <td>4</td>\n",
       "      <td>GP</td>\n",
       "      <td>F</td>\n",
       "      <td>16</td>\n",
       "      <td>U</td>\n",
       "      <td>GT3</td>\n",
       "      <td>T</td>\n",
       "      <td>3</td>\n",
       "      <td>3</td>\n",
       "      <td>other</td>\n",
       "      <td>other</td>\n",
       "      <td>...</td>\n",
       "      <td>4</td>\n",
       "      <td>3</td>\n",
       "      <td>2</td>\n",
       "      <td>1</td>\n",
       "      <td>2</td>\n",
       "      <td>5</td>\n",
       "      <td>4</td>\n",
       "      <td>6</td>\n",
       "      <td>10</td>\n",
       "      <td>10</td>\n",
       "    </tr>\n",
       "  </tbody>\n",
       "</table>\n",
       "<p>5 rows × 33 columns</p>\n",
       "</div>"
      ],
      "text/plain": [
       "  school sex  age address famsize Pstatus  Medu  Fedu     Mjob      Fjob  ...  \\\n",
       "0     GP   F   18       U     GT3       A     4     4  at_home   teacher  ...   \n",
       "1     GP   F   17       U     GT3       T     1     1  at_home     other  ...   \n",
       "2     GP   F   15       U     LE3       T     1     1  at_home     other  ...   \n",
       "3     GP   F   15       U     GT3       T     4     2   health  services  ...   \n",
       "4     GP   F   16       U     GT3       T     3     3    other     other  ...   \n",
       "\n",
       "  famrel freetime  goout  Dalc  Walc health absences  G1  G2  G3  \n",
       "0      4        3      4     1     1      3        6   5   6   6  \n",
       "1      5        3      3     1     1      3        4   5   5   6  \n",
       "2      4        3      2     2     3      3       10   7   8  10  \n",
       "3      3        2      2     1     1      5        2  15  14  15  \n",
       "4      4        3      2     1     2      5        4   6  10  10  \n",
       "\n",
       "[5 rows x 33 columns]"
      ]
     },
     "execution_count": 4,
     "metadata": {},
     "output_type": "execute_result"
    }
   ],
   "source": [
    "students.head()"
   ]
  },
  {
   "cell_type": "code",
   "execution_count": 5,
   "metadata": {},
   "outputs": [
    {
     "data": {
      "text/plain": [
       "(395, 33)"
      ]
     },
     "execution_count": 5,
     "metadata": {},
     "output_type": "execute_result"
    }
   ],
   "source": [
    "students.shape"
   ]
  },
  {
   "cell_type": "code",
   "execution_count": 6,
   "metadata": {},
   "outputs": [],
   "source": [
    "#Based on the dataframe shape & cross-verifying the same with the dataset in excel, we can conclude that all the datapoints\n",
    "#have been successfully imported into the dataframe"
   ]
  },
  {
   "cell_type": "markdown",
   "metadata": {
    "colab_type": "text",
    "id": "BuwsTmYuuHPu"
   },
   "source": [
    "## Question 3\n",
    "## Drop missing values\n",
    "*Set the index name of the dataframe to **\"number\"**. Check sample of data to drop if any missing values are there.*\n",
    "\n",
    "#### Answer:"
   ]
  },
  {
   "cell_type": "code",
   "execution_count": 7,
   "metadata": {
    "colab": {},
    "colab_type": "code",
    "id": "EWbnH1HIuHPv"
   },
   "outputs": [],
   "source": [
    "students.index.name='number'"
   ]
  },
  {
   "cell_type": "code",
   "execution_count": 8,
   "metadata": {},
   "outputs": [
    {
     "data": {
      "text/html": [
       "<div>\n",
       "<style scoped>\n",
       "    .dataframe tbody tr th:only-of-type {\n",
       "        vertical-align: middle;\n",
       "    }\n",
       "\n",
       "    .dataframe tbody tr th {\n",
       "        vertical-align: top;\n",
       "    }\n",
       "\n",
       "    .dataframe thead th {\n",
       "        text-align: right;\n",
       "    }\n",
       "</style>\n",
       "<table border=\"1\" class=\"dataframe\">\n",
       "  <thead>\n",
       "    <tr style=\"text-align: right;\">\n",
       "      <th></th>\n",
       "      <th>school</th>\n",
       "      <th>sex</th>\n",
       "      <th>age</th>\n",
       "      <th>address</th>\n",
       "      <th>famsize</th>\n",
       "      <th>Pstatus</th>\n",
       "      <th>Medu</th>\n",
       "      <th>Fedu</th>\n",
       "      <th>Mjob</th>\n",
       "      <th>Fjob</th>\n",
       "      <th>...</th>\n",
       "      <th>famrel</th>\n",
       "      <th>freetime</th>\n",
       "      <th>goout</th>\n",
       "      <th>Dalc</th>\n",
       "      <th>Walc</th>\n",
       "      <th>health</th>\n",
       "      <th>absences</th>\n",
       "      <th>G1</th>\n",
       "      <th>G2</th>\n",
       "      <th>G3</th>\n",
       "    </tr>\n",
       "    <tr>\n",
       "      <th>number</th>\n",
       "      <th></th>\n",
       "      <th></th>\n",
       "      <th></th>\n",
       "      <th></th>\n",
       "      <th></th>\n",
       "      <th></th>\n",
       "      <th></th>\n",
       "      <th></th>\n",
       "      <th></th>\n",
       "      <th></th>\n",
       "      <th></th>\n",
       "      <th></th>\n",
       "      <th></th>\n",
       "      <th></th>\n",
       "      <th></th>\n",
       "      <th></th>\n",
       "      <th></th>\n",
       "      <th></th>\n",
       "      <th></th>\n",
       "      <th></th>\n",
       "      <th></th>\n",
       "    </tr>\n",
       "  </thead>\n",
       "  <tbody>\n",
       "    <tr>\n",
       "      <td>0</td>\n",
       "      <td>GP</td>\n",
       "      <td>F</td>\n",
       "      <td>18</td>\n",
       "      <td>U</td>\n",
       "      <td>GT3</td>\n",
       "      <td>A</td>\n",
       "      <td>4</td>\n",
       "      <td>4</td>\n",
       "      <td>at_home</td>\n",
       "      <td>teacher</td>\n",
       "      <td>...</td>\n",
       "      <td>4</td>\n",
       "      <td>3</td>\n",
       "      <td>4</td>\n",
       "      <td>1</td>\n",
       "      <td>1</td>\n",
       "      <td>3</td>\n",
       "      <td>6</td>\n",
       "      <td>5</td>\n",
       "      <td>6</td>\n",
       "      <td>6</td>\n",
       "    </tr>\n",
       "    <tr>\n",
       "      <td>1</td>\n",
       "      <td>GP</td>\n",
       "      <td>F</td>\n",
       "      <td>17</td>\n",
       "      <td>U</td>\n",
       "      <td>GT3</td>\n",
       "      <td>T</td>\n",
       "      <td>1</td>\n",
       "      <td>1</td>\n",
       "      <td>at_home</td>\n",
       "      <td>other</td>\n",
       "      <td>...</td>\n",
       "      <td>5</td>\n",
       "      <td>3</td>\n",
       "      <td>3</td>\n",
       "      <td>1</td>\n",
       "      <td>1</td>\n",
       "      <td>3</td>\n",
       "      <td>4</td>\n",
       "      <td>5</td>\n",
       "      <td>5</td>\n",
       "      <td>6</td>\n",
       "    </tr>\n",
       "    <tr>\n",
       "      <td>2</td>\n",
       "      <td>GP</td>\n",
       "      <td>F</td>\n",
       "      <td>15</td>\n",
       "      <td>U</td>\n",
       "      <td>LE3</td>\n",
       "      <td>T</td>\n",
       "      <td>1</td>\n",
       "      <td>1</td>\n",
       "      <td>at_home</td>\n",
       "      <td>other</td>\n",
       "      <td>...</td>\n",
       "      <td>4</td>\n",
       "      <td>3</td>\n",
       "      <td>2</td>\n",
       "      <td>2</td>\n",
       "      <td>3</td>\n",
       "      <td>3</td>\n",
       "      <td>10</td>\n",
       "      <td>7</td>\n",
       "      <td>8</td>\n",
       "      <td>10</td>\n",
       "    </tr>\n",
       "    <tr>\n",
       "      <td>3</td>\n",
       "      <td>GP</td>\n",
       "      <td>F</td>\n",
       "      <td>15</td>\n",
       "      <td>U</td>\n",
       "      <td>GT3</td>\n",
       "      <td>T</td>\n",
       "      <td>4</td>\n",
       "      <td>2</td>\n",
       "      <td>health</td>\n",
       "      <td>services</td>\n",
       "      <td>...</td>\n",
       "      <td>3</td>\n",
       "      <td>2</td>\n",
       "      <td>2</td>\n",
       "      <td>1</td>\n",
       "      <td>1</td>\n",
       "      <td>5</td>\n",
       "      <td>2</td>\n",
       "      <td>15</td>\n",
       "      <td>14</td>\n",
       "      <td>15</td>\n",
       "    </tr>\n",
       "    <tr>\n",
       "      <td>4</td>\n",
       "      <td>GP</td>\n",
       "      <td>F</td>\n",
       "      <td>16</td>\n",
       "      <td>U</td>\n",
       "      <td>GT3</td>\n",
       "      <td>T</td>\n",
       "      <td>3</td>\n",
       "      <td>3</td>\n",
       "      <td>other</td>\n",
       "      <td>other</td>\n",
       "      <td>...</td>\n",
       "      <td>4</td>\n",
       "      <td>3</td>\n",
       "      <td>2</td>\n",
       "      <td>1</td>\n",
       "      <td>2</td>\n",
       "      <td>5</td>\n",
       "      <td>4</td>\n",
       "      <td>6</td>\n",
       "      <td>10</td>\n",
       "      <td>10</td>\n",
       "    </tr>\n",
       "  </tbody>\n",
       "</table>\n",
       "<p>5 rows × 33 columns</p>\n",
       "</div>"
      ],
      "text/plain": [
       "       school sex  age address famsize Pstatus  Medu  Fedu     Mjob      Fjob  \\\n",
       "number                                                                          \n",
       "0          GP   F   18       U     GT3       A     4     4  at_home   teacher   \n",
       "1          GP   F   17       U     GT3       T     1     1  at_home     other   \n",
       "2          GP   F   15       U     LE3       T     1     1  at_home     other   \n",
       "3          GP   F   15       U     GT3       T     4     2   health  services   \n",
       "4          GP   F   16       U     GT3       T     3     3    other     other   \n",
       "\n",
       "        ... famrel freetime  goout  Dalc  Walc health absences  G1  G2  G3  \n",
       "number  ...                                                                 \n",
       "0       ...      4        3      4     1     1      3        6   5   6   6  \n",
       "1       ...      5        3      3     1     1      3        4   5   5   6  \n",
       "2       ...      4        3      2     2     3      3       10   7   8  10  \n",
       "3       ...      3        2      2     1     1      5        2  15  14  15  \n",
       "4       ...      4        3      2     1     2      5        4   6  10  10  \n",
       "\n",
       "[5 rows x 33 columns]"
      ]
     },
     "execution_count": 8,
     "metadata": {},
     "output_type": "execute_result"
    }
   ],
   "source": [
    "students.head()"
   ]
  },
  {
   "cell_type": "code",
   "execution_count": 9,
   "metadata": {},
   "outputs": [
    {
     "data": {
      "text/html": [
       "<div>\n",
       "<style scoped>\n",
       "    .dataframe tbody tr th:only-of-type {\n",
       "        vertical-align: middle;\n",
       "    }\n",
       "\n",
       "    .dataframe tbody tr th {\n",
       "        vertical-align: top;\n",
       "    }\n",
       "\n",
       "    .dataframe thead th {\n",
       "        text-align: right;\n",
       "    }\n",
       "</style>\n",
       "<table border=\"1\" class=\"dataframe\">\n",
       "  <thead>\n",
       "    <tr style=\"text-align: right;\">\n",
       "      <th></th>\n",
       "      <th>count</th>\n",
       "      <th>unique</th>\n",
       "      <th>top</th>\n",
       "      <th>freq</th>\n",
       "      <th>mean</th>\n",
       "      <th>std</th>\n",
       "      <th>min</th>\n",
       "      <th>25%</th>\n",
       "      <th>50%</th>\n",
       "      <th>75%</th>\n",
       "      <th>max</th>\n",
       "    </tr>\n",
       "  </thead>\n",
       "  <tbody>\n",
       "    <tr>\n",
       "      <td>school</td>\n",
       "      <td>395</td>\n",
       "      <td>2</td>\n",
       "      <td>GP</td>\n",
       "      <td>349</td>\n",
       "      <td>NaN</td>\n",
       "      <td>NaN</td>\n",
       "      <td>NaN</td>\n",
       "      <td>NaN</td>\n",
       "      <td>NaN</td>\n",
       "      <td>NaN</td>\n",
       "      <td>NaN</td>\n",
       "    </tr>\n",
       "    <tr>\n",
       "      <td>sex</td>\n",
       "      <td>395</td>\n",
       "      <td>2</td>\n",
       "      <td>F</td>\n",
       "      <td>208</td>\n",
       "      <td>NaN</td>\n",
       "      <td>NaN</td>\n",
       "      <td>NaN</td>\n",
       "      <td>NaN</td>\n",
       "      <td>NaN</td>\n",
       "      <td>NaN</td>\n",
       "      <td>NaN</td>\n",
       "    </tr>\n",
       "    <tr>\n",
       "      <td>age</td>\n",
       "      <td>395</td>\n",
       "      <td>NaN</td>\n",
       "      <td>NaN</td>\n",
       "      <td>NaN</td>\n",
       "      <td>16.6962</td>\n",
       "      <td>1.27604</td>\n",
       "      <td>15</td>\n",
       "      <td>16</td>\n",
       "      <td>17</td>\n",
       "      <td>18</td>\n",
       "      <td>22</td>\n",
       "    </tr>\n",
       "    <tr>\n",
       "      <td>address</td>\n",
       "      <td>395</td>\n",
       "      <td>2</td>\n",
       "      <td>U</td>\n",
       "      <td>307</td>\n",
       "      <td>NaN</td>\n",
       "      <td>NaN</td>\n",
       "      <td>NaN</td>\n",
       "      <td>NaN</td>\n",
       "      <td>NaN</td>\n",
       "      <td>NaN</td>\n",
       "      <td>NaN</td>\n",
       "    </tr>\n",
       "    <tr>\n",
       "      <td>famsize</td>\n",
       "      <td>395</td>\n",
       "      <td>2</td>\n",
       "      <td>GT3</td>\n",
       "      <td>281</td>\n",
       "      <td>NaN</td>\n",
       "      <td>NaN</td>\n",
       "      <td>NaN</td>\n",
       "      <td>NaN</td>\n",
       "      <td>NaN</td>\n",
       "      <td>NaN</td>\n",
       "      <td>NaN</td>\n",
       "    </tr>\n",
       "    <tr>\n",
       "      <td>Pstatus</td>\n",
       "      <td>395</td>\n",
       "      <td>2</td>\n",
       "      <td>T</td>\n",
       "      <td>354</td>\n",
       "      <td>NaN</td>\n",
       "      <td>NaN</td>\n",
       "      <td>NaN</td>\n",
       "      <td>NaN</td>\n",
       "      <td>NaN</td>\n",
       "      <td>NaN</td>\n",
       "      <td>NaN</td>\n",
       "    </tr>\n",
       "    <tr>\n",
       "      <td>Medu</td>\n",
       "      <td>395</td>\n",
       "      <td>NaN</td>\n",
       "      <td>NaN</td>\n",
       "      <td>NaN</td>\n",
       "      <td>2.74937</td>\n",
       "      <td>1.09474</td>\n",
       "      <td>0</td>\n",
       "      <td>2</td>\n",
       "      <td>3</td>\n",
       "      <td>4</td>\n",
       "      <td>4</td>\n",
       "    </tr>\n",
       "    <tr>\n",
       "      <td>Fedu</td>\n",
       "      <td>395</td>\n",
       "      <td>NaN</td>\n",
       "      <td>NaN</td>\n",
       "      <td>NaN</td>\n",
       "      <td>2.52152</td>\n",
       "      <td>1.0882</td>\n",
       "      <td>0</td>\n",
       "      <td>2</td>\n",
       "      <td>2</td>\n",
       "      <td>3</td>\n",
       "      <td>4</td>\n",
       "    </tr>\n",
       "    <tr>\n",
       "      <td>Mjob</td>\n",
       "      <td>395</td>\n",
       "      <td>5</td>\n",
       "      <td>other</td>\n",
       "      <td>141</td>\n",
       "      <td>NaN</td>\n",
       "      <td>NaN</td>\n",
       "      <td>NaN</td>\n",
       "      <td>NaN</td>\n",
       "      <td>NaN</td>\n",
       "      <td>NaN</td>\n",
       "      <td>NaN</td>\n",
       "    </tr>\n",
       "    <tr>\n",
       "      <td>Fjob</td>\n",
       "      <td>395</td>\n",
       "      <td>5</td>\n",
       "      <td>other</td>\n",
       "      <td>217</td>\n",
       "      <td>NaN</td>\n",
       "      <td>NaN</td>\n",
       "      <td>NaN</td>\n",
       "      <td>NaN</td>\n",
       "      <td>NaN</td>\n",
       "      <td>NaN</td>\n",
       "      <td>NaN</td>\n",
       "    </tr>\n",
       "    <tr>\n",
       "      <td>reason</td>\n",
       "      <td>395</td>\n",
       "      <td>4</td>\n",
       "      <td>course</td>\n",
       "      <td>145</td>\n",
       "      <td>NaN</td>\n",
       "      <td>NaN</td>\n",
       "      <td>NaN</td>\n",
       "      <td>NaN</td>\n",
       "      <td>NaN</td>\n",
       "      <td>NaN</td>\n",
       "      <td>NaN</td>\n",
       "    </tr>\n",
       "    <tr>\n",
       "      <td>guardian</td>\n",
       "      <td>395</td>\n",
       "      <td>3</td>\n",
       "      <td>mother</td>\n",
       "      <td>273</td>\n",
       "      <td>NaN</td>\n",
       "      <td>NaN</td>\n",
       "      <td>NaN</td>\n",
       "      <td>NaN</td>\n",
       "      <td>NaN</td>\n",
       "      <td>NaN</td>\n",
       "      <td>NaN</td>\n",
       "    </tr>\n",
       "    <tr>\n",
       "      <td>traveltime</td>\n",
       "      <td>395</td>\n",
       "      <td>NaN</td>\n",
       "      <td>NaN</td>\n",
       "      <td>NaN</td>\n",
       "      <td>1.4481</td>\n",
       "      <td>0.697505</td>\n",
       "      <td>1</td>\n",
       "      <td>1</td>\n",
       "      <td>1</td>\n",
       "      <td>2</td>\n",
       "      <td>4</td>\n",
       "    </tr>\n",
       "    <tr>\n",
       "      <td>studytime</td>\n",
       "      <td>395</td>\n",
       "      <td>NaN</td>\n",
       "      <td>NaN</td>\n",
       "      <td>NaN</td>\n",
       "      <td>2.03544</td>\n",
       "      <td>0.83924</td>\n",
       "      <td>1</td>\n",
       "      <td>1</td>\n",
       "      <td>2</td>\n",
       "      <td>2</td>\n",
       "      <td>4</td>\n",
       "    </tr>\n",
       "    <tr>\n",
       "      <td>failures</td>\n",
       "      <td>395</td>\n",
       "      <td>NaN</td>\n",
       "      <td>NaN</td>\n",
       "      <td>NaN</td>\n",
       "      <td>0.334177</td>\n",
       "      <td>0.743651</td>\n",
       "      <td>0</td>\n",
       "      <td>0</td>\n",
       "      <td>0</td>\n",
       "      <td>0</td>\n",
       "      <td>3</td>\n",
       "    </tr>\n",
       "    <tr>\n",
       "      <td>schoolsup</td>\n",
       "      <td>395</td>\n",
       "      <td>2</td>\n",
       "      <td>no</td>\n",
       "      <td>344</td>\n",
       "      <td>NaN</td>\n",
       "      <td>NaN</td>\n",
       "      <td>NaN</td>\n",
       "      <td>NaN</td>\n",
       "      <td>NaN</td>\n",
       "      <td>NaN</td>\n",
       "      <td>NaN</td>\n",
       "    </tr>\n",
       "    <tr>\n",
       "      <td>famsup</td>\n",
       "      <td>395</td>\n",
       "      <td>2</td>\n",
       "      <td>yes</td>\n",
       "      <td>242</td>\n",
       "      <td>NaN</td>\n",
       "      <td>NaN</td>\n",
       "      <td>NaN</td>\n",
       "      <td>NaN</td>\n",
       "      <td>NaN</td>\n",
       "      <td>NaN</td>\n",
       "      <td>NaN</td>\n",
       "    </tr>\n",
       "    <tr>\n",
       "      <td>paid</td>\n",
       "      <td>395</td>\n",
       "      <td>2</td>\n",
       "      <td>no</td>\n",
       "      <td>214</td>\n",
       "      <td>NaN</td>\n",
       "      <td>NaN</td>\n",
       "      <td>NaN</td>\n",
       "      <td>NaN</td>\n",
       "      <td>NaN</td>\n",
       "      <td>NaN</td>\n",
       "      <td>NaN</td>\n",
       "    </tr>\n",
       "    <tr>\n",
       "      <td>activities</td>\n",
       "      <td>395</td>\n",
       "      <td>2</td>\n",
       "      <td>yes</td>\n",
       "      <td>201</td>\n",
       "      <td>NaN</td>\n",
       "      <td>NaN</td>\n",
       "      <td>NaN</td>\n",
       "      <td>NaN</td>\n",
       "      <td>NaN</td>\n",
       "      <td>NaN</td>\n",
       "      <td>NaN</td>\n",
       "    </tr>\n",
       "    <tr>\n",
       "      <td>nursery</td>\n",
       "      <td>395</td>\n",
       "      <td>2</td>\n",
       "      <td>yes</td>\n",
       "      <td>314</td>\n",
       "      <td>NaN</td>\n",
       "      <td>NaN</td>\n",
       "      <td>NaN</td>\n",
       "      <td>NaN</td>\n",
       "      <td>NaN</td>\n",
       "      <td>NaN</td>\n",
       "      <td>NaN</td>\n",
       "    </tr>\n",
       "    <tr>\n",
       "      <td>higher</td>\n",
       "      <td>395</td>\n",
       "      <td>2</td>\n",
       "      <td>yes</td>\n",
       "      <td>375</td>\n",
       "      <td>NaN</td>\n",
       "      <td>NaN</td>\n",
       "      <td>NaN</td>\n",
       "      <td>NaN</td>\n",
       "      <td>NaN</td>\n",
       "      <td>NaN</td>\n",
       "      <td>NaN</td>\n",
       "    </tr>\n",
       "    <tr>\n",
       "      <td>internet</td>\n",
       "      <td>395</td>\n",
       "      <td>2</td>\n",
       "      <td>yes</td>\n",
       "      <td>329</td>\n",
       "      <td>NaN</td>\n",
       "      <td>NaN</td>\n",
       "      <td>NaN</td>\n",
       "      <td>NaN</td>\n",
       "      <td>NaN</td>\n",
       "      <td>NaN</td>\n",
       "      <td>NaN</td>\n",
       "    </tr>\n",
       "    <tr>\n",
       "      <td>romantic</td>\n",
       "      <td>395</td>\n",
       "      <td>2</td>\n",
       "      <td>no</td>\n",
       "      <td>263</td>\n",
       "      <td>NaN</td>\n",
       "      <td>NaN</td>\n",
       "      <td>NaN</td>\n",
       "      <td>NaN</td>\n",
       "      <td>NaN</td>\n",
       "      <td>NaN</td>\n",
       "      <td>NaN</td>\n",
       "    </tr>\n",
       "    <tr>\n",
       "      <td>famrel</td>\n",
       "      <td>395</td>\n",
       "      <td>NaN</td>\n",
       "      <td>NaN</td>\n",
       "      <td>NaN</td>\n",
       "      <td>3.9443</td>\n",
       "      <td>0.896659</td>\n",
       "      <td>1</td>\n",
       "      <td>4</td>\n",
       "      <td>4</td>\n",
       "      <td>5</td>\n",
       "      <td>5</td>\n",
       "    </tr>\n",
       "    <tr>\n",
       "      <td>freetime</td>\n",
       "      <td>395</td>\n",
       "      <td>NaN</td>\n",
       "      <td>NaN</td>\n",
       "      <td>NaN</td>\n",
       "      <td>3.23544</td>\n",
       "      <td>0.998862</td>\n",
       "      <td>1</td>\n",
       "      <td>3</td>\n",
       "      <td>3</td>\n",
       "      <td>4</td>\n",
       "      <td>5</td>\n",
       "    </tr>\n",
       "    <tr>\n",
       "      <td>goout</td>\n",
       "      <td>395</td>\n",
       "      <td>NaN</td>\n",
       "      <td>NaN</td>\n",
       "      <td>NaN</td>\n",
       "      <td>3.10886</td>\n",
       "      <td>1.11328</td>\n",
       "      <td>1</td>\n",
       "      <td>2</td>\n",
       "      <td>3</td>\n",
       "      <td>4</td>\n",
       "      <td>5</td>\n",
       "    </tr>\n",
       "    <tr>\n",
       "      <td>Dalc</td>\n",
       "      <td>395</td>\n",
       "      <td>NaN</td>\n",
       "      <td>NaN</td>\n",
       "      <td>NaN</td>\n",
       "      <td>1.48101</td>\n",
       "      <td>0.890741</td>\n",
       "      <td>1</td>\n",
       "      <td>1</td>\n",
       "      <td>1</td>\n",
       "      <td>2</td>\n",
       "      <td>5</td>\n",
       "    </tr>\n",
       "    <tr>\n",
       "      <td>Walc</td>\n",
       "      <td>395</td>\n",
       "      <td>NaN</td>\n",
       "      <td>NaN</td>\n",
       "      <td>NaN</td>\n",
       "      <td>2.29114</td>\n",
       "      <td>1.2879</td>\n",
       "      <td>1</td>\n",
       "      <td>1</td>\n",
       "      <td>2</td>\n",
       "      <td>3</td>\n",
       "      <td>5</td>\n",
       "    </tr>\n",
       "    <tr>\n",
       "      <td>health</td>\n",
       "      <td>395</td>\n",
       "      <td>NaN</td>\n",
       "      <td>NaN</td>\n",
       "      <td>NaN</td>\n",
       "      <td>3.55443</td>\n",
       "      <td>1.3903</td>\n",
       "      <td>1</td>\n",
       "      <td>3</td>\n",
       "      <td>4</td>\n",
       "      <td>5</td>\n",
       "      <td>5</td>\n",
       "    </tr>\n",
       "    <tr>\n",
       "      <td>absences</td>\n",
       "      <td>395</td>\n",
       "      <td>NaN</td>\n",
       "      <td>NaN</td>\n",
       "      <td>NaN</td>\n",
       "      <td>5.70886</td>\n",
       "      <td>8.0031</td>\n",
       "      <td>0</td>\n",
       "      <td>0</td>\n",
       "      <td>4</td>\n",
       "      <td>8</td>\n",
       "      <td>75</td>\n",
       "    </tr>\n",
       "    <tr>\n",
       "      <td>G1</td>\n",
       "      <td>395</td>\n",
       "      <td>NaN</td>\n",
       "      <td>NaN</td>\n",
       "      <td>NaN</td>\n",
       "      <td>10.9089</td>\n",
       "      <td>3.31919</td>\n",
       "      <td>3</td>\n",
       "      <td>8</td>\n",
       "      <td>11</td>\n",
       "      <td>13</td>\n",
       "      <td>19</td>\n",
       "    </tr>\n",
       "    <tr>\n",
       "      <td>G2</td>\n",
       "      <td>395</td>\n",
       "      <td>NaN</td>\n",
       "      <td>NaN</td>\n",
       "      <td>NaN</td>\n",
       "      <td>10.7139</td>\n",
       "      <td>3.7615</td>\n",
       "      <td>0</td>\n",
       "      <td>9</td>\n",
       "      <td>11</td>\n",
       "      <td>13</td>\n",
       "      <td>19</td>\n",
       "    </tr>\n",
       "    <tr>\n",
       "      <td>G3</td>\n",
       "      <td>395</td>\n",
       "      <td>NaN</td>\n",
       "      <td>NaN</td>\n",
       "      <td>NaN</td>\n",
       "      <td>10.4152</td>\n",
       "      <td>4.58144</td>\n",
       "      <td>0</td>\n",
       "      <td>8</td>\n",
       "      <td>11</td>\n",
       "      <td>14</td>\n",
       "      <td>20</td>\n",
       "    </tr>\n",
       "  </tbody>\n",
       "</table>\n",
       "</div>"
      ],
      "text/plain": [
       "           count unique     top freq      mean       std  min  25%  50%  75%  \\\n",
       "school       395      2      GP  349       NaN       NaN  NaN  NaN  NaN  NaN   \n",
       "sex          395      2       F  208       NaN       NaN  NaN  NaN  NaN  NaN   \n",
       "age          395    NaN     NaN  NaN   16.6962   1.27604   15   16   17   18   \n",
       "address      395      2       U  307       NaN       NaN  NaN  NaN  NaN  NaN   \n",
       "famsize      395      2     GT3  281       NaN       NaN  NaN  NaN  NaN  NaN   \n",
       "Pstatus      395      2       T  354       NaN       NaN  NaN  NaN  NaN  NaN   \n",
       "Medu         395    NaN     NaN  NaN   2.74937   1.09474    0    2    3    4   \n",
       "Fedu         395    NaN     NaN  NaN   2.52152    1.0882    0    2    2    3   \n",
       "Mjob         395      5   other  141       NaN       NaN  NaN  NaN  NaN  NaN   \n",
       "Fjob         395      5   other  217       NaN       NaN  NaN  NaN  NaN  NaN   \n",
       "reason       395      4  course  145       NaN       NaN  NaN  NaN  NaN  NaN   \n",
       "guardian     395      3  mother  273       NaN       NaN  NaN  NaN  NaN  NaN   \n",
       "traveltime   395    NaN     NaN  NaN    1.4481  0.697505    1    1    1    2   \n",
       "studytime    395    NaN     NaN  NaN   2.03544   0.83924    1    1    2    2   \n",
       "failures     395    NaN     NaN  NaN  0.334177  0.743651    0    0    0    0   \n",
       "schoolsup    395      2      no  344       NaN       NaN  NaN  NaN  NaN  NaN   \n",
       "famsup       395      2     yes  242       NaN       NaN  NaN  NaN  NaN  NaN   \n",
       "paid         395      2      no  214       NaN       NaN  NaN  NaN  NaN  NaN   \n",
       "activities   395      2     yes  201       NaN       NaN  NaN  NaN  NaN  NaN   \n",
       "nursery      395      2     yes  314       NaN       NaN  NaN  NaN  NaN  NaN   \n",
       "higher       395      2     yes  375       NaN       NaN  NaN  NaN  NaN  NaN   \n",
       "internet     395      2     yes  329       NaN       NaN  NaN  NaN  NaN  NaN   \n",
       "romantic     395      2      no  263       NaN       NaN  NaN  NaN  NaN  NaN   \n",
       "famrel       395    NaN     NaN  NaN    3.9443  0.896659    1    4    4    5   \n",
       "freetime     395    NaN     NaN  NaN   3.23544  0.998862    1    3    3    4   \n",
       "goout        395    NaN     NaN  NaN   3.10886   1.11328    1    2    3    4   \n",
       "Dalc         395    NaN     NaN  NaN   1.48101  0.890741    1    1    1    2   \n",
       "Walc         395    NaN     NaN  NaN   2.29114    1.2879    1    1    2    3   \n",
       "health       395    NaN     NaN  NaN   3.55443    1.3903    1    3    4    5   \n",
       "absences     395    NaN     NaN  NaN   5.70886    8.0031    0    0    4    8   \n",
       "G1           395    NaN     NaN  NaN   10.9089   3.31919    3    8   11   13   \n",
       "G2           395    NaN     NaN  NaN   10.7139    3.7615    0    9   11   13   \n",
       "G3           395    NaN     NaN  NaN   10.4152   4.58144    0    8   11   14   \n",
       "\n",
       "            max  \n",
       "school      NaN  \n",
       "sex         NaN  \n",
       "age          22  \n",
       "address     NaN  \n",
       "famsize     NaN  \n",
       "Pstatus     NaN  \n",
       "Medu          4  \n",
       "Fedu          4  \n",
       "Mjob        NaN  \n",
       "Fjob        NaN  \n",
       "reason      NaN  \n",
       "guardian    NaN  \n",
       "traveltime    4  \n",
       "studytime     4  \n",
       "failures      3  \n",
       "schoolsup   NaN  \n",
       "famsup      NaN  \n",
       "paid        NaN  \n",
       "activities  NaN  \n",
       "nursery     NaN  \n",
       "higher      NaN  \n",
       "internet    NaN  \n",
       "romantic    NaN  \n",
       "famrel        5  \n",
       "freetime      5  \n",
       "goout         5  \n",
       "Dalc          5  \n",
       "Walc          5  \n",
       "health        5  \n",
       "absences     75  \n",
       "G1           19  \n",
       "G2           19  \n",
       "G3           20  "
      ]
     },
     "execution_count": 9,
     "metadata": {},
     "output_type": "execute_result"
    }
   ],
   "source": [
    "students.describe(include='all').transpose()"
   ]
  },
  {
   "cell_type": "code",
   "execution_count": 10,
   "metadata": {},
   "outputs": [
    {
     "name": "stdout",
     "output_type": "stream",
     "text": [
      "<class 'pandas.core.frame.DataFrame'>\n",
      "RangeIndex: 395 entries, 0 to 394\n",
      "Data columns (total 33 columns):\n",
      "school        395 non-null object\n",
      "sex           395 non-null object\n",
      "age           395 non-null int64\n",
      "address       395 non-null object\n",
      "famsize       395 non-null object\n",
      "Pstatus       395 non-null object\n",
      "Medu          395 non-null int64\n",
      "Fedu          395 non-null int64\n",
      "Mjob          395 non-null object\n",
      "Fjob          395 non-null object\n",
      "reason        395 non-null object\n",
      "guardian      395 non-null object\n",
      "traveltime    395 non-null int64\n",
      "studytime     395 non-null int64\n",
      "failures      395 non-null int64\n",
      "schoolsup     395 non-null object\n",
      "famsup        395 non-null object\n",
      "paid          395 non-null object\n",
      "activities    395 non-null object\n",
      "nursery       395 non-null object\n",
      "higher        395 non-null object\n",
      "internet      395 non-null object\n",
      "romantic      395 non-null object\n",
      "famrel        395 non-null int64\n",
      "freetime      395 non-null int64\n",
      "goout         395 non-null int64\n",
      "Dalc          395 non-null int64\n",
      "Walc          395 non-null int64\n",
      "health        395 non-null int64\n",
      "absences      395 non-null int64\n",
      "G1            395 non-null int64\n",
      "G2            395 non-null int64\n",
      "G3            395 non-null int64\n",
      "dtypes: int64(16), object(17)\n",
      "memory usage: 102.0+ KB\n"
     ]
    }
   ],
   "source": [
    "students.info()"
   ]
  },
  {
   "cell_type": "code",
   "execution_count": 11,
   "metadata": {},
   "outputs": [],
   "source": [
    "#Based on the above, none of the features seem to have NaN values. There may be incorrect data(like ?,'',#,etc) for some of the \n",
    "#non-numeric features, like MJob/FJob, which are categorical with multiple categories. However such values are not \n",
    "#present for numeric data. There are total 15 non-numeric features"
   ]
  },
  {
   "cell_type": "markdown",
   "metadata": {
    "colab_type": "text",
    "id": "2_P3ODMKuHP2"
   },
   "source": [
    "## Transform Data\n",
    "\n",
    "*Print all the attribute names which are not numerical.*\n",
    "\n",
    "**Hint:** check **select_dtypes()** and its **include** and **exclude** parameters.**\n",
    "\n",
    "#### Answer:"
   ]
  },
  {
   "cell_type": "code",
   "execution_count": 12,
   "metadata": {
    "colab": {},
    "colab_type": "code",
    "id": "bW1v3TuZuHP3"
   },
   "outputs": [
    {
     "data": {
      "text/plain": [
       "Index(['school', 'sex', 'address', 'famsize', 'Pstatus', 'Mjob', 'Fjob',\n",
       "       'reason', 'guardian', 'schoolsup', 'famsup', 'paid', 'activities',\n",
       "       'nursery', 'higher', 'internet', 'romantic'],\n",
       "      dtype='object')"
      ]
     },
     "execution_count": 12,
     "metadata": {},
     "output_type": "execute_result"
    }
   ],
   "source": [
    "students.select_dtypes(include='object').columns"
   ]
  },
  {
   "cell_type": "markdown",
   "metadata": {
    "colab_type": "text",
    "id": "zTXZpxq5uHP7"
   },
   "source": [
    "## Drop variables with less variance\n",
    "\n",
    "*Find the variance of each numerical independent variable and drop whose variance is less than 1.*"
   ]
  },
  {
   "cell_type": "code",
   "execution_count": 13,
   "metadata": {},
   "outputs": [
    {
     "data": {
      "text/plain": [
       "age            1.628285\n",
       "Medu           1.198445\n",
       "Fedu           1.184180\n",
       "traveltime     0.486513\n",
       "studytime      0.704324\n",
       "failures       0.553017\n",
       "famrel         0.803997\n",
       "freetime       0.997725\n",
       "goout          1.239388\n",
       "Dalc           0.793420\n",
       "Walc           1.658678\n",
       "health         1.932944\n",
       "absences      64.049541\n",
       "G1            11.017053\n",
       "G2            14.148917\n",
       "G3            20.989616\n",
       "dtype: float64"
      ]
     },
     "execution_count": 13,
     "metadata": {},
     "output_type": "execute_result"
    }
   ],
   "source": [
    "students.var()"
   ]
  },
  {
   "cell_type": "code",
   "execution_count": 14,
   "metadata": {},
   "outputs": [
    {
     "data": {
      "text/plain": [
       "age            True\n",
       "Medu           True\n",
       "Fedu           True\n",
       "traveltime    False\n",
       "studytime     False\n",
       "failures      False\n",
       "famrel        False\n",
       "freetime      False\n",
       "goout          True\n",
       "Dalc          False\n",
       "Walc           True\n",
       "health         True\n",
       "absences       True\n",
       "G1             True\n",
       "G2             True\n",
       "G3             True\n",
       "dtype: bool"
      ]
     },
     "execution_count": 14,
     "metadata": {},
     "output_type": "execute_result"
    }
   ],
   "source": [
    "students.var()>1"
   ]
  },
  {
   "cell_type": "code",
   "execution_count": 15,
   "metadata": {},
   "outputs": [],
   "source": [
    "#The columns traveltime,studytime,failures,famrel,freetime,Dalc has variance less than 1. Hence we are dropping these columns"
   ]
  },
  {
   "cell_type": "code",
   "execution_count": 16,
   "metadata": {},
   "outputs": [],
   "source": [
    "#Creating a back-up copy with the raw-data, before we start dropping columns\n",
    "students_bkup = students.copy()"
   ]
  },
  {
   "cell_type": "code",
   "execution_count": 17,
   "metadata": {
    "colab": {},
    "colab_type": "code",
    "id": "u8Qm0728uHQA"
   },
   "outputs": [],
   "source": [
    "students.drop(['traveltime','studytime','failures','famrel','freetime','Dalc'],axis=1,inplace=True)"
   ]
  },
  {
   "cell_type": "code",
   "execution_count": 18,
   "metadata": {},
   "outputs": [
    {
     "data": {
      "text/plain": [
       "(395, 27)"
      ]
     },
     "execution_count": 18,
     "metadata": {},
     "output_type": "execute_result"
    }
   ],
   "source": [
    "students.shape"
   ]
  },
  {
   "cell_type": "code",
   "execution_count": 19,
   "metadata": {},
   "outputs": [],
   "source": [
    "#This confirms that the aforesaid columns have been dropped as requested"
   ]
  },
  {
   "cell_type": "markdown",
   "metadata": {
    "colab_type": "text",
    "id": "3Y2CYTIXuHQJ"
   },
   "source": [
    "## Question 4 - Encode all categorical variables to numerical\n",
    "\n",
    "Take the list of categorical attributes(from the above result) and convert them into neumerical variables. After that, print the head of dataframe and check the values.\n",
    "\n",
    "**Hint:** check **sklearn LabelEncoder()**\n",
    "\n",
    "#### Answer:"
   ]
  },
  {
   "cell_type": "code",
   "execution_count": 20,
   "metadata": {
    "colab": {},
    "colab_type": "code",
    "id": "ZmNpYg_WuHQK"
   },
   "outputs": [
    {
     "name": "stdout",
     "output_type": "stream",
     "text": [
      "Unique Schools: \n",
      " GP    349\n",
      "MS     46\n",
      "Name: school, dtype: int64\n",
      "\n",
      "\n",
      "Unique address: \n",
      " U    307\n",
      "R     88\n",
      "Name: address, dtype: int64\n",
      "\n",
      "\n",
      "Unique famsize: \n",
      " GT3    281\n",
      "LE3    114\n",
      "Name: famsize, dtype: int64\n",
      "\n",
      "\n",
      "Unique Pstatus: \n",
      " T    354\n",
      "A     41\n",
      "Name: Pstatus, dtype: int64\n",
      "\n",
      "\n",
      "Unique Mjob: \n",
      " other       141\n",
      "services    103\n",
      "at_home      59\n",
      "teacher      58\n",
      "health       34\n",
      "Name: Mjob, dtype: int64\n",
      "\n",
      "\n",
      "Unique Fjob: \n",
      " other       217\n",
      "services    111\n",
      "teacher      29\n",
      "at_home      20\n",
      "health       18\n",
      "Name: Fjob, dtype: int64\n",
      "\n",
      "\n",
      "Unique reason: \n",
      " course        145\n",
      "home          109\n",
      "reputation    105\n",
      "other          36\n",
      "Name: reason, dtype: int64\n",
      "\n",
      "\n",
      "Unique guardian: \n",
      " mother    273\n",
      "father     90\n",
      "other      32\n",
      "Name: guardian, dtype: int64\n",
      "\n",
      "\n",
      "Unique schoolsup: \n",
      " no     344\n",
      "yes     51\n",
      "Name: schoolsup, dtype: int64\n",
      "\n",
      "\n",
      "Unique famsup: \n",
      " yes    242\n",
      "no     153\n",
      "Name: famsup, dtype: int64\n",
      "\n",
      "\n",
      "Unique paid: \n",
      " no     214\n",
      "yes    181\n",
      "Name: paid, dtype: int64\n",
      "\n",
      "\n",
      "Unique activities: \n",
      " yes    201\n",
      "no     194\n",
      "Name: activities, dtype: int64\n",
      "\n",
      "\n",
      "Unique nursery: \n",
      " yes    314\n",
      "no      81\n",
      "Name: nursery, dtype: int64\n",
      "\n",
      "\n",
      "Unique higher: \n",
      " yes    375\n",
      "no      20\n",
      "Name: higher, dtype: int64\n",
      "\n",
      "\n",
      "Unique internet: \n",
      " yes    329\n",
      "no      66\n",
      "Name: internet, dtype: int64\n",
      "\n",
      "\n",
      "Unique romantic: \n",
      " no     263\n",
      "yes    132\n",
      "Name: romantic, dtype: int64\n",
      "\n",
      "\n"
     ]
    }
   ],
   "source": [
    "#The below will help us understand the different unique values in the various categorical columns\n",
    "print ('Unique Schools: \\n',students['school'].value_counts())\n",
    "print ('\\n')\n",
    "print ('Unique address: \\n',students['address'].value_counts())\n",
    "print ('\\n')\n",
    "print ('Unique famsize: \\n',students['famsize'].value_counts())\n",
    "print ('\\n')\n",
    "print ('Unique Pstatus: \\n',students['Pstatus'].value_counts())\n",
    "print ('\\n')\n",
    "print ('Unique Mjob: \\n',students['Mjob'].value_counts())\n",
    "print ('\\n')\n",
    "print ('Unique Fjob: \\n',students['Fjob'].value_counts())\n",
    "print ('\\n')\n",
    "print ('Unique reason: \\n',students['reason'].value_counts())\n",
    "print ('\\n')\n",
    "print ('Unique guardian: \\n',students['guardian'].value_counts())\n",
    "print ('\\n')\n",
    "print ('Unique schoolsup: \\n',students['schoolsup'].value_counts())\n",
    "print ('\\n')\n",
    "print ('Unique famsup: \\n',students['famsup'].value_counts())\n",
    "print ('\\n')\n",
    "print ('Unique paid: \\n',students['paid'].value_counts())\n",
    "print ('\\n')\n",
    "print ('Unique activities: \\n',students['activities'].value_counts())\n",
    "print ('\\n')\n",
    "print ('Unique nursery: \\n',students['nursery'].value_counts())\n",
    "print ('\\n')\n",
    "print ('Unique higher: \\n',students['higher'].value_counts())\n",
    "print ('\\n')\n",
    "print ('Unique internet: \\n',students['internet'].value_counts())\n",
    "print ('\\n')\n",
    "print ('Unique romantic: \\n',students['romantic'].value_counts())\n",
    "print ('\\n')"
   ]
  },
  {
   "cell_type": "code",
   "execution_count": 21,
   "metadata": {},
   "outputs": [],
   "source": [
    "#As we can see from the above,most of the above categorical fields are not ordinal in nature. Hence we shouldn't apply \n",
    "#Label Encoding, but should rather look at One-Hot Encoding\n",
    "students = pd.get_dummies(students, columns=['school'])\n",
    "students = pd.get_dummies(students, columns=['sex'])\n",
    "students = pd.get_dummies(students, columns=['address'])\n",
    "students = pd.get_dummies(students, columns=['famsize'])\n",
    "students = pd.get_dummies(students, columns=['Pstatus'])\n",
    "students = pd.get_dummies(students, columns=['Mjob'])\n",
    "students = pd.get_dummies(students, columns=['Fjob'])\n",
    "students = pd.get_dummies(students, columns=['reason'])\n",
    "students = pd.get_dummies(students, columns=['guardian'])\n",
    "students = pd.get_dummies(students, columns=['schoolsup'])\n",
    "students = pd.get_dummies(students, columns=['famsup'])\n",
    "students = pd.get_dummies(students, columns=['paid'])\n",
    "students = pd.get_dummies(students, columns=['activities'])\n",
    "students = pd.get_dummies(students, columns=['nursery'])\n",
    "students = pd.get_dummies(students, columns=['higher'])\n",
    "students = pd.get_dummies(students, columns=['internet'])\n",
    "students = pd.get_dummies(students, columns=['romantic'])"
   ]
  },
  {
   "cell_type": "code",
   "execution_count": 22,
   "metadata": {},
   "outputs": [
    {
     "data": {
      "text/html": [
       "<div>\n",
       "<style scoped>\n",
       "    .dataframe tbody tr th:only-of-type {\n",
       "        vertical-align: middle;\n",
       "    }\n",
       "\n",
       "    .dataframe tbody tr th {\n",
       "        vertical-align: top;\n",
       "    }\n",
       "\n",
       "    .dataframe thead th {\n",
       "        text-align: right;\n",
       "    }\n",
       "</style>\n",
       "<table border=\"1\" class=\"dataframe\">\n",
       "  <thead>\n",
       "    <tr style=\"text-align: right;\">\n",
       "      <th></th>\n",
       "      <th>age</th>\n",
       "      <th>Medu</th>\n",
       "      <th>Fedu</th>\n",
       "      <th>goout</th>\n",
       "      <th>Walc</th>\n",
       "      <th>health</th>\n",
       "      <th>absences</th>\n",
       "      <th>G1</th>\n",
       "      <th>G2</th>\n",
       "      <th>G3</th>\n",
       "      <th>...</th>\n",
       "      <th>activities_no</th>\n",
       "      <th>activities_yes</th>\n",
       "      <th>nursery_no</th>\n",
       "      <th>nursery_yes</th>\n",
       "      <th>higher_no</th>\n",
       "      <th>higher_yes</th>\n",
       "      <th>internet_no</th>\n",
       "      <th>internet_yes</th>\n",
       "      <th>romantic_no</th>\n",
       "      <th>romantic_yes</th>\n",
       "    </tr>\n",
       "    <tr>\n",
       "      <th>number</th>\n",
       "      <th></th>\n",
       "      <th></th>\n",
       "      <th></th>\n",
       "      <th></th>\n",
       "      <th></th>\n",
       "      <th></th>\n",
       "      <th></th>\n",
       "      <th></th>\n",
       "      <th></th>\n",
       "      <th></th>\n",
       "      <th></th>\n",
       "      <th></th>\n",
       "      <th></th>\n",
       "      <th></th>\n",
       "      <th></th>\n",
       "      <th></th>\n",
       "      <th></th>\n",
       "      <th></th>\n",
       "      <th></th>\n",
       "      <th></th>\n",
       "      <th></th>\n",
       "    </tr>\n",
       "  </thead>\n",
       "  <tbody>\n",
       "    <tr>\n",
       "      <td>0</td>\n",
       "      <td>18</td>\n",
       "      <td>4</td>\n",
       "      <td>4</td>\n",
       "      <td>4</td>\n",
       "      <td>1</td>\n",
       "      <td>3</td>\n",
       "      <td>6</td>\n",
       "      <td>5</td>\n",
       "      <td>6</td>\n",
       "      <td>6</td>\n",
       "      <td>...</td>\n",
       "      <td>1</td>\n",
       "      <td>0</td>\n",
       "      <td>0</td>\n",
       "      <td>1</td>\n",
       "      <td>0</td>\n",
       "      <td>1</td>\n",
       "      <td>1</td>\n",
       "      <td>0</td>\n",
       "      <td>1</td>\n",
       "      <td>0</td>\n",
       "    </tr>\n",
       "    <tr>\n",
       "      <td>1</td>\n",
       "      <td>17</td>\n",
       "      <td>1</td>\n",
       "      <td>1</td>\n",
       "      <td>3</td>\n",
       "      <td>1</td>\n",
       "      <td>3</td>\n",
       "      <td>4</td>\n",
       "      <td>5</td>\n",
       "      <td>5</td>\n",
       "      <td>6</td>\n",
       "      <td>...</td>\n",
       "      <td>1</td>\n",
       "      <td>0</td>\n",
       "      <td>1</td>\n",
       "      <td>0</td>\n",
       "      <td>0</td>\n",
       "      <td>1</td>\n",
       "      <td>0</td>\n",
       "      <td>1</td>\n",
       "      <td>1</td>\n",
       "      <td>0</td>\n",
       "    </tr>\n",
       "    <tr>\n",
       "      <td>2</td>\n",
       "      <td>15</td>\n",
       "      <td>1</td>\n",
       "      <td>1</td>\n",
       "      <td>2</td>\n",
       "      <td>3</td>\n",
       "      <td>3</td>\n",
       "      <td>10</td>\n",
       "      <td>7</td>\n",
       "      <td>8</td>\n",
       "      <td>10</td>\n",
       "      <td>...</td>\n",
       "      <td>1</td>\n",
       "      <td>0</td>\n",
       "      <td>0</td>\n",
       "      <td>1</td>\n",
       "      <td>0</td>\n",
       "      <td>1</td>\n",
       "      <td>0</td>\n",
       "      <td>1</td>\n",
       "      <td>1</td>\n",
       "      <td>0</td>\n",
       "    </tr>\n",
       "    <tr>\n",
       "      <td>3</td>\n",
       "      <td>15</td>\n",
       "      <td>4</td>\n",
       "      <td>2</td>\n",
       "      <td>2</td>\n",
       "      <td>1</td>\n",
       "      <td>5</td>\n",
       "      <td>2</td>\n",
       "      <td>15</td>\n",
       "      <td>14</td>\n",
       "      <td>15</td>\n",
       "      <td>...</td>\n",
       "      <td>0</td>\n",
       "      <td>1</td>\n",
       "      <td>0</td>\n",
       "      <td>1</td>\n",
       "      <td>0</td>\n",
       "      <td>1</td>\n",
       "      <td>0</td>\n",
       "      <td>1</td>\n",
       "      <td>0</td>\n",
       "      <td>1</td>\n",
       "    </tr>\n",
       "    <tr>\n",
       "      <td>4</td>\n",
       "      <td>16</td>\n",
       "      <td>3</td>\n",
       "      <td>3</td>\n",
       "      <td>2</td>\n",
       "      <td>2</td>\n",
       "      <td>5</td>\n",
       "      <td>4</td>\n",
       "      <td>6</td>\n",
       "      <td>10</td>\n",
       "      <td>10</td>\n",
       "      <td>...</td>\n",
       "      <td>1</td>\n",
       "      <td>0</td>\n",
       "      <td>0</td>\n",
       "      <td>1</td>\n",
       "      <td>0</td>\n",
       "      <td>1</td>\n",
       "      <td>1</td>\n",
       "      <td>0</td>\n",
       "      <td>1</td>\n",
       "      <td>0</td>\n",
       "    </tr>\n",
       "  </tbody>\n",
       "</table>\n",
       "<p>5 rows × 53 columns</p>\n",
       "</div>"
      ],
      "text/plain": [
       "        age  Medu  Fedu  goout  Walc  health  absences  G1  G2  G3  ...  \\\n",
       "number                                                              ...   \n",
       "0        18     4     4      4     1       3         6   5   6   6  ...   \n",
       "1        17     1     1      3     1       3         4   5   5   6  ...   \n",
       "2        15     1     1      2     3       3        10   7   8  10  ...   \n",
       "3        15     4     2      2     1       5         2  15  14  15  ...   \n",
       "4        16     3     3      2     2       5         4   6  10  10  ...   \n",
       "\n",
       "        activities_no  activities_yes  nursery_no  nursery_yes  higher_no  \\\n",
       "number                                                                      \n",
       "0                   1               0           0            1          0   \n",
       "1                   1               0           1            0          0   \n",
       "2                   1               0           0            1          0   \n",
       "3                   0               1           0            1          0   \n",
       "4                   1               0           0            1          0   \n",
       "\n",
       "        higher_yes  internet_no  internet_yes  romantic_no  romantic_yes  \n",
       "number                                                                    \n",
       "0                1            1             0            1             0  \n",
       "1                1            0             1            1             0  \n",
       "2                1            0             1            1             0  \n",
       "3                1            0             1            0             1  \n",
       "4                1            1             0            1             0  \n",
       "\n",
       "[5 rows x 53 columns]"
      ]
     },
     "execution_count": 22,
     "metadata": {},
     "output_type": "execute_result"
    }
   ],
   "source": [
    "students.head()"
   ]
  },
  {
   "cell_type": "markdown",
   "metadata": {
    "colab_type": "text",
    "id": "4W-GbCYXuHQO"
   },
   "source": [
    "## Question 5 - Convert the continuous values of grades into classes\n",
    "\n",
    "*Consider the values in G1, G2 and G3 with >= 10 as pass(1) and < 10 as fail(0) and encode them into binary values. Print head of dataframe to check the values.*\n",
    "\n",
    "#### Answer:"
   ]
  },
  {
   "cell_type": "code",
   "execution_count": 23,
   "metadata": {
    "colab": {},
    "colab_type": "code",
    "id": "SlELxBQ0uHQP"
   },
   "outputs": [
    {
     "data": {
      "text/html": [
       "<div>\n",
       "<style scoped>\n",
       "    .dataframe tbody tr th:only-of-type {\n",
       "        vertical-align: middle;\n",
       "    }\n",
       "\n",
       "    .dataframe tbody tr th {\n",
       "        vertical-align: top;\n",
       "    }\n",
       "\n",
       "    .dataframe thead th {\n",
       "        text-align: right;\n",
       "    }\n",
       "</style>\n",
       "<table border=\"1\" class=\"dataframe\">\n",
       "  <thead>\n",
       "    <tr style=\"text-align: right;\">\n",
       "      <th></th>\n",
       "      <th>age</th>\n",
       "      <th>Medu</th>\n",
       "      <th>Fedu</th>\n",
       "      <th>goout</th>\n",
       "      <th>Walc</th>\n",
       "      <th>health</th>\n",
       "      <th>absences</th>\n",
       "      <th>G1</th>\n",
       "      <th>G2</th>\n",
       "      <th>G3</th>\n",
       "      <th>...</th>\n",
       "      <th>activities_no</th>\n",
       "      <th>activities_yes</th>\n",
       "      <th>nursery_no</th>\n",
       "      <th>nursery_yes</th>\n",
       "      <th>higher_no</th>\n",
       "      <th>higher_yes</th>\n",
       "      <th>internet_no</th>\n",
       "      <th>internet_yes</th>\n",
       "      <th>romantic_no</th>\n",
       "      <th>romantic_yes</th>\n",
       "    </tr>\n",
       "    <tr>\n",
       "      <th>number</th>\n",
       "      <th></th>\n",
       "      <th></th>\n",
       "      <th></th>\n",
       "      <th></th>\n",
       "      <th></th>\n",
       "      <th></th>\n",
       "      <th></th>\n",
       "      <th></th>\n",
       "      <th></th>\n",
       "      <th></th>\n",
       "      <th></th>\n",
       "      <th></th>\n",
       "      <th></th>\n",
       "      <th></th>\n",
       "      <th></th>\n",
       "      <th></th>\n",
       "      <th></th>\n",
       "      <th></th>\n",
       "      <th></th>\n",
       "      <th></th>\n",
       "      <th></th>\n",
       "    </tr>\n",
       "  </thead>\n",
       "  <tbody>\n",
       "    <tr>\n",
       "      <td>0</td>\n",
       "      <td>18</td>\n",
       "      <td>4</td>\n",
       "      <td>4</td>\n",
       "      <td>4</td>\n",
       "      <td>1</td>\n",
       "      <td>3</td>\n",
       "      <td>6</td>\n",
       "      <td>0</td>\n",
       "      <td>0</td>\n",
       "      <td>0</td>\n",
       "      <td>...</td>\n",
       "      <td>1</td>\n",
       "      <td>0</td>\n",
       "      <td>0</td>\n",
       "      <td>1</td>\n",
       "      <td>0</td>\n",
       "      <td>1</td>\n",
       "      <td>1</td>\n",
       "      <td>0</td>\n",
       "      <td>1</td>\n",
       "      <td>0</td>\n",
       "    </tr>\n",
       "    <tr>\n",
       "      <td>1</td>\n",
       "      <td>17</td>\n",
       "      <td>1</td>\n",
       "      <td>1</td>\n",
       "      <td>3</td>\n",
       "      <td>1</td>\n",
       "      <td>3</td>\n",
       "      <td>4</td>\n",
       "      <td>0</td>\n",
       "      <td>0</td>\n",
       "      <td>0</td>\n",
       "      <td>...</td>\n",
       "      <td>1</td>\n",
       "      <td>0</td>\n",
       "      <td>1</td>\n",
       "      <td>0</td>\n",
       "      <td>0</td>\n",
       "      <td>1</td>\n",
       "      <td>0</td>\n",
       "      <td>1</td>\n",
       "      <td>1</td>\n",
       "      <td>0</td>\n",
       "    </tr>\n",
       "    <tr>\n",
       "      <td>2</td>\n",
       "      <td>15</td>\n",
       "      <td>1</td>\n",
       "      <td>1</td>\n",
       "      <td>2</td>\n",
       "      <td>3</td>\n",
       "      <td>3</td>\n",
       "      <td>10</td>\n",
       "      <td>0</td>\n",
       "      <td>0</td>\n",
       "      <td>1</td>\n",
       "      <td>...</td>\n",
       "      <td>1</td>\n",
       "      <td>0</td>\n",
       "      <td>0</td>\n",
       "      <td>1</td>\n",
       "      <td>0</td>\n",
       "      <td>1</td>\n",
       "      <td>0</td>\n",
       "      <td>1</td>\n",
       "      <td>1</td>\n",
       "      <td>0</td>\n",
       "    </tr>\n",
       "    <tr>\n",
       "      <td>3</td>\n",
       "      <td>15</td>\n",
       "      <td>4</td>\n",
       "      <td>2</td>\n",
       "      <td>2</td>\n",
       "      <td>1</td>\n",
       "      <td>5</td>\n",
       "      <td>2</td>\n",
       "      <td>1</td>\n",
       "      <td>1</td>\n",
       "      <td>1</td>\n",
       "      <td>...</td>\n",
       "      <td>0</td>\n",
       "      <td>1</td>\n",
       "      <td>0</td>\n",
       "      <td>1</td>\n",
       "      <td>0</td>\n",
       "      <td>1</td>\n",
       "      <td>0</td>\n",
       "      <td>1</td>\n",
       "      <td>0</td>\n",
       "      <td>1</td>\n",
       "    </tr>\n",
       "    <tr>\n",
       "      <td>4</td>\n",
       "      <td>16</td>\n",
       "      <td>3</td>\n",
       "      <td>3</td>\n",
       "      <td>2</td>\n",
       "      <td>2</td>\n",
       "      <td>5</td>\n",
       "      <td>4</td>\n",
       "      <td>0</td>\n",
       "      <td>1</td>\n",
       "      <td>1</td>\n",
       "      <td>...</td>\n",
       "      <td>1</td>\n",
       "      <td>0</td>\n",
       "      <td>0</td>\n",
       "      <td>1</td>\n",
       "      <td>0</td>\n",
       "      <td>1</td>\n",
       "      <td>1</td>\n",
       "      <td>0</td>\n",
       "      <td>1</td>\n",
       "      <td>0</td>\n",
       "    </tr>\n",
       "  </tbody>\n",
       "</table>\n",
       "<p>5 rows × 53 columns</p>\n",
       "</div>"
      ],
      "text/plain": [
       "        age  Medu  Fedu  goout  Walc  health  absences G1 G2 G3  ...  \\\n",
       "number                                                           ...   \n",
       "0        18     4     4      4     1       3         6  0  0  0  ...   \n",
       "1        17     1     1      3     1       3         4  0  0  0  ...   \n",
       "2        15     1     1      2     3       3        10  0  0  1  ...   \n",
       "3        15     4     2      2     1       5         2  1  1  1  ...   \n",
       "4        16     3     3      2     2       5         4  0  1  1  ...   \n",
       "\n",
       "        activities_no  activities_yes  nursery_no  nursery_yes  higher_no  \\\n",
       "number                                                                      \n",
       "0                   1               0           0            1          0   \n",
       "1                   1               0           1            0          0   \n",
       "2                   1               0           0            1          0   \n",
       "3                   0               1           0            1          0   \n",
       "4                   1               0           0            1          0   \n",
       "\n",
       "        higher_yes  internet_no  internet_yes  romantic_no  romantic_yes  \n",
       "number                                                                    \n",
       "0                1            1             0            1             0  \n",
       "1                1            0             1            1             0  \n",
       "2                1            0             1            1             0  \n",
       "3                1            0             1            0             1  \n",
       "4                1            1             0            1             0  \n",
       "\n",
       "[5 rows x 53 columns]"
      ]
     },
     "execution_count": 23,
     "metadata": {},
     "output_type": "execute_result"
    }
   ],
   "source": [
    "students[\"G1\"] = np.where(students[\"G1\"] >= 10,\"1\",\"0\")\n",
    "students[\"G2\"] = np.where(students[\"G2\"] >= 10,\"1\",\"0\")\n",
    "students[\"G3\"] = np.where(students[\"G3\"] >= 10,\"1\",\"0\")\n",
    "students.head()"
   ]
  },
  {
   "cell_type": "markdown",
   "metadata": {
    "colab_type": "text",
    "id": "kO7O6UW3uHQU"
   },
   "source": [
    "## Question 6 \n",
    "*Consider G3 is the target attribute and remaining all attributes as features to predict G3. Now, separate features and target into separate dataframes and name them X and y respectively.*"
   ]
  },
  {
   "cell_type": "code",
   "execution_count": 24,
   "metadata": {
    "colab": {},
    "colab_type": "code",
    "id": "vCvntE0YuHQW"
   },
   "outputs": [],
   "source": [
    "X = students.drop('G3', axis=1)\n",
    "y = students[['G3']] "
   ]
  },
  {
   "cell_type": "markdown",
   "metadata": {
    "colab_type": "text",
    "id": "_CP-ZqsPuHQa"
   },
   "source": [
    "## Visualization\n",
    "\n",
    "## Question 7\n",
    "\n",
    "*Plot G2 and G3 and give your understanding on relation between both variables.*"
   ]
  },
  {
   "cell_type": "code",
   "execution_count": 25,
   "metadata": {
    "colab": {},
    "colab_type": "code",
    "id": "eh8o8rW_uHQb"
   },
   "outputs": [
    {
     "data": {
      "text/plain": [
       "<matplotlib.axes._subplots.AxesSubplot at 0x1a22436150>"
      ]
     },
     "execution_count": 25,
     "metadata": {},
     "output_type": "execute_result"
    },
    {
     "data": {
      "image/png": "[encoded data removed]",
      "text/plain": [
       "<Figure size 432x288 with 1 Axes>"
      ]
     },
     "metadata": {
      "needs_background": "light"
     },
     "output_type": "display_data"
    }
   ],
   "source": [
    "sns.countplot('G2',hue='G3',data=students)"
   ]
  },
  {
   "cell_type": "markdown",
   "metadata": {
    "colab_type": "text",
    "id": "wqefid55uHQg"
   },
   "source": [
    "\n",
    "The G3 depends a great deal on the G2. Thus, the G2 can be a good predictor of the outcome variable.\n"
   ]
  },
  {
   "cell_type": "markdown",
   "metadata": {
    "colab_type": "text",
    "id": "8O10W9U6uHQh"
   },
   "source": [
    "## Question 8\n",
    "\n",
    "*Plot the number of students in each school and number of students with different ages in separate plots.*"
   ]
  },
  {
   "cell_type": "code",
   "execution_count": 26,
   "metadata": {
    "colab": {},
    "colab_type": "code",
    "id": "FPBcJEPvuHQj"
   },
   "outputs": [
    {
     "data": {
      "text/plain": [
       "<matplotlib.axes._subplots.AxesSubplot at 0x1a22bff1d0>"
      ]
     },
     "execution_count": 26,
     "metadata": {},
     "output_type": "execute_result"
    },
    {
     "data": {
      "image/png": "[encoded data removed]",
      "text/plain": [
       "<Figure size 432x288 with 1 Axes>"
      ]
     },
     "metadata": {
      "needs_background": "light"
     },
     "output_type": "display_data"
    }
   ],
   "source": [
    "sns.countplot('school',data=students_bkup)"
   ]
  },
  {
   "cell_type": "code",
   "execution_count": 27,
   "metadata": {
    "colab": {},
    "colab_type": "code",
    "id": "zpl9q12IuHQo"
   },
   "outputs": [
    {
     "data": {
      "text/plain": [
       "<matplotlib.axes._subplots.AxesSubplot at 0x1a22c9e390>"
      ]
     },
     "execution_count": 27,
     "metadata": {},
     "output_type": "execute_result"
    },
    {
     "data": {
      "image/png": "[encoded data removed]",
      "text/plain": [
       "<Figure size 432x288 with 1 Axes>"
      ]
     },
     "metadata": {
      "needs_background": "light"
     },
     "output_type": "display_data"
    }
   ],
   "source": [
    "sns.countplot('age',data=students_bkup)"
   ]
  },
  {
   "cell_type": "code",
   "execution_count": 28,
   "metadata": {},
   "outputs": [],
   "source": [
    "#It seems most students study in GP, while most students are of the age 16-17. However we have some outliers also with age above\n",
    "#20. The data is thus highly skewed on the school attribute & we will need to see how this affects our model"
   ]
  },
  {
   "cell_type": "markdown",
   "metadata": {
    "colab_type": "text",
    "id": "8UP-m3juuHQv"
   },
   "source": [
    "## Question 9 - Training and testing data split"
   ]
  },
  {
   "cell_type": "markdown",
   "metadata": {
    "colab_type": "text",
    "id": "ePBT0v6TuHQw"
   },
   "source": [
    "*So far, you have converted all categorical features into numeric values. Now, split the data into training and test sets with training size of 300 records. Print the number of train and test records.*\n",
    "\n",
    "**Hint:** check **train_test_split()** from **sklearn**\n",
    "\n",
    "#### Answer:"
   ]
  },
  {
   "cell_type": "code",
   "execution_count": 29,
   "metadata": {
    "colab": {},
    "colab_type": "code",
    "id": "Nu5ULZAVuHQz"
   },
   "outputs": [
    {
     "data": {
      "text/plain": [
       "(300, 52)"
      ]
     },
     "execution_count": 29,
     "metadata": {},
     "output_type": "execute_result"
    }
   ],
   "source": [
    "X_train,X_test,y_train,y_test = train_test_split(X,y,test_size=0.24,random_state=1)\n",
    "X_train.shape"
   ]
  },
  {
   "cell_type": "markdown",
   "metadata": {
    "colab_type": "text",
    "id": "GHYII1QjuHQ3"
   },
   "source": [
    "## Question 10 - Model Implementation and Testing the Accuracy\n",
    "\n",
    "*Build a **LogisticRegression** classifier using **fit()** and **predict()** functions in sklearn. Print Accuracy and F1 score of Training and Test sets.*\n",
    "\n",
    "#### Answer:"
   ]
  },
  {
   "cell_type": "code",
   "execution_count": 30,
   "metadata": {
    "colab": {},
    "colab_type": "code",
    "id": "ne88xLZQuHQ4"
   },
   "outputs": [
    {
     "name": "stderr",
     "output_type": "stream",
     "text": [
      "/Users/debajyotidas/Applications/anaconda3/lib/python3.7/site-packages/sklearn/linear_model/logistic.py:432: FutureWarning: Default solver will be changed to 'lbfgs' in 0.22. Specify a solver to silence this warning.\n",
      "  FutureWarning)\n",
      "/Users/debajyotidas/Applications/anaconda3/lib/python3.7/site-packages/sklearn/utils/validation.py:724: DataConversionWarning: A column-vector y was passed when a 1d array was expected. Please change the shape of y to (n_samples, ), for example using ravel().\n",
      "  y = column_or_1d(y, warn=True)\n"
     ]
    },
    {
     "data": {
      "text/plain": [
       "LogisticRegression(C=1.0, class_weight=None, dual=False, fit_intercept=True,\n",
       "                   intercept_scaling=1, l1_ratio=None, max_iter=100,\n",
       "                   multi_class='warn', n_jobs=None, penalty='l2',\n",
       "                   random_state=None, solver='warn', tol=0.0001, verbose=0,\n",
       "                   warm_start=False)"
      ]
     },
     "execution_count": 30,
     "metadata": {},
     "output_type": "execute_result"
    }
   ],
   "source": [
    "lr=LogisticRegression()\n",
    "lr.fit(X_train,y_train)"
   ]
  },
  {
   "cell_type": "code",
   "execution_count": 31,
   "metadata": {
    "colab": {},
    "colab_type": "code",
    "id": "sTNrahjVuHQ6"
   },
   "outputs": [
    {
     "name": "stdout",
     "output_type": "stream",
     "text": [
      "Logistic Regression accuracy score:  0.9052631578947369\n"
     ]
    }
   ],
   "source": [
    "y_pred_train_lr = lr.predict(X_train)\n",
    "y_pred_test_lr = lr.predict(X_test)\n",
    "print ('Logistic Regression accuracy score: ',metrics.accuracy_score(y_test,y_pred_test_lr))"
   ]
  },
  {
   "cell_type": "code",
   "execution_count": 32,
   "metadata": {},
   "outputs": [
    {
     "name": "stdout",
     "output_type": "stream",
     "text": [
      "              precision    recall  f1-score   support\n",
      "\n",
      "           0       0.81      0.89      0.85        28\n",
      "           1       0.95      0.91      0.93        67\n",
      "\n",
      "    accuracy                           0.91        95\n",
      "   macro avg       0.88      0.90      0.89        95\n",
      "weighted avg       0.91      0.91      0.91        95\n",
      "\n"
     ]
    }
   ],
   "source": [
    "print (metrics.classification_report(y_test,y_pred_test_lr))"
   ]
  },
  {
   "cell_type": "code",
   "execution_count": 33,
   "metadata": {},
   "outputs": [],
   "source": [
    "#From the above Classification report, we can deduce that the model is slightly skewed towards class-1"
   ]
  },
  {
   "cell_type": "markdown",
   "metadata": {
    "colab_type": "text",
    "id": "Vpy90Xe150sV"
   },
   "source": [
    "# Naive bayes with Iris data"
   ]
  },
  {
   "cell_type": "markdown",
   "metadata": {
    "colab_type": "text",
    "id": "Ymp7UMwnOgm0"
   },
   "source": [
    "### Import Iris.csv"
   ]
  },
  {
   "cell_type": "code",
   "execution_count": 218,
   "metadata": {
    "colab": {},
    "colab_type": "code",
    "id": "GNnaUGrjOgm1"
   },
   "outputs": [
    {
     "data": {
      "text/html": [
       "<div>\n",
       "<style scoped>\n",
       "    .dataframe tbody tr th:only-of-type {\n",
       "        vertical-align: middle;\n",
       "    }\n",
       "\n",
       "    .dataframe tbody tr th {\n",
       "        vertical-align: top;\n",
       "    }\n",
       "\n",
       "    .dataframe thead th {\n",
       "        text-align: right;\n",
       "    }\n",
       "</style>\n",
       "<table border=\"1\" class=\"dataframe\">\n",
       "  <thead>\n",
       "    <tr style=\"text-align: right;\">\n",
       "      <th></th>\n",
       "      <th>Id</th>\n",
       "      <th>SepalLengthCm</th>\n",
       "      <th>SepalWidthCm</th>\n",
       "      <th>PetalLengthCm</th>\n",
       "      <th>PetalWidthCm</th>\n",
       "      <th>Species</th>\n",
       "    </tr>\n",
       "  </thead>\n",
       "  <tbody>\n",
       "    <tr>\n",
       "      <td>0</td>\n",
       "      <td>1</td>\n",
       "      <td>5.1</td>\n",
       "      <td>3.5</td>\n",
       "      <td>1.4</td>\n",
       "      <td>0.2</td>\n",
       "      <td>Iris-setosa</td>\n",
       "    </tr>\n",
       "    <tr>\n",
       "      <td>1</td>\n",
       "      <td>2</td>\n",
       "      <td>4.9</td>\n",
       "      <td>3.0</td>\n",
       "      <td>1.4</td>\n",
       "      <td>0.2</td>\n",
       "      <td>Iris-setosa</td>\n",
       "    </tr>\n",
       "    <tr>\n",
       "      <td>2</td>\n",
       "      <td>3</td>\n",
       "      <td>4.7</td>\n",
       "      <td>3.2</td>\n",
       "      <td>1.3</td>\n",
       "      <td>0.2</td>\n",
       "      <td>Iris-setosa</td>\n",
       "    </tr>\n",
       "    <tr>\n",
       "      <td>3</td>\n",
       "      <td>4</td>\n",
       "      <td>4.6</td>\n",
       "      <td>3.1</td>\n",
       "      <td>1.5</td>\n",
       "      <td>0.2</td>\n",
       "      <td>Iris-setosa</td>\n",
       "    </tr>\n",
       "    <tr>\n",
       "      <td>4</td>\n",
       "      <td>5</td>\n",
       "      <td>5.0</td>\n",
       "      <td>3.6</td>\n",
       "      <td>1.4</td>\n",
       "      <td>0.2</td>\n",
       "      <td>Iris-setosa</td>\n",
       "    </tr>\n",
       "  </tbody>\n",
       "</table>\n",
       "</div>"
      ],
      "text/plain": [
       "   Id  SepalLengthCm  SepalWidthCm  PetalLengthCm  PetalWidthCm      Species\n",
       "0   1            5.1           3.5            1.4           0.2  Iris-setosa\n",
       "1   2            4.9           3.0            1.4           0.2  Iris-setosa\n",
       "2   3            4.7           3.2            1.3           0.2  Iris-setosa\n",
       "3   4            4.6           3.1            1.5           0.2  Iris-setosa\n",
       "4   5            5.0           3.6            1.4           0.2  Iris-setosa"
      ]
     },
     "execution_count": 218,
     "metadata": {},
     "output_type": "execute_result"
    }
   ],
   "source": [
    "iris = pd.read_csv('iris.csv')\n",
    "iris.head()"
   ]
  },
  {
   "cell_type": "code",
   "execution_count": 219,
   "metadata": {
    "colab": {},
    "colab_type": "code",
    "id": "EONPnnVBOgm9"
   },
   "outputs": [
    {
     "data": {
      "text/plain": [
       "(150, 6)"
      ]
     },
     "execution_count": 219,
     "metadata": {},
     "output_type": "execute_result"
    }
   ],
   "source": [
    "iris.shape"
   ]
  },
  {
   "cell_type": "code",
   "execution_count": 220,
   "metadata": {
    "colab": {},
    "colab_type": "code",
    "id": "-o6lAxL3OgnC"
   },
   "outputs": [
    {
     "data": {
      "text/html": [
       "<div>\n",
       "<style scoped>\n",
       "    .dataframe tbody tr th:only-of-type {\n",
       "        vertical-align: middle;\n",
       "    }\n",
       "\n",
       "    .dataframe tbody tr th {\n",
       "        vertical-align: top;\n",
       "    }\n",
       "\n",
       "    .dataframe thead th {\n",
       "        text-align: right;\n",
       "    }\n",
       "</style>\n",
       "<table border=\"1\" class=\"dataframe\">\n",
       "  <thead>\n",
       "    <tr style=\"text-align: right;\">\n",
       "      <th></th>\n",
       "      <th>count</th>\n",
       "      <th>mean</th>\n",
       "      <th>std</th>\n",
       "      <th>min</th>\n",
       "      <th>25%</th>\n",
       "      <th>50%</th>\n",
       "      <th>75%</th>\n",
       "      <th>max</th>\n",
       "    </tr>\n",
       "  </thead>\n",
       "  <tbody>\n",
       "    <tr>\n",
       "      <td>Id</td>\n",
       "      <td>150.0</td>\n",
       "      <td>75.500000</td>\n",
       "      <td>43.445368</td>\n",
       "      <td>1.0</td>\n",
       "      <td>38.25</td>\n",
       "      <td>75.50</td>\n",
       "      <td>112.75</td>\n",
       "      <td>150.0</td>\n",
       "    </tr>\n",
       "    <tr>\n",
       "      <td>SepalLengthCm</td>\n",
       "      <td>150.0</td>\n",
       "      <td>5.843333</td>\n",
       "      <td>0.828066</td>\n",
       "      <td>4.3</td>\n",
       "      <td>5.10</td>\n",
       "      <td>5.80</td>\n",
       "      <td>6.40</td>\n",
       "      <td>7.9</td>\n",
       "    </tr>\n",
       "    <tr>\n",
       "      <td>SepalWidthCm</td>\n",
       "      <td>150.0</td>\n",
       "      <td>3.054000</td>\n",
       "      <td>0.433594</td>\n",
       "      <td>2.0</td>\n",
       "      <td>2.80</td>\n",
       "      <td>3.00</td>\n",
       "      <td>3.30</td>\n",
       "      <td>4.4</td>\n",
       "    </tr>\n",
       "    <tr>\n",
       "      <td>PetalLengthCm</td>\n",
       "      <td>150.0</td>\n",
       "      <td>3.758667</td>\n",
       "      <td>1.764420</td>\n",
       "      <td>1.0</td>\n",
       "      <td>1.60</td>\n",
       "      <td>4.35</td>\n",
       "      <td>5.10</td>\n",
       "      <td>6.9</td>\n",
       "    </tr>\n",
       "    <tr>\n",
       "      <td>PetalWidthCm</td>\n",
       "      <td>150.0</td>\n",
       "      <td>1.198667</td>\n",
       "      <td>0.763161</td>\n",
       "      <td>0.1</td>\n",
       "      <td>0.30</td>\n",
       "      <td>1.30</td>\n",
       "      <td>1.80</td>\n",
       "      <td>2.5</td>\n",
       "    </tr>\n",
       "  </tbody>\n",
       "</table>\n",
       "</div>"
      ],
      "text/plain": [
       "               count       mean        std  min    25%    50%     75%    max\n",
       "Id             150.0  75.500000  43.445368  1.0  38.25  75.50  112.75  150.0\n",
       "SepalLengthCm  150.0   5.843333   0.828066  4.3   5.10   5.80    6.40    7.9\n",
       "SepalWidthCm   150.0   3.054000   0.433594  2.0   2.80   3.00    3.30    4.4\n",
       "PetalLengthCm  150.0   3.758667   1.764420  1.0   1.60   4.35    5.10    6.9\n",
       "PetalWidthCm   150.0   1.198667   0.763161  0.1   0.30   1.30    1.80    2.5"
      ]
     },
     "execution_count": 220,
     "metadata": {},
     "output_type": "execute_result"
    }
   ],
   "source": [
    "iris.describe().T"
   ]
  },
  {
   "cell_type": "code",
   "execution_count": 221,
   "metadata": {},
   "outputs": [],
   "source": [
    "#From the above 5-point summary, it seems that PetalLengthCm feature is slightly left-skewed, with median > mean.\n",
    "#All the other features, seem to be very slightly (probably neglibly) skewed"
   ]
  },
  {
   "cell_type": "code",
   "execution_count": 222,
   "metadata": {
    "colab": {},
    "colab_type": "code",
    "id": "XVanNOb7OgnI"
   },
   "outputs": [],
   "source": [
    "#From an overview of the data, the 'Id' column seems to refer to some id tagging of the individual sample data\\\n",
    "#It's unique for every datapoint & is continuous in nature. Thus we can safely drop the same.\n",
    "#Lastly, let's create a back-up of the raw-data, before we drop any column\n",
    "iris_bkup = iris.copy()\n",
    "iris.drop('Id',axis=1,inplace=True)"
   ]
  },
  {
   "cell_type": "markdown",
   "metadata": {
    "colab_type": "text",
    "id": "6UMrLVa9OgnM"
   },
   "source": [
    "### Slice data set for Independent variables and dependent variables\n",
    "#### Please note 'Species' is my dependent variables, name it y and independent set data as X"
   ]
  },
  {
   "cell_type": "code",
   "execution_count": 223,
   "metadata": {
    "colab": {},
    "colab_type": "code",
    "id": "YuqCZK2-OgnN"
   },
   "outputs": [],
   "source": [
    "X= iris.drop('Species', axis=1)\n",
    "y= iris['Species']"
   ]
  },
  {
   "cell_type": "markdown",
   "metadata": {
    "colab_type": "text",
    "id": "oe4YSXwkOgnV"
   },
   "source": [
    "### Find the distribution of target variable (Class)"
   ]
  },
  {
   "cell_type": "code",
   "execution_count": 224,
   "metadata": {
    "colab": {},
    "colab_type": "code",
    "id": "65wA_xofOgnW"
   },
   "outputs": [
    {
     "name": "stdout",
     "output_type": "stream",
     "text": [
      "Iris-versicolor    50\n",
      "Iris-setosa        50\n",
      "Iris-virginica     50\n",
      "Name: Species, dtype: int64\n"
     ]
    },
    {
     "data": {
      "text/plain": [
       "<matplotlib.axes._subplots.AxesSubplot at 0x1a33c36bd0>"
      ]
     },
     "execution_count": 224,
     "metadata": {},
     "output_type": "execute_result"
    },
    {
     "data": {
      "image/png": "[encoded data removed]",
      "text/plain": [
       "<Figure size 432x288 with 1 Axes>"
      ]
     },
     "metadata": {
      "needs_background": "light"
     },
     "output_type": "display_data"
    }
   ],
   "source": [
    "#Let us see if the target variable is evenly distributed across all possible classes.\n",
    "print(y.value_counts())\n",
    "sns.countplot(y)"
   ]
  },
  {
   "cell_type": "code",
   "execution_count": 225,
   "metadata": {},
   "outputs": [],
   "source": [
    "#From the above, we can see that there are 3 unique species, and the dataset has equal distribution of all 3 classes\n",
    "#with 50 datapoints each"
   ]
  },
  {
   "cell_type": "markdown",
   "metadata": {
    "colab_type": "text",
    "id": "t386HtyCOgnb"
   },
   "source": [
    "### Plot the distribution of target variable using histogram"
   ]
  },
  {
   "cell_type": "code",
   "execution_count": 226,
   "metadata": {
    "colab": {},
    "colab_type": "code",
    "id": "1FbADzabOgnc"
   },
   "outputs": [
    {
     "data": {
      "text/plain": [
       "<matplotlib.axes._subplots.AxesSubplot at 0x1a3398ead0>"
      ]
     },
     "execution_count": 226,
     "metadata": {},
     "output_type": "execute_result"
    },
    {
     "data": {
      "image/png": "[encoded data removed]",
      "text/plain": [
       "<Figure size 432x288 with 1 Axes>"
      ]
     },
     "metadata": {
      "needs_background": "light"
     },
     "output_type": "display_data"
    }
   ],
   "source": [
    "pd.value_counts(iris[\"Species\"]).plot(kind=\"bar\")"
   ]
  },
  {
   "cell_type": "markdown",
   "metadata": {
    "colab_type": "text",
    "id": "AvPOo-YKOgng"
   },
   "source": [
    "### Plot Scatter Matrix to understand the distribution of variables and give insights from it( 1 Marks)"
   ]
  },
  {
   "cell_type": "code",
   "execution_count": 227,
   "metadata": {
    "colab": {},
    "colab_type": "code",
    "id": "JgvP1rbgOgnh"
   },
   "outputs": [
    {
     "data": {
      "text/plain": [
       "<seaborn.axisgrid.PairGrid at 0x1a34055a50>"
      ]
     },
     "execution_count": 227,
     "metadata": {},
     "output_type": "execute_result"
    },
    {
     "data": {
      "image/png": "[encoded data removed]",
      "text/plain": [
       "<Figure size 823.5x720 with 20 Axes>"
      ]
     },
     "metadata": {
      "needs_background": "light"
     },
     "output_type": "display_data"
    }
   ],
   "source": [
    "sns.pairplot(iris,hue='Species')"
   ]
  },
  {
   "cell_type": "code",
   "execution_count": 228,
   "metadata": {},
   "outputs": [
    {
     "data": {
      "text/plain": [
       "<seaborn.axisgrid.PairGrid at 0x1a34972c10>"
      ]
     },
     "execution_count": 228,
     "metadata": {},
     "output_type": "execute_result"
    },
    {
     "data": {
      "image/png": "[encoded data removed]",
      "text/plain": [
       "<Figure size 823.5x180 with 4 Axes>"
      ]
     },
     "metadata": {
      "needs_background": "light"
     },
     "output_type": "display_data"
    }
   ],
   "source": [
    "sns.pairplot(iris,x_vars=('SepalLengthCm','SepalWidthCm','PetalLengthCm','PetalWidthCm'),y_vars='Species',hue='Species')"
   ]
  },
  {
   "cell_type": "markdown",
   "metadata": {},
   "source": [
    "From the above distributions, it seems 'Sepal Length' is always less than 6cm for SETOSA, while VIRGINICA has 'Sepal Length' mostly above 6 cm. VERSICOLOR has overlapping sepal lengths.\n",
    "\n",
    "The same analysis can be said for 'Petal Length' also, where SETOSA is below 2 cm while VIRGINICA is above 4 cm.\n",
    "\n",
    "Lastly, the above is true for 'Petal Width' too, where SETOSA is below 1 cm while VIRGINICA is above 1 cm.\n",
    "\n",
    "Thus based on 'Sepal Length', 'Petal Length', 'Petal Width'; it's quiet easy to classify SETOSA & VIRGINICA but not so easy to identify VERSICOLOR"
   ]
  },
  {
   "cell_type": "markdown",
   "metadata": {
    "colab_type": "text",
    "id": "vkV6DZSLOgnm"
   },
   "source": [
    "### Summary Statistics and explain insights for at least 2 variables"
   ]
  },
  {
   "cell_type": "code",
   "execution_count": 229,
   "metadata": {
    "colab": {},
    "colab_type": "code",
    "id": "NFpTN29OOgnn"
   },
   "outputs": [
    {
     "data": {
      "text/plain": [
       "<matplotlib.axes._subplots.AxesSubplot at 0x1a350897d0>"
      ]
     },
     "execution_count": 229,
     "metadata": {},
     "output_type": "execute_result"
    },
    {
     "data": {
      "image/png": "[encoded data removed]",
      "text/plain": [
       "<Figure size 1440x720 with 1 Axes>"
      ]
     },
     "metadata": {
      "needs_background": "light"
     },
     "output_type": "display_data"
    }
   ],
   "source": [
    "plt.figure(figsize=(20,10))\n",
    "sns.boxplot(data=X)"
   ]
  },
  {
   "cell_type": "code",
   "execution_count": 230,
   "metadata": {
    "colab": {},
    "colab_type": "code",
    "id": "ypaLrqPsOgns"
   },
   "outputs": [],
   "source": [
    "#From a rough overview of the data, the 'Id' column seemed to refer to some id tagging of the individual sample data\\\n",
    "#It's unique for every datapoint & is continuous in nature. Hence we have excluded the same from the above analysis\n",
    "\n",
    "#We have also excluded the 'Species' data, as it's the target variable\n",
    "\n",
    "#From the above 5-point summary, PetalLengthCm feature is highly left-skewed, with median > mean.\n",
    "#Of the other features, PetalWidthCm seems to be left-skewed as well, while SepalWidthCm is slightly right-skewed\n",
    "#while SepalLengthCm seems to be normally distributed\n",
    "\n",
    "#SepalWidthCm also has outliers, which is not present in any of the other variables."
   ]
  },
  {
   "cell_type": "markdown",
   "metadata": {
    "colab_type": "text",
    "id": "_MsXi4JROgnv"
   },
   "source": [
    "### Correlation among all variables and give your insights"
   ]
  },
  {
   "cell_type": "code",
   "execution_count": 231,
   "metadata": {
    "colab": {},
    "colab_type": "code",
    "id": "ENUi26odOgnx"
   },
   "outputs": [
    {
     "data": {
      "text/plain": [
       "<matplotlib.axes._subplots.AxesSubplot at 0x1a352ad710>"
      ]
     },
     "execution_count": 231,
     "metadata": {},
     "output_type": "execute_result"
    },
    {
     "data": {
      "image/png": "[encoded data removed]",
      "text/plain": [
       "<Figure size 1440x720 with 2 Axes>"
      ]
     },
     "metadata": {
      "needs_background": "light"
     },
     "output_type": "display_data"
    }
   ],
   "source": [
    "plt.figure(figsize=(20,10))\n",
    "sns.heatmap(X.corr(),annot=True)"
   ]
  },
  {
   "cell_type": "code",
   "execution_count": 232,
   "metadata": {},
   "outputs": [],
   "source": [
    "#There is strong positive correlation between SepalLengthCm & both PetalLengthCm, PetalWidthCm\n",
    "#Similarly PetalWidthCm & PetalLengthCm also has a very strong Positive Correlation"
   ]
  },
  {
   "cell_type": "markdown",
   "metadata": {
    "colab_type": "text",
    "id": "ciKj4Zf6Ogn8"
   },
   "source": [
    "### Split data in Training and Validation in 80:20"
   ]
  },
  {
   "cell_type": "code",
   "execution_count": 233,
   "metadata": {
    "colab": {},
    "colab_type": "code",
    "id": "UAeLAItYOgn9"
   },
   "outputs": [],
   "source": [
    "X_train,X_test,y_train,y_test=train_test_split(X,y,test_size=0.2,random_state=1)"
   ]
  },
  {
   "cell_type": "markdown",
   "metadata": {
    "colab_type": "text",
    "id": "1-a4C3w9OgoA"
   },
   "source": [
    "### Do Feature Scaling"
   ]
  },
  {
   "cell_type": "code",
   "execution_count": 234,
   "metadata": {
    "colab": {},
    "colab_type": "code",
    "id": "6-9z1toUOgoC"
   },
   "outputs": [],
   "source": [
    "X_train_scaled = preprocessing.scale(X_train)\n",
    "X_test_scaled = preprocessing.scale(X_test)\n",
    "#scaler = preprocessing.StandardScaler()\n",
    "#X_train_scaled=scaler.fit_transform(X_train)\n",
    "#X_test_scaled=scaler.fit_transform(X_test)"
   ]
  },
  {
   "cell_type": "markdown",
   "metadata": {
    "colab_type": "text",
    "id": "miK8grUROgoI"
   },
   "source": [
    "### Train and Fit NaiveBayes Model"
   ]
  },
  {
   "cell_type": "code",
   "execution_count": 235,
   "metadata": {
    "colab": {},
    "colab_type": "code",
    "id": "29HTCg2POgoL"
   },
   "outputs": [
    {
     "data": {
      "text/plain": [
       "GaussianNB(priors=None, var_smoothing=1e-09)"
      ]
     },
     "execution_count": 235,
     "metadata": {},
     "output_type": "execute_result"
    }
   ],
   "source": [
    "gnb = GaussianNB()\n",
    "gnb.fit(X_train_scaled,y_train)"
   ]
  },
  {
   "cell_type": "code",
   "execution_count": 240,
   "metadata": {
    "colab": {},
    "colab_type": "code",
    "id": "96wnWGX8OgoR"
   },
   "outputs": [],
   "source": [
    "y_pred_train = gnb.predict(X_train_scaled)"
   ]
  },
  {
   "cell_type": "code",
   "execution_count": 241,
   "metadata": {
    "colab": {},
    "colab_type": "code",
    "id": "aLOFqj44OgoT"
   },
   "outputs": [],
   "source": [
    "y_pred_test = gnb.predict(X_test_scaled)"
   ]
  },
  {
   "cell_type": "markdown",
   "metadata": {
    "colab_type": "text",
    "id": "zkbFn_g-OgoY"
   },
   "source": [
    "### Print Accuracy and Confusion Matrix and Conclude your findings"
   ]
  },
  {
   "cell_type": "code",
   "execution_count": 242,
   "metadata": {
    "colab": {},
    "colab_type": "code",
    "id": "y2kBUikzOgoZ"
   },
   "outputs": [
    {
     "name": "stdout",
     "output_type": "stream",
     "text": [
      "Accuracy of Gaussian NB Classifier is:  0.9\n"
     ]
    }
   ],
   "source": [
    "print ('Accuracy of Gaussian NB Classifier is: ',metrics.accuracy_score(y_test,y_pred_test))"
   ]
  },
  {
   "cell_type": "code",
   "execution_count": 243,
   "metadata": {
    "colab": {},
    "colab_type": "code",
    "id": "mQZ7Xz8SOgoe"
   },
   "outputs": [
    {
     "name": "stdout",
     "output_type": "stream",
     "text": [
      "                 precision    recall  f1-score   support\n",
      "\n",
      "    Iris-setosa       1.00      1.00      1.00        11\n",
      "Iris-versicolor       1.00      0.77      0.87        13\n",
      " Iris-virginica       0.67      1.00      0.80         6\n",
      "\n",
      "       accuracy                           0.90        30\n",
      "      macro avg       0.89      0.92      0.89        30\n",
      "   weighted avg       0.93      0.90      0.90        30\n",
      "\n"
     ]
    }
   ],
   "source": [
    "print(metrics.classification_report(y_test,y_pred_test))"
   ]
  },
  {
   "cell_type": "markdown",
   "metadata": {
    "colab": {},
    "colab_type": "code",
    "id": "fy7LN9ZuOgoi"
   },
   "source": [
    "### Insights :\n",
    "        1. The accuracy score of the model is quiet high at 90%, which suggests 9 out of 10 times the model will classify correctly.\n",
    "        2. Precision of a model is an indication of it's ability to label a sample as positive, when it's actually so & vice-versa. In our case, the model is able to predict Iris-setosa or Iris-versicolor, with 100% precision, but when the sample is Iris-virginica, the model's precision falls to 67%.\n",
    "        3. Similarly, Recall is the measure of the model being able to predict correctly, from the total number of correct results. When the samples are Iris-setosa or Iris-virginica, the model identifies them 100% of the times where as when the sample is Iris-versicolor, the model identifies them correctly 77% of the times."
   ]
  },
  {
   "cell_type": "code",
   "execution_count": null,
   "metadata": {},
   "outputs": [],
   "source": []
  }
 ],
 "metadata": {
  "colab": {
   "name": "R3_External_Lab_Logistic_and_Naive_bayes_questions.ipynb",
   "provenance": [],
   "version": "0.3.2"
  },
  "kernelspec": {
   "display_name": "Python 3",
   "language": "python",
   "name": "python3"
  },
  "language_info": {
   "codemirror_mode": {
    "name": "ipython",
    "version": 3
   },
   "file_extension": ".py",
   "mimetype": "text/x-python",
   "name": "python",
   "nbconvert_exporter": "python",
   "pygments_lexer": "ipython3",
   "version": "3.7.4"
  }
 },
 "nbformat": 4,
 "nbformat_minor": 1
}
