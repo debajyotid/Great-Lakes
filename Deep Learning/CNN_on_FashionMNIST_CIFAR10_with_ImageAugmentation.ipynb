{
  "nbformat": 4,
  "nbformat_minor": 0,
  "metadata": {
    "accelerator": "GPU",
    "colab": {
      "name": "Questions - Lab on Computer Vision with CNN.ipynb",
      "provenance": [],
      "collapsed_sections": []
    },
    "kernelspec": {
      "display_name": "Python 3",
      "language": "python",
      "name": "python3"
    },
    "language_info": {
      "codemirror_mode": {
        "name": "ipython",
        "version": 3
      },
      "file_extension": ".py",
      "mimetype": "text/x-python",
      "name": "python",
      "nbconvert_exporter": "python",
      "pygments_lexer": "ipython3",
      "version": "3.7.7"
    }
  },
  "cells": [
    {
      "cell_type": "markdown",
      "metadata": {
        "colab_type": "text",
        "id": "MyfMmMnPJjvn"
      },
      "source": [
        "## Train a simple convnet on the Fashion MNIST dataset"
      ]
    },
    {
      "cell_type": "markdown",
      "metadata": {
        "colab_type": "text",
        "id": "zjcGOJhcJjvp"
      },
      "source": [
        "In this, we will see how to deal with image data and train a convnet for image classification task."
      ]
    },
    {
      "cell_type": "code",
      "metadata": {
        "id": "Wu_h7vDFw5BS",
        "colab_type": "code",
        "colab": {
          "base_uri": "https://localhost:8080/",
          "height": 34
        },
        "outputId": "5ad9cb72-1b82-4318-9097-90fc34429eff"
      },
      "source": [
        "import tensorflow as tf\n",
        "print (tf.__version__)"
      ],
      "execution_count": 1,
      "outputs": [
        {
          "output_type": "stream",
          "text": [
            "2.3.0\n"
          ],
          "name": "stdout"
        }
      ]
    },
    {
      "cell_type": "code",
      "metadata": {
        "id": "V2m4XaUgw5Bf",
        "colab_type": "code",
        "colab": {}
      },
      "source": [
        "import matplotlib.pyplot as plt\n",
        "import pandas as pd\n",
        "import numpy as np"
      ],
      "execution_count": 2,
      "outputs": []
    },
    {
      "cell_type": "markdown",
      "metadata": {
        "colab_type": "text",
        "id": "jR0Pl2XjJjvq"
      },
      "source": [
        "### Load the  `fashion_mnist`  dataset\n",
        "\n",
        "** Use keras.datasets to load the dataset **"
      ]
    },
    {
      "cell_type": "code",
      "metadata": {
        "colab_type": "code",
        "id": "Qr75v_UYJjvs",
        "colab": {
          "base_uri": "https://localhost:8080/",
          "height": 153
        },
        "outputId": "2c8cb282-ef7b-47d9-cf5f-40a1dedee07b"
      },
      "source": [
        "from tensorflow.keras.datasets import fashion_mnist\n",
        "(x_train, y_train), (x_test, y_test) = fashion_mnist.load_data()"
      ],
      "execution_count": 3,
      "outputs": [
        {
          "output_type": "stream",
          "text": [
            "Downloading data from https://storage.googleapis.com/tensorflow/tf-keras-datasets/train-labels-idx1-ubyte.gz\n",
            "32768/29515 [=================================] - 0s 0us/step\n",
            "Downloading data from https://storage.googleapis.com/tensorflow/tf-keras-datasets/train-images-idx3-ubyte.gz\n",
            "26427392/26421880 [==============================] - 0s 0us/step\n",
            "Downloading data from https://storage.googleapis.com/tensorflow/tf-keras-datasets/t10k-labels-idx1-ubyte.gz\n",
            "8192/5148 [===============================================] - 0s 0us/step\n",
            "Downloading data from https://storage.googleapis.com/tensorflow/tf-keras-datasets/t10k-images-idx3-ubyte.gz\n",
            "4423680/4422102 [==============================] - 0s 0us/step\n"
          ],
          "name": "stdout"
        }
      ]
    },
    {
      "cell_type": "markdown",
      "metadata": {
        "colab_type": "text",
        "id": "hTI42-0qJjvw"
      },
      "source": [
        "### Find no.of samples are there in training and test datasets"
      ]
    },
    {
      "cell_type": "code",
      "metadata": {
        "colab_type": "code",
        "id": "g2sf67VoJjvx",
        "colab": {
          "base_uri": "https://localhost:8080/",
          "height": 51
        },
        "outputId": "d5205045-b30f-43ae-92af-b9507fba6ef5"
      },
      "source": [
        "print ('Training Features: ',x_train.shape)\n",
        "print ('Training Labels: ',y_train.shape)"
      ],
      "execution_count": 4,
      "outputs": [
        {
          "output_type": "stream",
          "text": [
            "Training Features:  (60000, 28, 28)\n",
            "Training Labels:  (60000,)\n"
          ],
          "name": "stdout"
        }
      ]
    },
    {
      "cell_type": "code",
      "metadata": {
        "id": "IC0L2NeSw5CA",
        "colab_type": "code",
        "colab": {
          "base_uri": "https://localhost:8080/",
          "height": 51
        },
        "outputId": "3c682bb6-2de5-4212-96b0-8f2cea45794a"
      },
      "source": [
        "print ('Testing Features: ',x_test.shape)\n",
        "print ('Testing Labels: ',y_test.shape)"
      ],
      "execution_count": 5,
      "outputs": [
        {
          "output_type": "stream",
          "text": [
            "Testing Features:  (10000, 28, 28)\n",
            "Testing Labels:  (10000,)\n"
          ],
          "name": "stdout"
        }
      ]
    },
    {
      "cell_type": "markdown",
      "metadata": {
        "colab_type": "text",
        "id": "WytT2eRnJjv4"
      },
      "source": [
        "### Find dimensions of an image in the dataset"
      ]
    },
    {
      "cell_type": "code",
      "metadata": {
        "colab_type": "code",
        "id": "XycQGBSGJjv5",
        "colab": {
          "base_uri": "https://localhost:8080/",
          "height": 282
        },
        "outputId": "808c147a-5730-460d-c7ed-0e3f53b9d6a4"
      },
      "source": [
        "plt.imshow(x_train[1,:,:],cmap='gray')\n",
        "print(x_train.shape[1:3])"
      ],
      "execution_count": 6,
      "outputs": [
        {
          "output_type": "stream",
          "text": [
            "(28, 28)\n"
          ],
          "name": "stdout"
        },
        {
          "output_type": "display_data",
          "data": {
            "image/png": "[encoded data removed]",
            "text/plain": [
              "<Figure size 432x288 with 1 Axes>"
            ]
          },
          "metadata": {
            "tags": [],
            "needs_background": "light"
          }
        }
      ]
    },
    {
      "cell_type": "markdown",
      "metadata": {
        "colab_type": "text",
        "id": "5jtdZ7RqJjv8"
      },
      "source": [
        "### Convert train and test labels to one hot vectors\n",
        "\n",
        "** check `keras.utils.to_categorical()` **"
      ]
    },
    {
      "cell_type": "code",
      "metadata": {
        "id": "JzXV4PJMyWSt",
        "colab_type": "code",
        "colab": {
          "base_uri": "https://localhost:8080/",
          "height": 34
        },
        "outputId": "09bdc2e7-fe5e-429f-f026-cc5e881d397d"
      },
      "source": [
        "y_train.max()"
      ],
      "execution_count": 7,
      "outputs": [
        {
          "output_type": "execute_result",
          "data": {
            "text/plain": [
              "9"
            ]
          },
          "metadata": {
            "tags": []
          },
          "execution_count": 7
        }
      ]
    },
    {
      "cell_type": "code",
      "metadata": {
        "id": "62fsi8Ch1JO8",
        "colab_type": "code",
        "colab": {
          "base_uri": "https://localhost:8080/",
          "height": 204
        },
        "outputId": "5dd0871f-d905-4e95-a85d-59190c09c516"
      },
      "source": [
        "print (pd.value_counts(y_train))"
      ],
      "execution_count": 8,
      "outputs": [
        {
          "output_type": "stream",
          "text": [
            "9    6000\n",
            "8    6000\n",
            "7    6000\n",
            "6    6000\n",
            "5    6000\n",
            "4    6000\n",
            "3    6000\n",
            "2    6000\n",
            "1    6000\n",
            "0    6000\n",
            "dtype: int64\n"
          ],
          "name": "stdout"
        }
      ]
    },
    {
      "cell_type": "code",
      "metadata": {
        "colab_type": "code",
        "id": "sAD3q5I6Jjv9",
        "colab": {}
      },
      "source": [
        "ytrain = tf.keras.utils.to_categorical(y_train,num_classes=10)"
      ],
      "execution_count": 9,
      "outputs": []
    },
    {
      "cell_type": "code",
      "metadata": {
        "colab_type": "code",
        "id": "mgHSCXy3JjwA",
        "colab": {}
      },
      "source": [
        "ytest = tf.keras.utils.to_categorical(y_test,num_classes=10)"
      ],
      "execution_count": 10,
      "outputs": []
    },
    {
      "cell_type": "markdown",
      "metadata": {
        "colab_type": "text",
        "id": "xO5BRBzBJjwD"
      },
      "source": [
        "### Normalize both the train and test image data from 0-255 to 0-1"
      ]
    },
    {
      "cell_type": "code",
      "metadata": {
        "colab_type": "code",
        "id": "3fUQpMHxJjwE",
        "colab": {}
      },
      "source": [
        "x_train = x_train.astype('float32')\n",
        "x_train/=255.0"
      ],
      "execution_count": 11,
      "outputs": []
    },
    {
      "cell_type": "code",
      "metadata": {
        "id": "eE1R_4O8w5Cr",
        "colab_type": "code",
        "colab": {}
      },
      "source": [
        "x_test = x_test.astype('float32')\n",
        "x_test/=255.0"
      ],
      "execution_count": 12,
      "outputs": []
    },
    {
      "cell_type": "markdown",
      "metadata": {
        "colab_type": "text",
        "id": "da5-DwgrJjwM"
      },
      "source": [
        "### Reshape the data from 28x28 to 28x28x1 to match input dimensions in Conv2D layer in keras"
      ]
    },
    {
      "cell_type": "code",
      "metadata": {
        "colab_type": "code",
        "id": "LPGVQ-JJJjwN",
        "colab": {}
      },
      "source": [
        "x_train = x_train.reshape(x_train.shape[0],x_train.shape[1],x_train.shape[2],1)\n",
        "x_test = x_test.reshape(x_test.shape[0],x_test.shape[1],x_test.shape[2],1)"
      ],
      "execution_count": 13,
      "outputs": []
    },
    {
      "cell_type": "markdown",
      "metadata": {
        "colab_type": "text",
        "id": "OFRRTJq8JjwQ"
      },
      "source": [
        "### Import the necessary layers from keras to build the model"
      ]
    },
    {
      "cell_type": "code",
      "metadata": {
        "id": "27jhMTFWw5C2",
        "colab_type": "code",
        "colab": {}
      },
      "source": [
        "from tensorflow.keras.layers import Dense, Dropout, Activation, Flatten\n",
        "from tensorflow.keras.layers import Conv2D, MaxPool2D\n",
        "from tensorflow.keras.layers import BatchNormalization\n",
        "from tensorflow.keras.callbacks import EarlyStopping"
      ],
      "execution_count": 14,
      "outputs": []
    },
    {
      "cell_type": "markdown",
      "metadata": {
        "colab_type": "text",
        "id": "C18AoS7eJjwU"
      },
      "source": [
        "### Build a model \n",
        "\n",
        "** with 2 Conv layers having `32 3x3 filters` in both convolutions with `relu activations` and `flatten` before passing the feature map into 2 fully connected layers (or Dense Layers) having 128 and 10 neurons with `relu` and `softmax` activations respectively. Now, using `categorical_crossentropy` loss with `adam` optimizer train the model with early stopping `patience=5` and no.of `epochs=10`. **"
      ]
    },
    {
      "cell_type": "code",
      "metadata": {
        "colab_type": "code",
        "id": "DORCLgSwJjwV",
        "colab": {}
      },
      "source": [
        "initializer = tf.keras.initializers.he_uniform()"
      ],
      "execution_count": 15,
      "outputs": []
    },
    {
      "cell_type": "code",
      "metadata": {
        "id": "YGIJX9ys7YQD",
        "colab_type": "code",
        "colab": {}
      },
      "source": [
        "es = EarlyStopping(monitor='val_accuracy', mode='max', min_delta=0.001, patience=5, verbose=1)"
      ],
      "execution_count": 16,
      "outputs": []
    },
    {
      "cell_type": "code",
      "metadata": {
        "id": "1_OZymWiw5DD",
        "colab_type": "code",
        "colab": {
          "base_uri": "https://localhost:8080/",
          "height": 323
        },
        "outputId": "fdbc8a63-3827-46b9-83bc-8c7e7d156beb"
      },
      "source": [
        "model = tf.keras.Sequential()\n",
        "model.add(tf.keras.layers.Conv2D(filters=32,kernel_size=3,strides=1,padding='same',activation='relu',input_shape=(28,28,1)))\n",
        "model.add(tf.keras.layers.Conv2D(filters=32,kernel_size=3,strides=1,padding='same',activation='relu'))\n",
        "model.add(tf.keras.layers.Flatten())\n",
        "model.add(tf.keras.layers.Dense(128,activation='relu',kernel_initializer=initializer))\n",
        "model.add(tf.keras.layers.Dense(10,activation='softmax'))\n",
        "model.summary()"
      ],
      "execution_count": 17,
      "outputs": [
        {
          "output_type": "stream",
          "text": [
            "Model: \"sequential\"\n",
            "_________________________________________________________________\n",
            "Layer (type)                 Output Shape              Param #   \n",
            "=================================================================\n",
            "conv2d (Conv2D)              (None, 28, 28, 32)        320       \n",
            "_________________________________________________________________\n",
            "conv2d_1 (Conv2D)            (None, 28, 28, 32)        9248      \n",
            "_________________________________________________________________\n",
            "flatten (Flatten)            (None, 25088)             0         \n",
            "_________________________________________________________________\n",
            "dense (Dense)                (None, 128)               3211392   \n",
            "_________________________________________________________________\n",
            "dense_1 (Dense)              (None, 10)                1290      \n",
            "=================================================================\n",
            "Total params: 3,222,250\n",
            "Trainable params: 3,222,250\n",
            "Non-trainable params: 0\n",
            "_________________________________________________________________\n"
          ],
          "name": "stdout"
        }
      ]
    },
    {
      "cell_type": "code",
      "metadata": {
        "id": "Wm_2NKEww5DG",
        "colab_type": "code",
        "colab": {}
      },
      "source": [
        "model.compile(optimizer='adam',loss='categorical_crossentropy',metrics=['accuracy'])"
      ],
      "execution_count": 18,
      "outputs": []
    },
    {
      "cell_type": "code",
      "metadata": {
        "id": "bihLh2r0w5DK",
        "colab_type": "code",
        "colab": {
          "base_uri": "https://localhost:8080/",
          "height": 394
        },
        "outputId": "aa4427c6-c0f0-47c2-b6ca-68f221b044f2"
      },
      "source": [
        "history=model.fit(x_train,ytrain,batch_size=3000,epochs=10,validation_data=(x_test,ytest),callbacks=[es])"
      ],
      "execution_count": 19,
      "outputs": [
        {
          "output_type": "stream",
          "text": [
            "Epoch 1/10\n",
            " 2/20 [==>...........................] - ETA: 0s - loss: 2.1466 - accuracy: 0.2375WARNING:tensorflow:Callbacks method `on_train_batch_end` is slow compared to the batch time (batch time: 0.0092s vs `on_train_batch_end` time: 0.0427s). Check your callbacks.\n",
            "20/20 [==============================] - 1s 66ms/step - loss: 0.9522 - accuracy: 0.6735 - val_loss: 0.5753 - val_accuracy: 0.7997\n",
            "Epoch 2/10\n",
            "20/20 [==============================] - 1s 55ms/step - loss: 0.4986 - accuracy: 0.8255 - val_loss: 0.4671 - val_accuracy: 0.8312\n",
            "Epoch 3/10\n",
            "20/20 [==============================] - 1s 54ms/step - loss: 0.4029 - accuracy: 0.8586 - val_loss: 0.4013 - val_accuracy: 0.8603\n",
            "Epoch 4/10\n",
            "20/20 [==============================] - 1s 54ms/step - loss: 0.3525 - accuracy: 0.8755 - val_loss: 0.3618 - val_accuracy: 0.8693\n",
            "Epoch 5/10\n",
            "20/20 [==============================] - 1s 54ms/step - loss: 0.3178 - accuracy: 0.8875 - val_loss: 0.3456 - val_accuracy: 0.8764\n",
            "Epoch 6/10\n",
            "20/20 [==============================] - 1s 54ms/step - loss: 0.2913 - accuracy: 0.8959 - val_loss: 0.3248 - val_accuracy: 0.8841\n",
            "Epoch 7/10\n",
            "20/20 [==============================] - 1s 54ms/step - loss: 0.2756 - accuracy: 0.9021 - val_loss: 0.3105 - val_accuracy: 0.8894\n",
            "Epoch 8/10\n",
            "20/20 [==============================] - 1s 54ms/step - loss: 0.2565 - accuracy: 0.9090 - val_loss: 0.3023 - val_accuracy: 0.8925\n",
            "Epoch 9/10\n",
            "20/20 [==============================] - 1s 55ms/step - loss: 0.2416 - accuracy: 0.9137 - val_loss: 0.2955 - val_accuracy: 0.8943\n",
            "Epoch 10/10\n",
            "20/20 [==============================] - 1s 54ms/step - loss: 0.2299 - accuracy: 0.9174 - val_loss: 0.2883 - val_accuracy: 0.8930\n"
          ],
          "name": "stdout"
        }
      ]
    },
    {
      "cell_type": "code",
      "metadata": {
        "id": "LrBK3Brrw5DX",
        "colab_type": "code",
        "colab": {
          "base_uri": "https://localhost:8080/",
          "height": 34
        },
        "outputId": "8f821b24-6d41-46cc-f4dd-e44e4b3edd1d"
      },
      "source": [
        "# Evaluate the model on test set\n",
        "loss, accuracy = model.evaluate(x_test, ytest, verbose=0)\n",
        "# Print test accuracy\n",
        "print('Test accuracy:', accuracy)"
      ],
      "execution_count": 20,
      "outputs": [
        {
          "output_type": "stream",
          "text": [
            "Test accuracy: 0.8930000066757202\n"
          ],
          "name": "stdout"
        }
      ]
    },
    {
      "cell_type": "markdown",
      "metadata": {
        "colab_type": "text",
        "id": "ju69vKdIJjwX"
      },
      "source": [
        "### Now, to the above model add `max` pooling layer of `filter size 2x2` and `dropout` layer with `p=0.25` after the 2 conv layers and run the model"
      ]
    },
    {
      "cell_type": "code",
      "metadata": {
        "colab_type": "code",
        "id": "L2hAP94vJjwY",
        "colab": {
          "base_uri": "https://localhost:8080/",
          "height": 391
        },
        "outputId": "d0ccc955-67d1-4b35-994e-be02c8c43b80"
      },
      "source": [
        "model = tf.keras.Sequential()\n",
        "model.add(tf.keras.layers.Conv2D(filters=32,kernel_size=3,strides=1,padding='same',activation='relu',input_shape=(28,28,1)))\n",
        "model.add(tf.keras.layers.Conv2D(filters=32,kernel_size=3,strides=1,padding='same',activation='relu'))\n",
        "model.add(tf.keras.layers.MaxPool2D(pool_size=(2,2),strides=1,padding='valid'))\n",
        "model.add(tf.keras.layers.Dropout(0.25,seed=42))\n",
        "model.add(tf.keras.layers.Flatten())\n",
        "model.add(tf.keras.layers.Dense(128,activation='relu',kernel_initializer=initializer))\n",
        "model.add(tf.keras.layers.Dense(10,activation='softmax'))\n",
        "model.summary()"
      ],
      "execution_count": 21,
      "outputs": [
        {
          "output_type": "stream",
          "text": [
            "Model: \"sequential_1\"\n",
            "_________________________________________________________________\n",
            "Layer (type)                 Output Shape              Param #   \n",
            "=================================================================\n",
            "conv2d_2 (Conv2D)            (None, 28, 28, 32)        320       \n",
            "_________________________________________________________________\n",
            "conv2d_3 (Conv2D)            (None, 28, 28, 32)        9248      \n",
            "_________________________________________________________________\n",
            "max_pooling2d (MaxPooling2D) (None, 27, 27, 32)        0         \n",
            "_________________________________________________________________\n",
            "dropout (Dropout)            (None, 27, 27, 32)        0         \n",
            "_________________________________________________________________\n",
            "flatten_1 (Flatten)          (None, 23328)             0         \n",
            "_________________________________________________________________\n",
            "dense_2 (Dense)              (None, 128)               2986112   \n",
            "_________________________________________________________________\n",
            "dense_3 (Dense)              (None, 10)                1290      \n",
            "=================================================================\n",
            "Total params: 2,996,970\n",
            "Trainable params: 2,996,970\n",
            "Non-trainable params: 0\n",
            "_________________________________________________________________\n"
          ],
          "name": "stdout"
        }
      ]
    },
    {
      "cell_type": "code",
      "metadata": {
        "id": "mSLYhVh2zAnp",
        "colab_type": "code",
        "colab": {}
      },
      "source": [
        "model.compile(optimizer='adam',loss='categorical_crossentropy',metrics=['accuracy'])"
      ],
      "execution_count": 22,
      "outputs": []
    },
    {
      "cell_type": "code",
      "metadata": {
        "id": "60CKh9z4zFBi",
        "colab_type": "code",
        "colab": {
          "base_uri": "https://localhost:8080/",
          "height": 394
        },
        "outputId": "4faecb8b-5322-4aa2-d5e1-e7f4235d3802"
      },
      "source": [
        "history=model.fit(x_train,ytrain,batch_size=3000,epochs=10,validation_data=(x_test,ytest),callbacks=[es])"
      ],
      "execution_count": 23,
      "outputs": [
        {
          "output_type": "stream",
          "text": [
            "Epoch 1/10\n",
            " 2/20 [==>...........................] - ETA: 0s - loss: 2.1012 - accuracy: 0.1998WARNING:tensorflow:Callbacks method `on_train_batch_end` is slow compared to the batch time (batch time: 0.0104s vs `on_train_batch_end` time: 0.0542s). Check your callbacks.\n",
            "20/20 [==============================] - 2s 75ms/step - loss: 0.8901 - accuracy: 0.6925 - val_loss: 0.5391 - val_accuracy: 0.8095\n",
            "Epoch 2/10\n",
            "20/20 [==============================] - 1s 67ms/step - loss: 0.4511 - accuracy: 0.8413 - val_loss: 0.4271 - val_accuracy: 0.8451\n",
            "Epoch 3/10\n",
            "20/20 [==============================] - 1s 67ms/step - loss: 0.3716 - accuracy: 0.8695 - val_loss: 0.3687 - val_accuracy: 0.8715\n",
            "Epoch 4/10\n",
            "20/20 [==============================] - 1s 67ms/step - loss: 0.3283 - accuracy: 0.8853 - val_loss: 0.3402 - val_accuracy: 0.8788\n",
            "Epoch 5/10\n",
            "20/20 [==============================] - 1s 67ms/step - loss: 0.3022 - accuracy: 0.8934 - val_loss: 0.3332 - val_accuracy: 0.8835\n",
            "Epoch 6/10\n",
            "20/20 [==============================] - 1s 66ms/step - loss: 0.2831 - accuracy: 0.8990 - val_loss: 0.3080 - val_accuracy: 0.8906\n",
            "Epoch 7/10\n",
            "20/20 [==============================] - 1s 66ms/step - loss: 0.2646 - accuracy: 0.9069 - val_loss: 0.2966 - val_accuracy: 0.8910\n",
            "Epoch 8/10\n",
            "20/20 [==============================] - 1s 67ms/step - loss: 0.2485 - accuracy: 0.9117 - val_loss: 0.2812 - val_accuracy: 0.8956\n",
            "Epoch 9/10\n",
            "20/20 [==============================] - 1s 67ms/step - loss: 0.2381 - accuracy: 0.9155 - val_loss: 0.2708 - val_accuracy: 0.9010\n",
            "Epoch 10/10\n",
            "20/20 [==============================] - 1s 66ms/step - loss: 0.2251 - accuracy: 0.9189 - val_loss: 0.2640 - val_accuracy: 0.9054\n"
          ],
          "name": "stdout"
        }
      ]
    },
    {
      "cell_type": "code",
      "metadata": {
        "id": "xFqHgugOzIaE",
        "colab_type": "code",
        "colab": {
          "base_uri": "https://localhost:8080/",
          "height": 34
        },
        "outputId": "f569fe55-4c7e-4687-b4cd-5b54f46c7a45"
      },
      "source": [
        "# Evaluate the model on test set\n",
        "loss, accuracy = model.evaluate(x_test, ytest, verbose=0)\n",
        "# Print test accuracy\n",
        "print('Test accuracy:', accuracy)"
      ],
      "execution_count": 24,
      "outputs": [
        {
          "output_type": "stream",
          "text": [
            "Test accuracy: 0.9053999781608582\n"
          ],
          "name": "stdout"
        }
      ]
    },
    {
      "cell_type": "markdown",
      "metadata": {
        "colab_type": "text",
        "id": "lGTA3bfEJjwa"
      },
      "source": [
        "### Now, to the above model, lets add Data Augmentation "
      ]
    },
    {
      "cell_type": "markdown",
      "metadata": {
        "colab_type": "text",
        "id": "F6gX8n5SJjwb"
      },
      "source": [
        "### Import the ImageDataGenrator from keras and fit the training images"
      ]
    },
    {
      "cell_type": "code",
      "metadata": {
        "colab_type": "code",
        "id": "Cbz4uHBuJjwc",
        "colab": {}
      },
      "source": [
        "from tensorflow.keras.preprocessing.image import ImageDataGenerator"
      ],
      "execution_count": 25,
      "outputs": []
    },
    {
      "cell_type": "code",
      "metadata": {
        "id": "l3_pckyV1gBg",
        "colab_type": "code",
        "colab": {}
      },
      "source": [
        "datagen = ImageDataGenerator(horizontal_flip=True,\n",
        "                             width_shift_range=0.2,\n",
        "                             height_shift_range=0.2,\n",
        "                             rotation_range=30,\n",
        "                             shear_range=0.2,\n",
        "                             zoom_range=0.3)\n",
        "datagen.fit(x_train)"
      ],
      "execution_count": 26,
      "outputs": []
    },
    {
      "cell_type": "code",
      "metadata": {
        "id": "lFzi-vjKNp5S",
        "colab_type": "code",
        "colab": {}
      },
      "source": [
        "train_gen = datagen.flow(x_train,ytrain,batch_size=3000)"
      ],
      "execution_count": 27,
      "outputs": []
    },
    {
      "cell_type": "markdown",
      "metadata": {
        "colab_type": "text",
        "id": "pl-8dOo7Jjwf"
      },
      "source": [
        "#### Showing 5 versions of the first image in training dataset using image datagenerator.flow()"
      ]
    },
    {
      "cell_type": "code",
      "metadata": {
        "colab_type": "code",
        "id": "DpI1_McYJjwg",
        "scrolled": true,
        "colab": {
          "base_uri": "https://localhost:8080/",
          "height": 89
        },
        "outputId": "025bf774-a872-4ae9-ec57-8797d7f8e016"
      },
      "source": [
        "from matplotlib import pyplot as plt\n",
        "gen = datagen.flow(x_train[0:1], batch_size=1)\n",
        "for i in range(1, 6):\n",
        "    plt.subplot(1,5,i)\n",
        "    plt.axis(\"off\")\n",
        "    plt.imshow(gen.next().squeeze(), cmap='gray')\n",
        "    plt.plot()\n",
        "plt.show()"
      ],
      "execution_count": 28,
      "outputs": [
        {
          "output_type": "display_data",
          "data": {
            "image/png": "[encoded data removed]",
            "text/plain": [
              "<Figure size 432x288 with 5 Axes>"
            ]
          },
          "metadata": {
            "tags": [],
            "needs_background": "light"
          }
        }
      ]
    },
    {
      "cell_type": "markdown",
      "metadata": {
        "colab_type": "text",
        "id": "dmPl5yE8Jjwm"
      },
      "source": [
        "### Run the above model using fit_generator()"
      ]
    },
    {
      "cell_type": "code",
      "metadata": {
        "colab_type": "code",
        "id": "44ZnDdJYJjwn",
        "colab": {
          "base_uri": "https://localhost:8080/",
          "height": 391
        },
        "outputId": "6e128f6b-abf7-454b-b83c-411a77dab71b"
      },
      "source": [
        "model = tf.keras.Sequential()\n",
        "model.add(tf.keras.layers.Conv2D(filters=32,kernel_size=3,strides=1,padding='same',activation='relu',input_shape=(28,28,1)))\n",
        "model.add(tf.keras.layers.Conv2D(filters=32,kernel_size=3,strides=1,padding='same',activation='relu'))\n",
        "model.add(tf.keras.layers.MaxPool2D(pool_size=(2,2),strides=1,padding='valid'))\n",
        "model.add(tf.keras.layers.Dropout(0.25,seed=42))\n",
        "model.add(tf.keras.layers.Flatten())\n",
        "model.add(tf.keras.layers.Dense(128,activation='relu',kernel_initializer=initializer))\n",
        "model.add(tf.keras.layers.Dense(10,activation='softmax'))\n",
        "model.summary()"
      ],
      "execution_count": 29,
      "outputs": [
        {
          "output_type": "stream",
          "text": [
            "Model: \"sequential_2\"\n",
            "_________________________________________________________________\n",
            "Layer (type)                 Output Shape              Param #   \n",
            "=================================================================\n",
            "conv2d_4 (Conv2D)            (None, 28, 28, 32)        320       \n",
            "_________________________________________________________________\n",
            "conv2d_5 (Conv2D)            (None, 28, 28, 32)        9248      \n",
            "_________________________________________________________________\n",
            "max_pooling2d_1 (MaxPooling2 (None, 27, 27, 32)        0         \n",
            "_________________________________________________________________\n",
            "dropout_1 (Dropout)          (None, 27, 27, 32)        0         \n",
            "_________________________________________________________________\n",
            "flatten_2 (Flatten)          (None, 23328)             0         \n",
            "_________________________________________________________________\n",
            "dense_4 (Dense)              (None, 128)               2986112   \n",
            "_________________________________________________________________\n",
            "dense_5 (Dense)              (None, 10)                1290      \n",
            "=================================================================\n",
            "Total params: 2,996,970\n",
            "Trainable params: 2,996,970\n",
            "Non-trainable params: 0\n",
            "_________________________________________________________________\n"
          ],
          "name": "stdout"
        }
      ]
    },
    {
      "cell_type": "code",
      "metadata": {
        "id": "loFjxQwA1v3w",
        "colab_type": "code",
        "colab": {}
      },
      "source": [
        "model.compile(optimizer='adam',loss='categorical_crossentropy',metrics=['accuracy'])"
      ],
      "execution_count": 30,
      "outputs": []
    },
    {
      "cell_type": "code",
      "metadata": {
        "id": "lQEd3Dny1y4u",
        "colab_type": "code",
        "colab": {
          "base_uri": "https://localhost:8080/",
          "height": 428
        },
        "outputId": "c8c7d9aa-333c-4a37-9be9-e46af45300b3"
      },
      "source": [
        "history = model.fit_generator(train_gen, validation_data = (x_test, ytest), \n",
        "                              steps_per_epoch = len(x_train) // 3000, epochs = 10, callbacks=[es])"
      ],
      "execution_count": 31,
      "outputs": [
        {
          "output_type": "stream",
          "text": [
            "WARNING:tensorflow:From <ipython-input-31-2a2294f1b665>:2: Model.fit_generator (from tensorflow.python.keras.engine.training) is deprecated and will be removed in a future version.\n",
            "Instructions for updating:\n",
            "Please use Model.fit, which supports generators.\n",
            "Epoch 1/10\n",
            "20/20 [==============================] - 19s 951ms/step - loss: 1.6704 - accuracy: 0.4004 - val_loss: 0.9800 - val_accuracy: 0.6400\n",
            "Epoch 2/10\n",
            "20/20 [==============================] - 19s 954ms/step - loss: 1.1698 - accuracy: 0.5806 - val_loss: 0.8046 - val_accuracy: 0.6913\n",
            "Epoch 3/10\n",
            "20/20 [==============================] - 19s 942ms/step - loss: 1.0122 - accuracy: 0.6339 - val_loss: 0.7520 - val_accuracy: 0.7230\n",
            "Epoch 4/10\n",
            "20/20 [==============================] - 19s 948ms/step - loss: 0.9233 - accuracy: 0.6656 - val_loss: 0.7456 - val_accuracy: 0.7283\n",
            "Epoch 5/10\n",
            "20/20 [==============================] - 19s 934ms/step - loss: 0.8628 - accuracy: 0.6849 - val_loss: 0.6964 - val_accuracy: 0.7333\n",
            "Epoch 6/10\n",
            "20/20 [==============================] - 19s 928ms/step - loss: 0.8299 - accuracy: 0.6954 - val_loss: 0.6433 - val_accuracy: 0.7603\n",
            "Epoch 7/10\n",
            "20/20 [==============================] - 19s 930ms/step - loss: 0.7933 - accuracy: 0.7118 - val_loss: 0.7288 - val_accuracy: 0.7275\n",
            "Epoch 8/10\n",
            "20/20 [==============================] - 19s 936ms/step - loss: 0.7593 - accuracy: 0.7206 - val_loss: 0.6608 - val_accuracy: 0.7490\n",
            "Epoch 9/10\n",
            "20/20 [==============================] - 19s 946ms/step - loss: 0.7390 - accuracy: 0.7276 - val_loss: 0.6724 - val_accuracy: 0.7526\n",
            "Epoch 10/10\n",
            "20/20 [==============================] - 19s 953ms/step - loss: 0.7182 - accuracy: 0.7368 - val_loss: 0.6442 - val_accuracy: 0.7676\n"
          ],
          "name": "stdout"
        }
      ]
    },
    {
      "cell_type": "code",
      "metadata": {
        "id": "zF_hlVDo12DF",
        "colab_type": "code",
        "colab": {
          "base_uri": "https://localhost:8080/",
          "height": 34
        },
        "outputId": "ad015979-2e5d-48ec-9f80-a672a9cb2ac1"
      },
      "source": [
        "# Evaluate the model on test set\n",
        "loss, accuracy = model.evaluate(x_test, ytest, verbose=0)\n",
        "# Print test accuracy\n",
        "print('Test accuracy:', accuracy)"
      ],
      "execution_count": 32,
      "outputs": [
        {
          "output_type": "stream",
          "text": [
            "Test accuracy: 0.7675999999046326\n"
          ],
          "name": "stdout"
        }
      ]
    },
    {
      "cell_type": "markdown",
      "metadata": {
        "colab_type": "text",
        "id": "MwQQW5iOJjwq"
      },
      "source": [
        "###  Report the final train and validation accuracy"
      ]
    },
    {
      "cell_type": "code",
      "metadata": {
        "colab_type": "code",
        "id": "c1SrtBEPJjwq",
        "colab": {
          "base_uri": "https://localhost:8080/",
          "height": 34
        },
        "outputId": "c92167b2-062a-457b-d8be-d653237a4e9f"
      },
      "source": [
        "loss, accuracy = model.evaluate(x_train,ytrain, verbose=0)\n",
        "print ('Training Accuracy:', accuracy)"
      ],
      "execution_count": 33,
      "outputs": [
        {
          "output_type": "stream",
          "text": [
            "Training Accuracy: 0.7742166519165039\n"
          ],
          "name": "stdout"
        }
      ]
    },
    {
      "cell_type": "markdown",
      "metadata": {
        "colab_type": "text",
        "id": "8KXqmUDW2rM1"
      },
      "source": [
        "## **DATA AUGMENTATION ON CIFAR10 DATASET**"
      ]
    },
    {
      "cell_type": "markdown",
      "metadata": {
        "colab_type": "text",
        "id": "8mja6OgQ3L18"
      },
      "source": [
        "One of the best ways to improve the performance of a Deep Learning model is to add more data to the training set. Aside from gathering more instances from the wild that are representative of the distinction task, we want to develop a set of methods that enhance the data we already have. There are many ways to augment existing datasets and produce more robust models. In the image domain, these are done to utilize the full power of the convolutional neural network, which is able to capture translational invariance. This translational invariance is what makes image recognition such a difficult task in the first place. You want the dataset to be representative of the many different positions, angles, lightings, and miscellaneous distortions that are of interest to the vision task."
      ]
    },
    {
      "cell_type": "markdown",
      "metadata": {
        "colab_type": "text",
        "id": "6HzVTPUM3WZJ"
      },
      "source": [
        "### **Import neessary libraries for data augmentation**"
      ]
    },
    {
      "cell_type": "code",
      "metadata": {
        "colab_type": "code",
        "id": "PPM558TX4KMb",
        "colab": {}
      },
      "source": [
        "from tensorflow.keras.preprocessing.image import ImageDataGenerator"
      ],
      "execution_count": 34,
      "outputs": []
    },
    {
      "cell_type": "markdown",
      "metadata": {
        "colab_type": "text",
        "id": "W6hicLwP4SqY"
      },
      "source": [
        "### **Load CIFAR10 dataset**"
      ]
    },
    {
      "cell_type": "code",
      "metadata": {
        "colab_type": "code",
        "id": "NQ1WzrXd4WNk",
        "colab": {
          "base_uri": "https://localhost:8080/",
          "height": 51
        },
        "outputId": "dd101c0c-09f8-479d-8a5e-c08bde1c8009"
      },
      "source": [
        "from tensorflow.keras.datasets import cifar10\n",
        "(x_train, y_train), (x_test, y_test) = cifar10.load_data()"
      ],
      "execution_count": 35,
      "outputs": [
        {
          "output_type": "stream",
          "text": [
            "Downloading data from https://www.cs.toronto.edu/~kriz/cifar-10-python.tar.gz\n",
            "170500096/170498071 [==============================] - 4s 0us/step\n"
          ],
          "name": "stdout"
        }
      ]
    },
    {
      "cell_type": "code",
      "metadata": {
        "colab_type": "code",
        "id": "R9Pht1ggHuiT",
        "colab": {
          "base_uri": "https://localhost:8080/",
          "height": 51
        },
        "outputId": "b49f0a90-8922-48e4-d222-090d0de49df9"
      },
      "source": [
        "print ('Training Feature Shape: ',x_train.shape)\n",
        "print ('Testing Feature Shape: ',x_test.shape)"
      ],
      "execution_count": 36,
      "outputs": [
        {
          "output_type": "stream",
          "text": [
            "Training Feature Shape:  (50000, 32, 32, 3)\n",
            "Testing Feature Shape:  (10000, 32, 32, 3)\n"
          ],
          "name": "stdout"
        }
      ]
    },
    {
      "cell_type": "code",
      "metadata": {
        "colab_type": "code",
        "id": "3n28ccU6Hp6s",
        "colab": {
          "base_uri": "https://localhost:8080/",
          "height": 51
        },
        "outputId": "c2f595a8-eace-4316-dac2-0c57e121a418"
      },
      "source": [
        "print ('Training Label Shape: ',y_train.shape)\n",
        "print ('Testing Label Shape: ',y_test.shape)"
      ],
      "execution_count": 37,
      "outputs": [
        {
          "output_type": "stream",
          "text": [
            "Training Label Shape:  (50000, 1)\n",
            "Testing Label Shape:  (10000, 1)\n"
          ],
          "name": "stdout"
        }
      ]
    },
    {
      "cell_type": "code",
      "metadata": {
        "id": "nFzSM44CExuq",
        "colab_type": "code",
        "colab": {
          "base_uri": "https://localhost:8080/",
          "height": 283
        },
        "outputId": "263c82ee-8f06-4c21-a816-96839fa5e431"
      },
      "source": [
        "plt.imshow(x_train[1,:,:,:])\n",
        "print(x_train.shape[1:4])"
      ],
      "execution_count": 38,
      "outputs": [
        {
          "output_type": "stream",
          "text": [
            "(32, 32, 3)\n"
          ],
          "name": "stdout"
        },
        {
          "output_type": "display_data",
          "data": {
            "image/png": "[encoded data removed]",
            "text/plain": [
              "<Figure size 432x288 with 1 Axes>"
            ]
          },
          "metadata": {
            "tags": [],
            "needs_background": "light"
          }
        }
      ]
    },
    {
      "cell_type": "code",
      "metadata": {
        "id": "ykBvMxzQZxTz",
        "colab_type": "code",
        "colab": {}
      },
      "source": [
        "x_train = x_train.reshape(x_train.shape[0],x_train.shape[1],x_train.shape[2],3)\n",
        "x_test = x_test.reshape(x_test.shape[0],x_test.shape[1],x_test.shape[2],3)"
      ],
      "execution_count": 39,
      "outputs": []
    },
    {
      "cell_type": "markdown",
      "metadata": {
        "colab_type": "text",
        "id": "JN3vYYhK4W0u"
      },
      "source": [
        "### **Create a data_gen funtion to genererator with image rotation,shifting image horizontally and vertically with random flip horizontally.**"
      ]
    },
    {
      "cell_type": "code",
      "metadata": {
        "colab_type": "code",
        "id": "JJbekTKi4cmM",
        "colab": {}
      },
      "source": [
        "datagen = ImageDataGenerator(horizontal_flip=True,\n",
        "                             width_shift_range=0.2,\n",
        "                             height_shift_range=0.2,\n",
        "                             rotation_range=30,\n",
        "                             shear_range=0.2,\n",
        "                             data_format='channels_last')"
      ],
      "execution_count": 40,
      "outputs": []
    },
    {
      "cell_type": "markdown",
      "metadata": {
        "colab_type": "text",
        "id": "e-SLtUhC4dK2"
      },
      "source": [
        "### **Prepare/fit the generator.**"
      ]
    },
    {
      "cell_type": "code",
      "metadata": {
        "id": "gyNfq2tUStjx",
        "colab_type": "code",
        "colab": {}
      },
      "source": [
        "datagen.fit(x_train)"
      ],
      "execution_count": 41,
      "outputs": []
    },
    {
      "cell_type": "code",
      "metadata": {
        "id": "XFKdZz78T6bi",
        "colab_type": "code",
        "colab": {}
      },
      "source": [
        "x_train = x_train.astype('float32')\n",
        "x_test = x_train.astype('float32')"
      ],
      "execution_count": 42,
      "outputs": []
    },
    {
      "cell_type": "code",
      "metadata": {
        "id": "2rk7tmEjULwD",
        "colab_type": "code",
        "colab": {}
      },
      "source": [
        "x_train/=255.0\n",
        "x_test/=255.0"
      ],
      "execution_count": 43,
      "outputs": []
    },
    {
      "cell_type": "markdown",
      "metadata": {
        "colab_type": "text",
        "id": "gYyF-P8O4jQ8"
      },
      "source": [
        "### **Generate 5 images for 1 of the image of CIFAR10 train dataset.**"
      ]
    },
    {
      "cell_type": "code",
      "metadata": {
        "colab_type": "code",
        "id": "mXug4z234mwQ",
        "colab": {
          "base_uri": "https://localhost:8080/",
          "height": 89
        },
        "outputId": "5f106567-377d-4ec2-df07-d0b3cf39c5e1"
      },
      "source": [
        "from matplotlib import pyplot as plt\n",
        "gen = datagen.flow(x_train[4:5], batch_size=1)\n",
        "for i in range(1, 6):\n",
        "    plt.subplot(1,5,i)\n",
        "    plt.axis(\"off\")\n",
        "    plt.imshow(gen.next().squeeze())\n",
        "    plt.plot()\n",
        "plt.show()"
      ],
      "execution_count": 44,
      "outputs": [
        {
          "output_type": "display_data",
          "data": {
            "image/png": "[encoded data removed]",
            "text/plain": [
              "<Figure size 432x288 with 5 Axes>"
            ]
          },
          "metadata": {
            "tags": [],
            "needs_background": "light"
          }
        }
      ]
    },
    {
      "cell_type": "markdown",
      "metadata": {
        "id": "Tb5AE2jyoIZI",
        "colab_type": "text"
      },
      "source": [
        "**Creating a ConvNet model for predicting CIFAR10 images**"
      ]
    },
    {
      "cell_type": "code",
      "metadata": {
        "id": "RYLvNGNUR8Ib",
        "colab_type": "code",
        "colab": {}
      },
      "source": [
        "ytrain = tf.keras.utils.to_categorical(y_train,num_classes=10)\n",
        "ytest = tf.keras.utils.to_categorical(y_train,num_classes=10)"
      ],
      "execution_count": 45,
      "outputs": []
    },
    {
      "cell_type": "code",
      "metadata": {
        "id": "sab0EJ3jWo9W",
        "colab_type": "code",
        "colab": {}
      },
      "source": [
        "train_gen = datagen.flow(x_train,ytrain,batch_size=1000)"
      ],
      "execution_count": 46,
      "outputs": []
    },
    {
      "cell_type": "code",
      "metadata": {
        "id": "3QsiEx3rWx3k",
        "colab_type": "code",
        "colab": {
          "base_uri": "https://localhost:8080/",
          "height": 629
        },
        "outputId": "7c3cff61-952a-441f-b062-745e4a22214d"
      },
      "source": [
        "model = tf.keras.Sequential()\n",
        "model.add(tf.keras.layers.Conv2D(filters=32,kernel_size=3,strides=1,padding='same',activation='relu', input_shape=(32,32,3)))\n",
        "model.add(tf.keras.layers.Conv2D(filters=32,kernel_size=3,strides=1,padding='same',activation='relu'))\n",
        "model.add(tf.keras.layers.MaxPool2D(pool_size=(2,2),strides=1,padding='valid'))\n",
        "model.add(tf.keras.layers.Dropout(0.25,seed=42))\n",
        "model.add(tf.keras.layers.Conv2D(filters=64,kernel_size=3,strides=1,padding='same',activation='relu'))\n",
        "model.add(tf.keras.layers.Conv2D(filters=64,kernel_size=3,strides=1,padding='same',activation='relu'))\n",
        "model.add(tf.keras.layers.Conv2D(filters=64,kernel_size=3,strides=1,padding='same',activation='relu'))\n",
        "model.add(tf.keras.layers.MaxPool2D(pool_size=(2,2),strides=1,padding='valid'))\n",
        "model.add(tf.keras.layers.Dropout(0.25,seed=42))\n",
        "model.add(tf.keras.layers.Flatten())\n",
        "model.add(tf.keras.layers.Dense(100,activation='relu',kernel_initializer=initializer))\n",
        "model.add(tf.keras.layers.BatchNormalization())\n",
        "model.add(tf.keras.layers.Dense(250,activation='relu',kernel_initializer=initializer))\n",
        "model.add(tf.keras.layers.Dense(10,activation='softmax'))\n",
        "model.summary()"
      ],
      "execution_count": 47,
      "outputs": [
        {
          "output_type": "stream",
          "text": [
            "Model: \"sequential_3\"\n",
            "_________________________________________________________________\n",
            "Layer (type)                 Output Shape              Param #   \n",
            "=================================================================\n",
            "conv2d_6 (Conv2D)            (None, 32, 32, 32)        896       \n",
            "_________________________________________________________________\n",
            "conv2d_7 (Conv2D)            (None, 32, 32, 32)        9248      \n",
            "_________________________________________________________________\n",
            "max_pooling2d_2 (MaxPooling2 (None, 31, 31, 32)        0         \n",
            "_________________________________________________________________\n",
            "dropout_2 (Dropout)          (None, 31, 31, 32)        0         \n",
            "_________________________________________________________________\n",
            "conv2d_8 (Conv2D)            (None, 31, 31, 64)        18496     \n",
            "_________________________________________________________________\n",
            "conv2d_9 (Conv2D)            (None, 31, 31, 64)        36928     \n",
            "_________________________________________________________________\n",
            "conv2d_10 (Conv2D)           (None, 31, 31, 64)        36928     \n",
            "_________________________________________________________________\n",
            "max_pooling2d_3 (MaxPooling2 (None, 30, 30, 64)        0         \n",
            "_________________________________________________________________\n",
            "dropout_3 (Dropout)          (None, 30, 30, 64)        0         \n",
            "_________________________________________________________________\n",
            "flatten_3 (Flatten)          (None, 57600)             0         \n",
            "_________________________________________________________________\n",
            "dense_6 (Dense)              (None, 100)               5760100   \n",
            "_________________________________________________________________\n",
            "batch_normalization (BatchNo (None, 100)               400       \n",
            "_________________________________________________________________\n",
            "dense_7 (Dense)              (None, 250)               25250     \n",
            "_________________________________________________________________\n",
            "dense_8 (Dense)              (None, 10)                2510      \n",
            "=================================================================\n",
            "Total params: 5,890,756\n",
            "Trainable params: 5,890,556\n",
            "Non-trainable params: 200\n",
            "_________________________________________________________________\n"
          ],
          "name": "stdout"
        }
      ]
    },
    {
      "cell_type": "code",
      "metadata": {
        "id": "GcbPZVojW0p-",
        "colab_type": "code",
        "colab": {}
      },
      "source": [
        "model.compile(optimizer='adam',loss='categorical_crossentropy',metrics=['accuracy'])"
      ],
      "execution_count": 48,
      "outputs": []
    },
    {
      "cell_type": "code",
      "metadata": {
        "id": "hI8sSx2XW3v8",
        "colab_type": "code",
        "colab": {
          "base_uri": "https://localhost:8080/",
          "height": 374
        },
        "outputId": "2db0c762-8ca8-40e9-f89e-fd1eb074deed"
      },
      "source": [
        "model.fit(train_gen, \n",
        "          validation_data = (x_test, ytest), \n",
        "          steps_per_epoch = len(x_train)//1000,\n",
        "          epochs = 10)"
      ],
      "execution_count": 49,
      "outputs": [
        {
          "output_type": "stream",
          "text": [
            "Epoch 1/10\n",
            "50/50 [==============================] - 36s 718ms/step - loss: 1.8330 - accuracy: 0.3339 - val_loss: 1.8964 - val_accuracy: 0.3347\n",
            "Epoch 2/10\n",
            "50/50 [==============================] - 36s 710ms/step - loss: 1.5243 - accuracy: 0.4462 - val_loss: 1.6411 - val_accuracy: 0.4248\n",
            "Epoch 3/10\n",
            "50/50 [==============================] - 36s 713ms/step - loss: 1.3869 - accuracy: 0.4978 - val_loss: 1.4738 - val_accuracy: 0.4488\n",
            "Epoch 4/10\n",
            "50/50 [==============================] - 36s 712ms/step - loss: 1.2982 - accuracy: 0.5321 - val_loss: 1.3090 - val_accuracy: 0.5174\n",
            "Epoch 5/10\n",
            "50/50 [==============================] - 36s 712ms/step - loss: 1.2340 - accuracy: 0.5547 - val_loss: 1.3567 - val_accuracy: 0.5383\n",
            "Epoch 6/10\n",
            "50/50 [==============================] - 36s 713ms/step - loss: 1.1751 - accuracy: 0.5751 - val_loss: 1.2755 - val_accuracy: 0.5632\n",
            "Epoch 7/10\n",
            "50/50 [==============================] - 36s 721ms/step - loss: 1.1283 - accuracy: 0.5973 - val_loss: 1.3387 - val_accuracy: 0.5673\n",
            "Epoch 8/10\n",
            "50/50 [==============================] - 36s 714ms/step - loss: 1.0988 - accuracy: 0.6091 - val_loss: 1.3342 - val_accuracy: 0.5617\n",
            "Epoch 9/10\n",
            "50/50 [==============================] - 36s 710ms/step - loss: 1.0599 - accuracy: 0.6213 - val_loss: 1.1818 - val_accuracy: 0.6104\n",
            "Epoch 10/10\n",
            "50/50 [==============================] - 36s 714ms/step - loss: 1.0401 - accuracy: 0.6277 - val_loss: 1.0182 - val_accuracy: 0.6528\n"
          ],
          "name": "stdout"
        },
        {
          "output_type": "execute_result",
          "data": {
            "text/plain": [
              "<tensorflow.python.keras.callbacks.History at 0x7f3a943b80f0>"
            ]
          },
          "metadata": {
            "tags": []
          },
          "execution_count": 49
        }
      ]
    },
    {
      "cell_type": "code",
      "metadata": {
        "id": "xQP5tVH8W6f2",
        "colab_type": "code",
        "colab": {
          "base_uri": "https://localhost:8080/",
          "height": 34
        },
        "outputId": "cd0b8658-6f46-4cfe-af31-8678fa496fda"
      },
      "source": [
        "# Evaluate the model on test set\n",
        "loss, accuracy = model.evaluate(x_test, ytest, verbose=0)\n",
        "# Print test accuracy\n",
        "print('Test accuracy:', accuracy)"
      ],
      "execution_count": 50,
      "outputs": [
        {
          "output_type": "stream",
          "text": [
            "Test accuracy: 0.6527600288391113\n"
          ],
          "name": "stdout"
        }
      ]
    }
  ]
}