{
  "nbformat": 4,
  "nbformat_minor": 0,
  "metadata": {
    "colab": {
      "name": "Computer Vision with CNN_R8_Project2_German Traffic Signs.ipynb",
      "provenance": [],
      "collapsed_sections": []
    },
    "kernelspec": {
      "name": "python3",
      "display_name": "Python 3"
    },
    "accelerator": "GPU"
  },
  "cells": [
    {
      "cell_type": "markdown",
      "metadata": {
        "id": "O9jAqShELHZI",
        "colab_type": "text"
      },
      "source": [
        "![alt text](https://drive.google.com/uc?export=view&id=1UXScsVx_Wni_JuDdB8LeTnM6jsPfIwkW)\n",
        "\n",
        "Proprietary content. © Great Learning. All Rights Reserved. Unauthorized use or distribution prohibited."
      ]
    },
    {
      "cell_type": "markdown",
      "metadata": {
        "id": "SRkFT8HtCZHS",
        "colab_type": "text"
      },
      "source": [
        "# German Traffic Sign Recognition\n",
        "Multi-class, single-image classification"
      ]
    },
    {
      "cell_type": "markdown",
      "metadata": {
        "id": "SJWdbMALTcGJ",
        "colab_type": "text"
      },
      "source": [
        "### Dataset\n",
        "The German Traffic Sign Benchmark is a multi-class, single-image classification challenge held at the International Joint Conference on Neural Networks (IJCNN) 2011. They cordially invite researchers from relevant fields to participate: The competition is designed to allow for participation without special domain knowledge. Their benchmark has the following properties:\n",
        "\n",
        "- Single-image, multi-class classification problem\n",
        "- More than 40 classes\n",
        "- More than 50,000 images in total\n",
        "- Large, lifelike database"
      ]
    },
    {
      "cell_type": "markdown",
      "metadata": {
        "id": "hRhJulWyIGMN",
        "colab_type": "text"
      },
      "source": [
        "#### Notes\n",
        "- For this project, we have reduced the number of images. There are around 16,500+ images in the dataset provided. You can check “label_details” folder for getting information about the classes.\n",
        "- If the model is taking too much time to get trained then you can reduce the number of classes. There are around 33 classes in the dataset, model should be trained on a minimum of 15 classes."
      ]
    },
    {
      "cell_type": "code",
      "metadata": {
        "id": "LAoz8r4mDH5r",
        "colab_type": "code",
        "colab": {
          "base_uri": "https://localhost:8080/",
          "height": 34
        },
        "outputId": "0cdde0c1-9db1-41d6-8e0c-00665a3f90f9"
      },
      "source": [
        "import tensorflow as tf\n",
        "print (tf.__version__)"
      ],
      "execution_count": 44,
      "outputs": [
        {
          "output_type": "stream",
          "text": [
            "2.3.0\n"
          ],
          "name": "stdout"
        }
      ]
    },
    {
      "cell_type": "code",
      "metadata": {
        "id": "DFCyQoJaTexj",
        "colab_type": "code",
        "colab": {}
      },
      "source": [
        "import matplotlib.pyplot as plt\n",
        "import pandas as pd\n",
        "import numpy as np"
      ],
      "execution_count": 45,
      "outputs": []
    },
    {
      "cell_type": "code",
      "metadata": {
        "id": "fKozlbB3DiJJ",
        "colab_type": "code",
        "colab": {
          "base_uri": "https://localhost:8080/",
          "height": 34
        },
        "outputId": "fc3d8985-b00c-4d32-ddb9-7a915ae2e367"
      },
      "source": [
        "from google.colab import drive\n",
        "drive.mount('/content/drive')"
      ],
      "execution_count": 46,
      "outputs": [
        {
          "output_type": "stream",
          "text": [
            "Drive already mounted at /content/drive; to attempt to forcibly remount, call drive.mount(\"/content/drive\", force_remount=True).\n"
          ],
          "name": "stdout"
        }
      ]
    },
    {
      "cell_type": "code",
      "metadata": {
        "id": "P10bBYY6ROhv",
        "colab_type": "code",
        "colab": {}
      },
      "source": [
        "#!unrar x \"/content/drive/My Drive/Data - German Traffic Sign Recognition.rar\""
      ],
      "execution_count": null,
      "outputs": []
    },
    {
      "cell_type": "markdown",
      "metadata": {
        "id": "qC37j3FUDVYd",
        "colab_type": "text"
      },
      "source": [
        "### Initialize ImageDataGenerator (5 Marks)\n",
        "- Rescale the images\n",
        "- Specify value for validation_split & get 75% data in training and 25% data in testing"
      ]
    },
    {
      "cell_type": "code",
      "metadata": {
        "id": "mTWSw_W4pbaj",
        "colab_type": "code",
        "colab": {}
      },
      "source": [
        "img_size = 30"
      ],
      "execution_count": 47,
      "outputs": []
    },
    {
      "cell_type": "code",
      "metadata": {
        "id": "OakETLlCBwy1",
        "colab_type": "code",
        "colab": {}
      },
      "source": [
        "img_generator= tf.keras.preprocessing.image.ImageDataGenerator(rescale=1./255.0,\n",
        "                                                               validation_split=0.25)"
      ],
      "execution_count": 48,
      "outputs": []
    },
    {
      "cell_type": "markdown",
      "metadata": {
        "id": "58e4ODapEVdx",
        "colab_type": "text"
      },
      "source": [
        "### Get training data from ImageDataGenerator (5 Marks)\n",
        "- Give directory path\n",
        "- Give target size\n",
        "- Give batch_size\n",
        "- Specify classes, if you wish to use less number of classes you need to give class names in a list (Atleast 15 classes should be there)\n",
        "- Specify class_mode\n",
        "- Specify color_mode\n",
        "- Specify subset\n",
        "\n",
        "You can get details here\n",
        "https://www.tensorflow.org/api_docs/python/tf/keras/preprocessing/image/ImageDataGenerator"
      ]
    },
    {
      "cell_type": "code",
      "metadata": {
        "id": "GSfT2cB4COgC",
        "colab_type": "code",
        "colab": {
          "base_uri": "https://localhost:8080/",
          "height": 34
        },
        "outputId": "f29171e5-974a-4c59-e467-b4e9c53db54b"
      },
      "source": [
        "#Build training generator. \n",
        "train_generator = img_generator.flow_from_directory('/content/drive/My Drive/Data - German Traffic Sign Recognition/Data - German Traffic Sign Recognition/Train',\n",
        "                                                    target_size=(img_size, img_size),\n",
        "                                                    batch_size=32,\n",
        "                                                    #classes=['10','11','12','13','14','15',\n",
        "                                                    # '16','17','18','19','20','21','22','23','24','25'],\n",
        "                                                    class_mode='categorical',\n",
        "                                                    color_mode='rgb',\n",
        "                                                    subset='training',\n",
        "                                                    seed=42)"
      ],
      "execution_count": 49,
      "outputs": [
        {
          "output_type": "stream",
          "text": [
            "Found 22124 images belonging to 33 classes.\n"
          ],
          "name": "stdout"
        }
      ]
    },
    {
      "cell_type": "markdown",
      "metadata": {
        "id": "GzYNcoV9Gawj",
        "colab_type": "text"
      },
      "source": [
        "### Get validation data from ImageDataGenerator (5 Marks)\n",
        "- Give directory path\n",
        "- Give target size\n",
        "- Give batch_size\n",
        "- Specify classes, if you wish to use less number of classes you need to give class names in a list (Atleast 15 classes should be there)\n",
        "- Specify class_mode\n",
        "- Specify color_mode\n",
        "- Specify subset\n",
        "\n",
        "You can get details here\n",
        "https://www.tensorflow.org/api_docs/python/tf/keras/preprocessing/image/ImageDataGenerator"
      ]
    },
    {
      "cell_type": "code",
      "metadata": {
        "id": "-m9zfw0AHIma",
        "colab_type": "code",
        "colab": {
          "base_uri": "https://localhost:8080/",
          "height": 34
        },
        "outputId": "9574ba1a-afd1-47f4-8e72-39c7356e1912"
      },
      "source": [
        "#Build test generator\n",
        "test_generator = img_generator.flow_from_directory('/content/drive/My Drive/Data - German Traffic Sign Recognition/Data - German Traffic Sign Recognition/Train',\n",
        "                                                   target_size=(img_size, img_size),\n",
        "                                                   batch_size=32,\n",
        "                                                   #classes=['10','11','12','13','14','15',\n",
        "                                                   # '16','17','18','19','20','21','22','23','24','25'],\n",
        "                                                   class_mode='categorical',\n",
        "                                                   color_mode='rgb',                                             \n",
        "                                                   subset='validation',\n",
        "                                                   seed=42)"
      ],
      "execution_count": 50,
      "outputs": [
        {
          "output_type": "stream",
          "text": [
            "Found 7364 images belonging to 33 classes.\n"
          ],
          "name": "stdout"
        }
      ]
    },
    {
      "cell_type": "code",
      "metadata": {
        "id": "EZjRSWlxsP5K",
        "colab_type": "code",
        "colab": {
          "base_uri": "https://localhost:8080/",
          "height": 51
        },
        "outputId": "8722c0c4-7a01-47f6-e664-93f047a93c29"
      },
      "source": [
        "#Lets check the features (images) and Labels (signal class) returned by ImageDataGenerator\n",
        "X, y = next(train_generator)\n",
        "\n",
        "print('Input features shape', X.shape)\n",
        "print('Actual labels shape', y.shape)"
      ],
      "execution_count": 51,
      "outputs": [
        {
          "output_type": "stream",
          "text": [
            "Input features shape (32, 30, 30, 3)\n",
            "Actual labels shape (32, 33)\n"
          ],
          "name": "stdout"
        }
      ]
    },
    {
      "cell_type": "markdown",
      "metadata": {
        "id": "S2fXxJz1I_SV",
        "colab_type": "text"
      },
      "source": [
        "### Define model (5 Marks)\n",
        "- Initialize a Sequential Model\n",
        "- Add Convolution, Maxpool, Dropout, Flatten & Dense layers according to your model architecture"
      ]
    },
    {
      "cell_type": "code",
      "metadata": {
        "id": "Fns3rEJ-DHQq",
        "colab_type": "code",
        "colab": {}
      },
      "source": [
        "#Clear any previous model from memory\n",
        "tf.keras.backend.clear_session()\n",
        "\n",
        "#Initialize model\n",
        "model = tf.keras.models.Sequential()\n",
        "\n",
        "#normalize data\n",
        "model.add(tf.keras.layers.BatchNormalization(input_shape=(img_size,img_size,3,)))\n",
        "model.add(tf.keras.layers.Conv2D(32, kernel_size=(5,5), activation='relu'))\n",
        "model.add(tf.keras.layers.Conv2D(64, kernel_size=(3,3), activation='relu'))\n",
        "model.add(tf.keras.layers.MaxPool2D(pool_size=(2,2)))\n",
        "model.add(tf.keras.layers.Dropout(rate=0.25))\n",
        "model.add(tf.keras.layers.Conv2D(64, kernel_size=(3,3), activation='relu'))\n",
        "model.add(tf.keras.layers.MaxPool2D(pool_size=(2,2)))\n",
        "model.add(tf.keras.layers.Dropout(rate=0.25))\n",
        "#Add Dense Layers after flattening the data\n",
        "model.add(tf.keras.layers.Flatten())\n",
        "model.add(tf.keras.layers.Dense(256, activation='relu'))\n",
        "model.add(tf.keras.layers.Dropout(rate=0.5))\n",
        "\n",
        "#Add Output Layer\n",
        "model.add(tf.keras.layers.Dense(33, activation='softmax'))"
      ],
      "execution_count": 59,
      "outputs": []
    },
    {
      "cell_type": "markdown",
      "metadata": {
        "id": "lRs36YJgJvI0",
        "colab_type": "text"
      },
      "source": [
        "### Compile the model (2 Marks)\n",
        "- Specify optimizer, loss & metrics"
      ]
    },
    {
      "cell_type": "code",
      "metadata": {
        "id": "jvgO3JPvDQpL",
        "colab_type": "code",
        "colab": {}
      },
      "source": [
        "#Specify Loass and Optimizer\n",
        "model.compile(optimizer='adam', loss='categorical_crossentropy', metrics=['accuracy'])"
      ],
      "execution_count": 60,
      "outputs": []
    },
    {
      "cell_type": "markdown",
      "metadata": {
        "id": "U_Q6ihfUJ6Hm",
        "colab_type": "text"
      },
      "source": [
        "### Get model summary (2 Marks)"
      ]
    },
    {
      "cell_type": "code",
      "metadata": {
        "id": "b3Sxnbo-lhfV",
        "colab_type": "code",
        "colab": {
          "base_uri": "https://localhost:8080/",
          "height": 561
        },
        "outputId": "a53cdf2d-02fc-4817-f93b-c0fd6b4ef5cf"
      },
      "source": [
        "#Model Summary\n",
        "model.summary()"
      ],
      "execution_count": 61,
      "outputs": [
        {
          "output_type": "stream",
          "text": [
            "Model: \"sequential\"\n",
            "_________________________________________________________________\n",
            "Layer (type)                 Output Shape              Param #   \n",
            "=================================================================\n",
            "batch_normalization (BatchNo (None, 30, 30, 3)         12        \n",
            "_________________________________________________________________\n",
            "conv2d (Conv2D)              (None, 26, 26, 32)        2432      \n",
            "_________________________________________________________________\n",
            "conv2d_1 (Conv2D)            (None, 24, 24, 64)        18496     \n",
            "_________________________________________________________________\n",
            "max_pooling2d (MaxPooling2D) (None, 12, 12, 64)        0         \n",
            "_________________________________________________________________\n",
            "dropout (Dropout)            (None, 12, 12, 64)        0         \n",
            "_________________________________________________________________\n",
            "conv2d_2 (Conv2D)            (None, 10, 10, 64)        36928     \n",
            "_________________________________________________________________\n",
            "max_pooling2d_1 (MaxPooling2 (None, 5, 5, 64)          0         \n",
            "_________________________________________________________________\n",
            "dropout_1 (Dropout)          (None, 5, 5, 64)          0         \n",
            "_________________________________________________________________\n",
            "flatten (Flatten)            (None, 1600)              0         \n",
            "_________________________________________________________________\n",
            "dense (Dense)                (None, 256)               409856    \n",
            "_________________________________________________________________\n",
            "dropout_2 (Dropout)          (None, 256)               0         \n",
            "_________________________________________________________________\n",
            "dense_1 (Dense)              (None, 33)                8481      \n",
            "=================================================================\n",
            "Total params: 476,205\n",
            "Trainable params: 476,199\n",
            "Non-trainable params: 6\n",
            "_________________________________________________________________\n"
          ],
          "name": "stdout"
        }
      ]
    },
    {
      "cell_type": "markdown",
      "metadata": {
        "id": "4mK8GNxFJ9vB",
        "colab_type": "text"
      },
      "source": [
        "### Fit the model (3 Marks)\n",
        "- Specify epochs\n",
        "- Specify batch_size\n",
        "- Give validation_data\n",
        "- Validation accuracy should be more than 90%"
      ]
    },
    {
      "cell_type": "code",
      "metadata": {
        "id": "9SLjprPDDYOs",
        "colab_type": "code",
        "colab": {}
      },
      "source": [
        "#Saving the best model using model checkpoint callback\n",
        "model_checkpoint=tf.keras.callbacks.ModelCheckpoint('flowers_cnn.h5', #where to save the model\n",
        "                                                    save_best_only=True, \n",
        "                                                    monitor='val_acc', \n",
        "                                                    mode='max',\n",
        "                                                    min_delta=0.001,\n",
        "                                                    patience=5,\n",
        "                                                    verbose=1)"
      ],
      "execution_count": 62,
      "outputs": []
    },
    {
      "cell_type": "code",
      "metadata": {
        "id": "Lbf9MRV1tu85",
        "colab_type": "code",
        "colab": {
          "base_uri": "https://localhost:8080/",
          "height": 187
        },
        "outputId": "b9a8d689-771a-4f74-ec41-2a91943cd92c"
      },
      "source": [
        "history = model.fit(train_generator,\n",
        "                    epochs=5,\n",
        "                    steps_per_epoch= 22124//32,  #Number of training images//batch_size\n",
        "                    validation_data=test_generator,\n",
        "                    validation_steps = 7364//32, #Number of test images//batch_size\n",
        "                    callbacks = [model_checkpoint])"
      ],
      "execution_count": 63,
      "outputs": [
        {
          "output_type": "stream",
          "text": [
            "Epoch 1/5\n",
            "691/691 [==============================] - 38s 56ms/step - loss: 0.9099 - accuracy: 0.7433 - val_loss: 0.2657 - val_accuracy: 0.9408\n",
            "Epoch 2/5\n",
            "691/691 [==============================] - 38s 55ms/step - loss: 0.1612 - accuracy: 0.9504 - val_loss: 0.1659 - val_accuracy: 0.9592\n",
            "Epoch 3/5\n",
            "691/691 [==============================] - 39s 57ms/step - loss: 0.1064 - accuracy: 0.9683 - val_loss: 0.1510 - val_accuracy: 0.9635\n",
            "Epoch 4/5\n",
            "691/691 [==============================] - 38s 55ms/step - loss: 0.0899 - accuracy: 0.9741 - val_loss: 0.1460 - val_accuracy: 0.9641\n",
            "Epoch 5/5\n",
            "691/691 [==============================] - 38s 55ms/step - loss: 0.0726 - accuracy: 0.9794 - val_loss: 0.1489 - val_accuracy: 0.9633\n"
          ],
          "name": "stdout"
        }
      ]
    },
    {
      "cell_type": "markdown",
      "metadata": {
        "id": "diNbnH_dKO8J",
        "colab_type": "text"
      },
      "source": [
        "### Draw plots (3 Marks)\n",
        "- Plot training accuracy and validation accuracy with respect to epochs\n",
        "- Plot training loss and validation loss with respect to epochs"
      ]
    },
    {
      "cell_type": "code",
      "metadata": {
        "id": "8uoIPTssDofN",
        "colab_type": "code",
        "colab": {
          "base_uri": "https://localhost:8080/",
          "height": 590
        },
        "outputId": "50346e37-1240-49e2-c2e0-63b867791f6b"
      },
      "source": [
        "plt.figure(0)\n",
        "plt.plot(history.history['accuracy'], label='training accuracy')\n",
        "plt.plot(history.history['val_accuracy'], label='val accuracy')\n",
        "plt.title('Accuracy')\n",
        "plt.xlabel('epochs')\n",
        "plt.ylabel('accuracy')\n",
        "plt.legend()\n",
        "\n",
        "plt.figure(1)\n",
        "plt.plot(history.history['loss'], label='training loss')\n",
        "plt.plot(history.history['val_loss'], label='val loss')\n",
        "plt.title('Loss')\n",
        "plt.xlabel('epochs')\n",
        "plt.ylabel('loss')\n",
        "plt.legend()"
      ],
      "execution_count": 64,
      "outputs": [
        {
          "output_type": "execute_result",
          "data": {
            "text/plain": [
              "<matplotlib.legend.Legend at 0x7f931b5436a0>"
            ]
          },
          "metadata": {
            "tags": []
          },
          "execution_count": 64
        },
        {
          "output_type": "display_data",
          "data": {
            "image/png": "[encoded data removed]",
            "text/plain": [
              "<Figure size 432x288 with 1 Axes>"
            ]
          },
          "metadata": {
            "tags": [],
            "needs_background": "light"
          }
        },
        {
          "output_type": "display_data",
          "data": {
            "image/png": "[encoded data removed]",
            "text/plain": [
              "<Figure size 432x288 with 1 Axes>"
            ]
          },
          "metadata": {
            "tags": [],
            "needs_background": "light"
          }
        }
      ]
    }
  ]
}